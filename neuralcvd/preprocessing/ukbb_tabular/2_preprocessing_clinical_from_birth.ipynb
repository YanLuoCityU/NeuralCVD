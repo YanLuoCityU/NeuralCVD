{
 "cells": [
  {
   "cell_type": "markdown",
   "metadata": {},
   "source": [
    "# Preprocessing"
   ]
  },
  {
   "cell_type": "code",
   "execution_count": 1,
   "metadata": {
    "ExecuteTime": {
     "end_time": "2020-11-04T12:31:49.436340Z",
     "start_time": "2020-11-04T12:31:48.732042Z"
    }
   },
   "outputs": [],
   "source": [
    "import pandas as pd\n",
    "import numpy as np\n",
    "import os\n",
    "import yaml\n",
    "from tqdm.notebook import trange, tqdm\n",
    "dataset_name = \"cvd_interactions\"\n",
    "path = \"/data/analysis/ag-reils/steinfej/code/umbrella/pre/ukbb\"\n",
    "data_path = \"/data/analysis/ag-reils/ag-reils-shared/cardioRS/data\"\n",
    "dataset_path = f\"{data_path}/2_datasets_pre/{dataset_name}\""
   ]
  },
  {
   "cell_type": "code",
   "execution_count": 2,
   "metadata": {
    "ExecuteTime": {
     "end_time": "2020-11-04T12:31:49.895222Z",
     "start_time": "2020-11-04T12:31:49.891332Z"
    }
   },
   "outputs": [],
   "source": [
    "from pathlib import Path\n",
    "Path(dataset_path).mkdir(parents=True, exist_ok=True)"
   ]
  },
  {
   "cell_type": "code",
   "execution_count": 3,
   "metadata": {
    "ExecuteTime": {
     "end_time": "2020-11-04T12:33:14.171198Z",
     "start_time": "2020-11-04T12:31:50.204540Z"
    }
   },
   "outputs": [],
   "source": [
    "data = pd.read_feather(f\"{data_path}/1_decoded/ukb_data.feather\")\n",
    "data_field = pd.read_feather(f\"{data_path}/1_decoded/ukb_data_field.feather\")\n",
    "data_columns = data.columns.to_list()"
   ]
  },
  {
   "cell_type": "markdown",
   "metadata": {},
   "source": [
    "## Mappings + Vocabulary"
   ]
  },
  {
   "cell_type": "code",
   "execution_count": 4,
   "metadata": {
    "ExecuteTime": {
     "end_time": "2020-11-04T12:34:05.867152Z",
     "start_time": "2020-11-04T12:33:16.878773Z"
    }
   },
   "outputs": [
    {
     "name": "stdout",
     "output_type": "stream",
     "text": [
      "502505\n",
      "502504\n"
     ]
    }
   ],
   "source": [
    "# Drop obviouse missing data\n",
    "print(len(data))\n",
    "data = data.dropna(subset=[\"sex_f31_0_0\"], axis=0)\n",
    "print(len(data))"
   ]
  },
  {
   "cell_type": "markdown",
   "metadata": {},
   "source": [
    "# Starting information"
   ]
  },
  {
   "cell_type": "code",
   "execution_count": 5,
   "metadata": {
    "ExecuteTime": {
     "end_time": "2020-11-04T12:34:05.872216Z",
     "start_time": "2020-11-04T12:34:05.869505Z"
    }
   },
   "outputs": [],
   "source": [
    "time0_col=\"birth_date\"\n",
    "# time0_col=\"date_of_attending_assessment_centre_f53_0_0\""
   ]
  },
  {
   "cell_type": "markdown",
   "metadata": {},
   "source": [
    "# Baseline covariates"
   ]
  },
  {
   "cell_type": "code",
   "execution_count": 6,
   "metadata": {
    "ExecuteTime": {
     "end_time": "2020-11-04T12:34:05.889725Z",
     "start_time": "2020-11-04T12:34:05.874587Z"
    }
   },
   "outputs": [],
   "source": [
    "def get_fields(fields, data, data_field):\n",
    "    f = data_field[data_field[\"field.showcase\"].isin(fields) & data_field[\"field.tab\"].str.contains(\"f\\\\.\\\\d+\\\\.0\\\\.\\\\d\")].copy()\n",
    "    f[\"field\"] = pd.Categorical(f[\"field.showcase\"], categories=fields, ordered=True)\n",
    "    f = f.sort_values(\"field\").reset_index().drop(\"field\", axis=1)\n",
    "    return f\n",
    "\n",
    "def get_fields_all(fields, data, data_field):\n",
    "    f = data_field[data_field[\"field.showcase\"].isin(fields)].copy()\n",
    "    f[\"field\"] = pd.Categorical(f[\"field.showcase\"], categories=fields, ordered=True)\n",
    "    f = f.sort_values(\"field\").reset_index().drop(\"field\", axis=1)\n",
    "    return f\n",
    "\n",
    "def get_data_fields(fields, data, data_field):\n",
    "    f = get_fields(fields, data, data_field)\n",
    "    return data[[\"eid\"]+f[\"col.name\"].to_list()].copy()\n",
    "\n",
    "def get_data_fields_all(fields, data, data_field):\n",
    "    f = get_fields_all(fields, data, data_field)\n",
    "    return data[[\"eid\"]+f[\"col.name\"].to_list()].copy()"
   ]
  },
  {
   "cell_type": "markdown",
   "metadata": {},
   "source": [
    "### Basics"
   ]
  },
  {
   "cell_type": "code",
   "execution_count": 7,
   "metadata": {
    "ExecuteTime": {
     "end_time": "2020-11-04T12:34:06.176411Z",
     "start_time": "2020-11-04T12:34:05.891730Z"
    }
   },
   "outputs": [
    {
     "name": "stdout",
     "output_type": "stream",
     "text": [
      "502504\n"
     ]
    },
    {
     "data": {
      "text/html": [
       "<div>\n",
       "<style scoped>\n",
       "    .dataframe tbody tr th:only-of-type {\n",
       "        vertical-align: middle;\n",
       "    }\n",
       "\n",
       "    .dataframe tbody tr th {\n",
       "        vertical-align: top;\n",
       "    }\n",
       "\n",
       "    .dataframe thead th {\n",
       "        text-align: right;\n",
       "    }\n",
       "</style>\n",
       "<table border=\"1\" class=\"dataframe\">\n",
       "  <thead>\n",
       "    <tr style=\"text-align: right;\">\n",
       "      <th></th>\n",
       "      <th>eid</th>\n",
       "      <th>age_at_recruitment_f21022_0_0</th>\n",
       "      <th>sex_f31_0_0</th>\n",
       "      <th>ethnic_background_f21000_0_0</th>\n",
       "      <th>townsend_deprivation_index_at_recruitment_f189_0_0</th>\n",
       "      <th>date_of_attending_assessment_centre_f53_0_0</th>\n",
       "    </tr>\n",
       "  </thead>\n",
       "  <tbody>\n",
       "    <tr>\n",
       "      <th>0</th>\n",
       "      <td>1000018</td>\n",
       "      <td>49.0</td>\n",
       "      <td>Female</td>\n",
       "      <td>White</td>\n",
       "      <td>-1.852930</td>\n",
       "      <td>2009-11-12</td>\n",
       "    </tr>\n",
       "    <tr>\n",
       "      <th>1</th>\n",
       "      <td>1000020</td>\n",
       "      <td>59.0</td>\n",
       "      <td>Male</td>\n",
       "      <td>White</td>\n",
       "      <td>0.204248</td>\n",
       "      <td>2008-02-19</td>\n",
       "    </tr>\n",
       "    <tr>\n",
       "      <th>2</th>\n",
       "      <td>1000037</td>\n",
       "      <td>59.0</td>\n",
       "      <td>Female</td>\n",
       "      <td>White</td>\n",
       "      <td>-3.498860</td>\n",
       "      <td>2008-11-11</td>\n",
       "    </tr>\n",
       "    <tr>\n",
       "      <th>3</th>\n",
       "      <td>1000043</td>\n",
       "      <td>63.0</td>\n",
       "      <td>Male</td>\n",
       "      <td>White</td>\n",
       "      <td>-5.351150</td>\n",
       "      <td>2009-06-03</td>\n",
       "    </tr>\n",
       "    <tr>\n",
       "      <th>4</th>\n",
       "      <td>1000051</td>\n",
       "      <td>51.0</td>\n",
       "      <td>Female</td>\n",
       "      <td>White</td>\n",
       "      <td>-1.799080</td>\n",
       "      <td>2006-06-10</td>\n",
       "    </tr>\n",
       "  </tbody>\n",
       "</table>\n",
       "</div>"
      ],
      "text/plain": [
       "       eid  age_at_recruitment_f21022_0_0 sex_f31_0_0  \\\n",
       "0  1000018                           49.0      Female   \n",
       "1  1000020                           59.0        Male   \n",
       "2  1000037                           59.0      Female   \n",
       "3  1000043                           63.0        Male   \n",
       "4  1000051                           51.0      Female   \n",
       "\n",
       "  ethnic_background_f21000_0_0  \\\n",
       "0                        White   \n",
       "1                        White   \n",
       "2                        White   \n",
       "3                        White   \n",
       "4                        White   \n",
       "\n",
       "   townsend_deprivation_index_at_recruitment_f189_0_0  \\\n",
       "0                                          -1.852930    \n",
       "1                                           0.204248    \n",
       "2                                          -3.498860    \n",
       "3                                          -5.351150    \n",
       "4                                          -1.799080    \n",
       "\n",
       "  date_of_attending_assessment_centre_f53_0_0  \n",
       "0                                  2009-11-12  \n",
       "1                                  2008-02-19  \n",
       "2                                  2008-11-11  \n",
       "3                                  2009-06-03  \n",
       "4                                  2006-06-10  "
      ]
     },
     "metadata": {},
     "output_type": "display_data"
    }
   ],
   "source": [
    "fields_basics = [\n",
    "    \"21022\", # age at recruitment\n",
    "    \"31\", # sex\n",
    "    \"21000\", # ethnicity\n",
    "    \"189\", # Townsend index\n",
    "    \"53\", # date of baseline assessment\n",
    "]\n",
    "\n",
    "temp = get_data_fields(fields_basics, data, data_field)\n",
    "\n",
    "temp[\"sex_f31_0_0\"] = temp[\"sex_f31_0_0\"].cat.set_categories([\"Female\", 'Male'], ordered=False)\n",
    "\n",
    "#temp[\"ethnic_background_f21000_0_0\"] = temp[\"ethnic_background_f21000_0_0\"].astype(\"string\")\n",
    "\n",
    "ethn_bg_def = {\"White\": [\"White\", \"British\", \"Irish\", \"Any other white background\"],\n",
    "                \"Mixed\": [\"Mixed\", \"White and Black Caribbean\", \"White and Black African\", \"White and Asian\", \"Any other mixed background\"],  \n",
    "                \"Asian\": [\"Asian or Asian British\", \"Indian\", \"Pakistani\", \"Bangladeshi\", \"Any other Asian background\"], \n",
    "                \"Black\": [\"Black or Black British\", \"Caribbean\", \"African\", \"Any other Black background\"],\n",
    "                \"Chinese\": [\"Chinese\"],  \n",
    "                np.nan: [\"Other ethnic group\", \"Do not know\", \"Prefer not to answer\"]}\n",
    "\n",
    "ethn_bg_dict = {}\n",
    "for key, values in ethn_bg_def.items(): \n",
    "    for value in values:\n",
    "        ethn_bg_dict[value]=key \n",
    "        \n",
    "temp[\"ethnic_background_f21000_0_0\"].replace(ethn_bg_dict, inplace=True)\n",
    "temp[\"ethnic_background_f21000_0_0\"] = temp[\"ethnic_background_f21000_0_0\"].astype(\"category\")\n",
    "\n",
    "#\n",
    "#temp[\"ethnic_background_f21000_0_0\"] = temp[\"ethnic_background_f21000_0_0\"].astype(\"category\").cat.set_categories(['White', 'Black', 'Asien', 'Mixed', 'Chinese'], ordered=False)\n",
    "\n",
    "basics = temp\n",
    "print(len(temp))\n",
    "display(temp.head())\n",
    "\n",
    "from dateutil.relativedelta import relativedelta\n",
    "calc_birth_date = [date_of_attending_assessment_centre - relativedelta(years=age_at_recruitment) \n",
    "                                                             for date_of_attending_assessment_centre, age_at_recruitment \n",
    "                                                             in zip(basics[\"date_of_attending_assessment_centre_f53_0_0\"], basics[\"age_at_recruitment_f21022_0_0\"])]\n",
    "basics = basics.assign(birth_date = calc_birth_date)\n",
    "\n",
    "\n",
    "basics.to_feather(os.path.join(path, dataset_path, 'temp_basics.feather'))"
   ]
  },
  {
   "cell_type": "code",
   "execution_count": 8,
   "metadata": {
    "ExecuteTime": {
     "end_time": "2020-11-04T12:34:06.186613Z",
     "start_time": "2020-11-04T12:34:06.178111Z"
    }
   },
   "outputs": [
    {
     "name": "stdout",
     "output_type": "stream",
     "text": [
      "[White, Black, NaN, Asian, Mixed, Chinese]\n",
      "Categories (5, object): [White, Black, Asian, Mixed, Chinese]\n"
     ]
    }
   ],
   "source": [
    " print(temp[\"ethnic_background_f21000_0_0\"].unique())"
   ]
  },
  {
   "cell_type": "markdown",
   "metadata": {},
   "source": [
    "### Questionnaire"
   ]
  },
  {
   "cell_type": "code",
   "execution_count": 9,
   "metadata": {
    "ExecuteTime": {
     "end_time": "2020-11-04T12:34:06.389467Z",
     "start_time": "2020-11-04T12:34:06.188206Z"
    }
   },
   "outputs": [
    {
     "name": "stdout",
     "output_type": "stream",
     "text": [
      "502504\n"
     ]
    },
    {
     "data": {
      "text/html": [
       "<div>\n",
       "<style scoped>\n",
       "    .dataframe tbody tr th:only-of-type {\n",
       "        vertical-align: middle;\n",
       "    }\n",
       "\n",
       "    .dataframe tbody tr th {\n",
       "        vertical-align: top;\n",
       "    }\n",
       "\n",
       "    .dataframe thead th {\n",
       "        text-align: right;\n",
       "    }\n",
       "</style>\n",
       "<table border=\"1\" class=\"dataframe\">\n",
       "  <thead>\n",
       "    <tr style=\"text-align: right;\">\n",
       "      <th></th>\n",
       "      <th>eid</th>\n",
       "      <th>overall_health_rating_f2178_0_0</th>\n",
       "      <th>smoking_status_f20116_0_0</th>\n",
       "      <th>alcohol_intake_frequency_f1558_0_0</th>\n",
       "    </tr>\n",
       "  </thead>\n",
       "  <tbody>\n",
       "    <tr>\n",
       "      <th>0</th>\n",
       "      <td>1000018</td>\n",
       "      <td>Fair</td>\n",
       "      <td>Current</td>\n",
       "      <td>Once or twice a week</td>\n",
       "    </tr>\n",
       "    <tr>\n",
       "      <th>1</th>\n",
       "      <td>1000020</td>\n",
       "      <td>Good</td>\n",
       "      <td>Current</td>\n",
       "      <td>Once or twice a week</td>\n",
       "    </tr>\n",
       "    <tr>\n",
       "      <th>2</th>\n",
       "      <td>1000037</td>\n",
       "      <td>Good</td>\n",
       "      <td>Previous</td>\n",
       "      <td>Once or twice a week</td>\n",
       "    </tr>\n",
       "    <tr>\n",
       "      <th>3</th>\n",
       "      <td>1000043</td>\n",
       "      <td>Fair</td>\n",
       "      <td>Previous</td>\n",
       "      <td>Three or four times a week</td>\n",
       "    </tr>\n",
       "    <tr>\n",
       "      <th>4</th>\n",
       "      <td>1000051</td>\n",
       "      <td>Poor</td>\n",
       "      <td>Never</td>\n",
       "      <td>One to three times a month</td>\n",
       "    </tr>\n",
       "  </tbody>\n",
       "</table>\n",
       "</div>"
      ],
      "text/plain": [
       "       eid overall_health_rating_f2178_0_0 smoking_status_f20116_0_0  \\\n",
       "0  1000018                            Fair                   Current   \n",
       "1  1000020                            Good                   Current   \n",
       "2  1000037                            Good                  Previous   \n",
       "3  1000043                            Fair                  Previous   \n",
       "4  1000051                            Poor                     Never   \n",
       "\n",
       "  alcohol_intake_frequency_f1558_0_0  \n",
       "0               Once or twice a week  \n",
       "1               Once or twice a week  \n",
       "2               Once or twice a week  \n",
       "3         Three or four times a week  \n",
       "4         One to three times a month  "
      ]
     },
     "metadata": {},
     "output_type": "display_data"
    }
   ],
   "source": [
    "fields_questionnaire = [\n",
    "    \"2178\", # Overall health\n",
    "    \"20116\", # Smoking status\n",
    "    \"1558\",\n",
    "]\n",
    "\n",
    "temp = get_data_fields(fields_questionnaire, data, data_field)\n",
    "\n",
    "temp[\"overall_health_rating_f2178_0_0\"] = temp[\"overall_health_rating_f2178_0_0\"]\\\n",
    "    .replace({\"Do not know\": np.nan, \"Prefer not to answer\": np.nan})\\\n",
    "    .astype(\"category\").cat.set_categories(['Poor', 'Fair', 'Good', 'Excellent'], ordered=True)\n",
    "\n",
    "\n",
    "temp[\"smoking_status_f20116_0_0\"] = temp[\"smoking_status_f20116_0_0\"]\\\n",
    "    .replace({\"Prefer not to answer\": np.nan}, inplace=False)\\\n",
    "    .astype(\"category\").cat.set_categories(['Current', 'Previous', 'Never'], ordered=True)\n",
    "\n",
    "temp[\"alcohol_intake_frequency_f1558_0_0\"] = temp[\"alcohol_intake_frequency_f1558_0_0\"]\\\n",
    "    .replace({\"Prefer not to answer\": np.nan}, inplace=False)\\\n",
    "    .astype(\"category\").cat.set_categories([\n",
    "        'Daily or almost daily', \n",
    "        'Three or four times a week', \n",
    "        'Once or twice a week',\n",
    "        'One to three times a month',\n",
    "        'Special occasions only', \n",
    "        'Never'], ordered=True)\n",
    "\n",
    "questionnaire = temp\n",
    "print(len(temp))\n",
    "display(temp.head())\n",
    "\n",
    "questionnaire.to_feather(os.path.join(path, dataset_path, 'temp_questionnaire.feather'))"
   ]
  },
  {
   "cell_type": "code",
   "execution_count": 10,
   "metadata": {
    "ExecuteTime": {
     "end_time": "2020-11-04T12:34:06.398168Z",
     "start_time": "2020-11-04T12:34:06.391082Z"
    }
   },
   "outputs": [
    {
     "name": "stdout",
     "output_type": "stream",
     "text": [
      "[Once or twice a week, Three or four times a week, One to three times a month, Daily or almost daily, Special occasions only, Never, NaN]\n",
      "Categories (6, object): [Daily or almost daily < Three or four times a week < Once or twice a week < One to three times a month < Special occasions only < Never]\n"
     ]
    }
   ],
   "source": [
    "print(temp[\"alcohol_intake_frequency_f1558_0_0\"].unique())"
   ]
  },
  {
   "cell_type": "markdown",
   "metadata": {},
   "source": [
    "### Physical measurements"
   ]
  },
  {
   "cell_type": "code",
   "execution_count": 11,
   "metadata": {
    "ExecuteTime": {
     "end_time": "2020-11-04T12:34:07.052989Z",
     "start_time": "2020-11-04T12:34:06.400858Z"
    }
   },
   "outputs": [
    {
     "name": "stdout",
     "output_type": "stream",
     "text": [
      "502504\n"
     ]
    },
    {
     "data": {
      "text/html": [
       "<div>\n",
       "<style scoped>\n",
       "    .dataframe tbody tr th:only-of-type {\n",
       "        vertical-align: middle;\n",
       "    }\n",
       "\n",
       "    .dataframe tbody tr th {\n",
       "        vertical-align: top;\n",
       "    }\n",
       "\n",
       "    .dataframe thead th {\n",
       "        text-align: right;\n",
       "    }\n",
       "</style>\n",
       "<table border=\"1\" class=\"dataframe\">\n",
       "  <thead>\n",
       "    <tr style=\"text-align: right;\">\n",
       "      <th></th>\n",
       "      <th>eid</th>\n",
       "      <th>body_mass_index_bmi_f21001_0_0</th>\n",
       "      <th>weight_f21002_0_0</th>\n",
       "      <th>pulse_wave_arterial_stiffness_index_f21021_0_0</th>\n",
       "      <th>pulse_wave_reflection_index_f4195_0_0</th>\n",
       "      <th>waist_circumference_f48_0_0</th>\n",
       "      <th>hip_circumference_f49_0_0</th>\n",
       "      <th>standing_height_f50_0_0</th>\n",
       "      <th>trunk_fat_percentage_f23127_0_0</th>\n",
       "      <th>body_fat_percentage_f23099_0_0</th>\n",
       "      <th>basal_metabolic_rate_f23105_0_0</th>\n",
       "      <th>forced_vital_capacity_fvc_best_measure_f20151_0_0</th>\n",
       "      <th>forced_expiratory_volume_in_1second_fev1_best_measure_f20150_0_0</th>\n",
       "      <th>fev1_fvc_ratio_zscore_f20258_0_0</th>\n",
       "      <th>peak_expiratory_flow_pef_f3064_0_2</th>\n",
       "      <th>peak_expiratory_flow_pef_f3064_0_1</th>\n",
       "      <th>peak_expiratory_flow_pef_f3064_0_0</th>\n",
       "      <th>systolic_blood_pressure_automated_reading_f4080</th>\n",
       "      <th>diastolic_blood_pressure_automated_reading_f4079</th>\n",
       "      <th>pulse_rate_automated_reading_f102</th>\n",
       "    </tr>\n",
       "  </thead>\n",
       "  <tbody>\n",
       "    <tr>\n",
       "      <th>0</th>\n",
       "      <td>1000018</td>\n",
       "      <td>26.5557</td>\n",
       "      <td>63.8</td>\n",
       "      <td>7.2770</td>\n",
       "      <td>80.0</td>\n",
       "      <td>85.0</td>\n",
       "      <td>107.0</td>\n",
       "      <td>155.0</td>\n",
       "      <td>37.5</td>\n",
       "      <td>39.5</td>\n",
       "      <td>5012.0</td>\n",
       "      <td>3.21</td>\n",
       "      <td>2.16</td>\n",
       "      <td>1.978</td>\n",
       "      <td>317.0</td>\n",
       "      <td>312.0</td>\n",
       "      <td>339.0</td>\n",
       "      <td>159.5</td>\n",
       "      <td>88.0</td>\n",
       "      <td>50.0</td>\n",
       "    </tr>\n",
       "    <tr>\n",
       "      <th>1</th>\n",
       "      <td>1000020</td>\n",
       "      <td>22.7465</td>\n",
       "      <td>70.7</td>\n",
       "      <td>NaN</td>\n",
       "      <td>NaN</td>\n",
       "      <td>87.8</td>\n",
       "      <td>94.4</td>\n",
       "      <td>176.3</td>\n",
       "      <td>33.4</td>\n",
       "      <td>28.7</td>\n",
       "      <td>6171.0</td>\n",
       "      <td>NaN</td>\n",
       "      <td>NaN</td>\n",
       "      <td>1.375</td>\n",
       "      <td>301.0</td>\n",
       "      <td>496.0</td>\n",
       "      <td>504.0</td>\n",
       "      <td>133.0</td>\n",
       "      <td>81.0</td>\n",
       "      <td>74.0</td>\n",
       "    </tr>\n",
       "    <tr>\n",
       "      <th>2</th>\n",
       "      <td>1000037</td>\n",
       "      <td>32.4211</td>\n",
       "      <td>78.9</td>\n",
       "      <td>NaN</td>\n",
       "      <td>NaN</td>\n",
       "      <td>101.0</td>\n",
       "      <td>112.0</td>\n",
       "      <td>156.0</td>\n",
       "      <td>47.5</td>\n",
       "      <td>48.4</td>\n",
       "      <td>5397.0</td>\n",
       "      <td>1.61</td>\n",
       "      <td>1.27</td>\n",
       "      <td>0.138</td>\n",
       "      <td>NaN</td>\n",
       "      <td>185.0</td>\n",
       "      <td>208.0</td>\n",
       "      <td>118.5</td>\n",
       "      <td>78.0</td>\n",
       "      <td>62.5</td>\n",
       "    </tr>\n",
       "    <tr>\n",
       "      <th>3</th>\n",
       "      <td>1000043</td>\n",
       "      <td>29.5679</td>\n",
       "      <td>95.8</td>\n",
       "      <td>11.1111</td>\n",
       "      <td>78.0</td>\n",
       "      <td>98.0</td>\n",
       "      <td>104.0</td>\n",
       "      <td>180.0</td>\n",
       "      <td>27.6</td>\n",
       "      <td>25.6</td>\n",
       "      <td>8711.0</td>\n",
       "      <td>4.14</td>\n",
       "      <td>2.84</td>\n",
       "      <td>1.096</td>\n",
       "      <td>557.0</td>\n",
       "      <td>513.0</td>\n",
       "      <td>530.0</td>\n",
       "      <td>141.5</td>\n",
       "      <td>93.5</td>\n",
       "      <td>64.5</td>\n",
       "    </tr>\n",
       "    <tr>\n",
       "      <th>4</th>\n",
       "      <td>1000051</td>\n",
       "      <td>41.0222</td>\n",
       "      <td>92.3</td>\n",
       "      <td>NaN</td>\n",
       "      <td>NaN</td>\n",
       "      <td>123.0</td>\n",
       "      <td>129.0</td>\n",
       "      <td>150.0</td>\n",
       "      <td>48.9</td>\n",
       "      <td>50.4</td>\n",
       "      <td>6100.0</td>\n",
       "      <td>NaN</td>\n",
       "      <td>NaN</td>\n",
       "      <td>0.518</td>\n",
       "      <td>NaN</td>\n",
       "      <td>NaN</td>\n",
       "      <td>NaN</td>\n",
       "      <td>117.0</td>\n",
       "      <td>81.0</td>\n",
       "      <td>79.0</td>\n",
       "    </tr>\n",
       "  </tbody>\n",
       "</table>\n",
       "</div>"
      ],
      "text/plain": [
       "       eid  body_mass_index_bmi_f21001_0_0  weight_f21002_0_0  \\\n",
       "0  1000018                         26.5557               63.8   \n",
       "1  1000020                         22.7465               70.7   \n",
       "2  1000037                         32.4211               78.9   \n",
       "3  1000043                         29.5679               95.8   \n",
       "4  1000051                         41.0222               92.3   \n",
       "\n",
       "   pulse_wave_arterial_stiffness_index_f21021_0_0  \\\n",
       "0                                          7.2770   \n",
       "1                                             NaN   \n",
       "2                                             NaN   \n",
       "3                                         11.1111   \n",
       "4                                             NaN   \n",
       "\n",
       "   pulse_wave_reflection_index_f4195_0_0  waist_circumference_f48_0_0  \\\n",
       "0                                   80.0                         85.0   \n",
       "1                                    NaN                         87.8   \n",
       "2                                    NaN                        101.0   \n",
       "3                                   78.0                         98.0   \n",
       "4                                    NaN                        123.0   \n",
       "\n",
       "   hip_circumference_f49_0_0  standing_height_f50_0_0  \\\n",
       "0                      107.0                    155.0   \n",
       "1                       94.4                    176.3   \n",
       "2                      112.0                    156.0   \n",
       "3                      104.0                    180.0   \n",
       "4                      129.0                    150.0   \n",
       "\n",
       "   trunk_fat_percentage_f23127_0_0  body_fat_percentage_f23099_0_0  \\\n",
       "0                             37.5                            39.5   \n",
       "1                             33.4                            28.7   \n",
       "2                             47.5                            48.4   \n",
       "3                             27.6                            25.6   \n",
       "4                             48.9                            50.4   \n",
       "\n",
       "   basal_metabolic_rate_f23105_0_0  \\\n",
       "0                           5012.0   \n",
       "1                           6171.0   \n",
       "2                           5397.0   \n",
       "3                           8711.0   \n",
       "4                           6100.0   \n",
       "\n",
       "   forced_vital_capacity_fvc_best_measure_f20151_0_0  \\\n",
       "0                                               3.21   \n",
       "1                                                NaN   \n",
       "2                                               1.61   \n",
       "3                                               4.14   \n",
       "4                                                NaN   \n",
       "\n",
       "   forced_expiratory_volume_in_1second_fev1_best_measure_f20150_0_0  \\\n",
       "0                                               2.16                  \n",
       "1                                                NaN                  \n",
       "2                                               1.27                  \n",
       "3                                               2.84                  \n",
       "4                                                NaN                  \n",
       "\n",
       "   fev1_fvc_ratio_zscore_f20258_0_0  peak_expiratory_flow_pef_f3064_0_2  \\\n",
       "0                             1.978                               317.0   \n",
       "1                             1.375                               301.0   \n",
       "2                             0.138                                 NaN   \n",
       "3                             1.096                               557.0   \n",
       "4                             0.518                                 NaN   \n",
       "\n",
       "   peak_expiratory_flow_pef_f3064_0_1  peak_expiratory_flow_pef_f3064_0_0  \\\n",
       "0                               312.0                               339.0   \n",
       "1                               496.0                               504.0   \n",
       "2                               185.0                               208.0   \n",
       "3                               513.0                               530.0   \n",
       "4                                 NaN                                 NaN   \n",
       "\n",
       "   systolic_blood_pressure_automated_reading_f4080  \\\n",
       "0                                            159.5   \n",
       "1                                            133.0   \n",
       "2                                            118.5   \n",
       "3                                            141.5   \n",
       "4                                            117.0   \n",
       "\n",
       "   diastolic_blood_pressure_automated_reading_f4079  \\\n",
       "0                                              88.0   \n",
       "1                                              81.0   \n",
       "2                                              78.0   \n",
       "3                                              93.5   \n",
       "4                                              81.0   \n",
       "\n",
       "   pulse_rate_automated_reading_f102  \n",
       "0                               50.0  \n",
       "1                               74.0  \n",
       "2                               62.5  \n",
       "3                               64.5  \n",
       "4                               79.0  "
      ]
     },
     "metadata": {},
     "output_type": "display_data"
    }
   ],
   "source": [
    "from statistics import mean\n",
    "\n",
    "fields_measurements = [\n",
    "#    \"100313\", # Walking speed !!! MISSING !!!\n",
    "    \"21001\", # BMI\n",
    "    \"21002\", # weight\n",
    "    \"4080\", # Syst. BP\n",
    "    \"4079\", # Diast. BP\n",
    "    \"102\",\n",
    "    \"21021\",\n",
    "    \"4195\",\n",
    "    \"48\",\n",
    "    \"49\",\n",
    "    \"50\",\n",
    "    \"23127\",\n",
    "    \"23099\",\n",
    "    \"23105\",\n",
    "    \"20151\",\n",
    "    \"20150\",\n",
    "    \"20258\",\n",
    "    \"3064\",\n",
    "    \n",
    "]\n",
    "temp = get_data_fields(fields_measurements, data, data_field)\n",
    "\n",
    "sbp_cols = [\"systolic_blood_pressure_automated_reading_f4080_0_0\", \"systolic_blood_pressure_automated_reading_f4080_0_1\"]\n",
    "dbp_cols = [\"diastolic_blood_pressure_automated_reading_f4079_0_0\", \"diastolic_blood_pressure_automated_reading_f4079_0_1\"]\n",
    "pr_cols = [\"pulse_rate_automated_reading_f102_0_0\", \"pulse_rate_automated_reading_f102_0_1\"]\n",
    "\n",
    "temp = temp.assign(systolic_blood_pressure_automated_reading_f4080 = temp[sbp_cols].mean(axis=1),\n",
    "                   diastolic_blood_pressure_automated_reading_f4079 = temp[dbp_cols].mean(axis=1),\n",
    "                   pulse_rate_automated_reading_f102 = temp[pr_cols].mean(axis=1))\\\n",
    "    .drop(sbp_cols + dbp_cols + pr_cols, axis=1)\n",
    "\n",
    "measurements = temp\n",
    "print(len(temp))\n",
    "display(temp.head())\n",
    "\n",
    "measurements.to_feather(os.path.join(path, dataset_path, 'temp_measurements.feather'))"
   ]
  },
  {
   "cell_type": "markdown",
   "metadata": {},
   "source": [
    "### Lab measurements"
   ]
  },
  {
   "cell_type": "code",
   "execution_count": 12,
   "metadata": {
    "ExecuteTime": {
     "end_time": "2020-11-04T12:34:07.647955Z",
     "start_time": "2020-11-04T12:34:07.055242Z"
    }
   },
   "outputs": [
    {
     "name": "stdout",
     "output_type": "stream",
     "text": [
      "502504\n"
     ]
    },
    {
     "data": {
      "text/html": [
       "<div>\n",
       "<style scoped>\n",
       "    .dataframe tbody tr th:only-of-type {\n",
       "        vertical-align: middle;\n",
       "    }\n",
       "\n",
       "    .dataframe tbody tr th {\n",
       "        vertical-align: top;\n",
       "    }\n",
       "\n",
       "    .dataframe thead th {\n",
       "        text-align: right;\n",
       "    }\n",
       "</style>\n",
       "<table border=\"1\" class=\"dataframe\">\n",
       "  <thead>\n",
       "    <tr style=\"text-align: right;\">\n",
       "      <th></th>\n",
       "      <th>eid</th>\n",
       "      <th>basophill_count_f30160_0_0</th>\n",
       "      <th>basophill_percentage_f30220_0_0</th>\n",
       "      <th>eosinophill_count_f30150_0_0</th>\n",
       "      <th>eosinophill_percentage_f30210_0_0</th>\n",
       "      <th>haematocrit_percentage_f30030_0_0</th>\n",
       "      <th>haemoglobin_concentration_f30020_0_0</th>\n",
       "      <th>high_light_scatter_reticulocyte_count_f30300_0_0</th>\n",
       "      <th>high_light_scatter_reticulocyte_percentage_f30290_0_0</th>\n",
       "      <th>immature_reticulocyte_fraction_f30280_0_0</th>\n",
       "      <th>...</th>\n",
       "      <th>phosphate_f30810_0_0</th>\n",
       "      <th>rheumatoid_factor_f30820_0_0</th>\n",
       "      <th>shbg_f30830_0_0</th>\n",
       "      <th>testosterone_f30850_0_0</th>\n",
       "      <th>total_bilirubin_f30840_0_0</th>\n",
       "      <th>total_protein_f30860_0_0</th>\n",
       "      <th>triglycerides_f30870_0_0</th>\n",
       "      <th>urate_f30880_0_0</th>\n",
       "      <th>urea_f30670_0_0</th>\n",
       "      <th>vitamin_d_f30890_0_0</th>\n",
       "    </tr>\n",
       "  </thead>\n",
       "  <tbody>\n",
       "    <tr>\n",
       "      <th>0</th>\n",
       "      <td>1000018</td>\n",
       "      <td>0.04</td>\n",
       "      <td>0.26</td>\n",
       "      <td>0.25</td>\n",
       "      <td>1.75</td>\n",
       "      <td>39.79</td>\n",
       "      <td>13.90</td>\n",
       "      <td>0.022</td>\n",
       "      <td>0.464</td>\n",
       "      <td>0.378</td>\n",
       "      <td>...</td>\n",
       "      <td>1.422</td>\n",
       "      <td>NaN</td>\n",
       "      <td>70.11</td>\n",
       "      <td>1.560</td>\n",
       "      <td>7.41</td>\n",
       "      <td>71.97</td>\n",
       "      <td>1.247</td>\n",
       "      <td>221.3</td>\n",
       "      <td>5.48</td>\n",
       "      <td>70.7</td>\n",
       "    </tr>\n",
       "    <tr>\n",
       "      <th>1</th>\n",
       "      <td>1000020</td>\n",
       "      <td>0.00</td>\n",
       "      <td>0.30</td>\n",
       "      <td>0.30</td>\n",
       "      <td>2.50</td>\n",
       "      <td>45.00</td>\n",
       "      <td>15.60</td>\n",
       "      <td>0.014</td>\n",
       "      <td>0.290</td>\n",
       "      <td>0.300</td>\n",
       "      <td>...</td>\n",
       "      <td>1.264</td>\n",
       "      <td>NaN</td>\n",
       "      <td>55.31</td>\n",
       "      <td>12.237</td>\n",
       "      <td>8.07</td>\n",
       "      <td>78.45</td>\n",
       "      <td>1.906</td>\n",
       "      <td>374.7</td>\n",
       "      <td>5.28</td>\n",
       "      <td>35.9</td>\n",
       "    </tr>\n",
       "    <tr>\n",
       "      <th>2</th>\n",
       "      <td>1000037</td>\n",
       "      <td>0.04</td>\n",
       "      <td>0.57</td>\n",
       "      <td>0.10</td>\n",
       "      <td>1.43</td>\n",
       "      <td>39.48</td>\n",
       "      <td>13.58</td>\n",
       "      <td>0.031</td>\n",
       "      <td>0.686</td>\n",
       "      <td>0.380</td>\n",
       "      <td>...</td>\n",
       "      <td>NaN</td>\n",
       "      <td>NaN</td>\n",
       "      <td>NaN</td>\n",
       "      <td>NaN</td>\n",
       "      <td>NaN</td>\n",
       "      <td>NaN</td>\n",
       "      <td>NaN</td>\n",
       "      <td>NaN</td>\n",
       "      <td>NaN</td>\n",
       "      <td>NaN</td>\n",
       "    </tr>\n",
       "    <tr>\n",
       "      <th>3</th>\n",
       "      <td>1000043</td>\n",
       "      <td>0.02</td>\n",
       "      <td>0.32</td>\n",
       "      <td>0.11</td>\n",
       "      <td>1.80</td>\n",
       "      <td>44.31</td>\n",
       "      <td>14.99</td>\n",
       "      <td>0.025</td>\n",
       "      <td>0.508</td>\n",
       "      <td>0.250</td>\n",
       "      <td>...</td>\n",
       "      <td>0.928</td>\n",
       "      <td>NaN</td>\n",
       "      <td>31.63</td>\n",
       "      <td>11.398</td>\n",
       "      <td>8.65</td>\n",
       "      <td>69.70</td>\n",
       "      <td>5.184</td>\n",
       "      <td>322.8</td>\n",
       "      <td>6.67</td>\n",
       "      <td>63.6</td>\n",
       "    </tr>\n",
       "    <tr>\n",
       "      <th>4</th>\n",
       "      <td>1000051</td>\n",
       "      <td>NaN</td>\n",
       "      <td>NaN</td>\n",
       "      <td>NaN</td>\n",
       "      <td>NaN</td>\n",
       "      <td>NaN</td>\n",
       "      <td>NaN</td>\n",
       "      <td>NaN</td>\n",
       "      <td>NaN</td>\n",
       "      <td>NaN</td>\n",
       "      <td>...</td>\n",
       "      <td>NaN</td>\n",
       "      <td>NaN</td>\n",
       "      <td>NaN</td>\n",
       "      <td>NaN</td>\n",
       "      <td>NaN</td>\n",
       "      <td>NaN</td>\n",
       "      <td>NaN</td>\n",
       "      <td>NaN</td>\n",
       "      <td>NaN</td>\n",
       "      <td>NaN</td>\n",
       "    </tr>\n",
       "  </tbody>\n",
       "</table>\n",
       "<p>5 rows × 62 columns</p>\n",
       "</div>"
      ],
      "text/plain": [
       "       eid  basophill_count_f30160_0_0  basophill_percentage_f30220_0_0  \\\n",
       "0  1000018                        0.04                             0.26   \n",
       "1  1000020                        0.00                             0.30   \n",
       "2  1000037                        0.04                             0.57   \n",
       "3  1000043                        0.02                             0.32   \n",
       "4  1000051                         NaN                              NaN   \n",
       "\n",
       "   eosinophill_count_f30150_0_0  eosinophill_percentage_f30210_0_0  \\\n",
       "0                          0.25                               1.75   \n",
       "1                          0.30                               2.50   \n",
       "2                          0.10                               1.43   \n",
       "3                          0.11                               1.80   \n",
       "4                           NaN                                NaN   \n",
       "\n",
       "   haematocrit_percentage_f30030_0_0  haemoglobin_concentration_f30020_0_0  \\\n",
       "0                              39.79                                 13.90   \n",
       "1                              45.00                                 15.60   \n",
       "2                              39.48                                 13.58   \n",
       "3                              44.31                                 14.99   \n",
       "4                                NaN                                   NaN   \n",
       "\n",
       "   high_light_scatter_reticulocyte_count_f30300_0_0  \\\n",
       "0                                             0.022   \n",
       "1                                             0.014   \n",
       "2                                             0.031   \n",
       "3                                             0.025   \n",
       "4                                               NaN   \n",
       "\n",
       "   high_light_scatter_reticulocyte_percentage_f30290_0_0  \\\n",
       "0                                              0.464       \n",
       "1                                              0.290       \n",
       "2                                              0.686       \n",
       "3                                              0.508       \n",
       "4                                                NaN       \n",
       "\n",
       "   immature_reticulocyte_fraction_f30280_0_0  ...  phosphate_f30810_0_0  \\\n",
       "0                                      0.378  ...                 1.422   \n",
       "1                                      0.300  ...                 1.264   \n",
       "2                                      0.380  ...                   NaN   \n",
       "3                                      0.250  ...                 0.928   \n",
       "4                                        NaN  ...                   NaN   \n",
       "\n",
       "   rheumatoid_factor_f30820_0_0  shbg_f30830_0_0  testosterone_f30850_0_0  \\\n",
       "0                           NaN            70.11                    1.560   \n",
       "1                           NaN            55.31                   12.237   \n",
       "2                           NaN              NaN                      NaN   \n",
       "3                           NaN            31.63                   11.398   \n",
       "4                           NaN              NaN                      NaN   \n",
       "\n",
       "   total_bilirubin_f30840_0_0  total_protein_f30860_0_0  \\\n",
       "0                        7.41                     71.97   \n",
       "1                        8.07                     78.45   \n",
       "2                         NaN                       NaN   \n",
       "3                        8.65                     69.70   \n",
       "4                         NaN                       NaN   \n",
       "\n",
       "   triglycerides_f30870_0_0  urate_f30880_0_0  urea_f30670_0_0  \\\n",
       "0                     1.247             221.3             5.48   \n",
       "1                     1.906             374.7             5.28   \n",
       "2                       NaN               NaN              NaN   \n",
       "3                     5.184             322.8             6.67   \n",
       "4                       NaN               NaN              NaN   \n",
       "\n",
       "   vitamin_d_f30890_0_0  \n",
       "0                  70.7  \n",
       "1                  35.9  \n",
       "2                   NaN  \n",
       "3                  63.6  \n",
       "4                   NaN  \n",
       "\n",
       "[5 rows x 62 columns]"
      ]
     },
     "metadata": {},
     "output_type": "display_data"
    }
   ],
   "source": [
    "fields_blood_count = [\n",
    "    \"30160\", #\tBasophill count\n",
    "    \"30220\", #\tBasophill percentage\n",
    "    \"30150\", #\tEosinophill count\n",
    "    \"30210\", #\tEosinophill percentage\n",
    "    \"30030\", #\tHaematocrit percentage\n",
    "    \"30020\", #\tHaemoglobin concentration\n",
    "    \"30300\", #\tHigh light scatter reticulocyte count\n",
    "    \"30290\", #\tHigh light scatter reticulocyte percentage\n",
    "    \"30280\", #\tImmature reticulocyte fraction\n",
    "    \"30120\", #\tLymphocyte count\n",
    "    \"30180\", #\tLymphocyte percentage\n",
    "    \"30050\", #\tMean corpuscular haemoglobin\n",
    "    \"30060\", #\tMean corpuscular haemoglobin concentration\n",
    "    \"30040\", #\tMean corpuscular volume\n",
    "    \"30100\", #\tMean platelet (thrombocyte) volume\n",
    "    \"30260\", #\tMean reticulocyte volume\n",
    "    \"30270\", #\tMean sphered cell volume\n",
    "    \"30130\", #\tMonocyte count\n",
    "    \"30190\", #\tMonocyte percentage\n",
    "    \"30140\", #\tNeutrophill count\n",
    "    \"30200\", #\tNeutrophill percentage\n",
    "    \"30170\", #\tNucleated red blood cell count\n",
    "    \"30230\", #\tNucleated red blood cell percentage\n",
    "    \"30080\", #\tPlatelet count\n",
    "    \"30090\", #\tPlatelet crit\n",
    "    \"30110\", #\tPlatelet distribution width\n",
    "    \"30010\", #\tRed blood cell (erythrocyte) count\n",
    "    \"30070\", #\tRed blood cell (erythrocyte) distribution width\n",
    "    \"30250\", #\tReticulocyte count\n",
    "    \"30240\", #\tReticulocyte percentage\n",
    "    \"30000\", #\tWhite blood cell (leukocyte) count\n",
    "]\n",
    "\n",
    "fields_blood_biochemistry = [\n",
    "    \"30620\",#\tAlanine aminotransferase\n",
    "    \"30600\",#\tAlbumin\n",
    "    \"30610\",#\tAlkaline phosphatase\n",
    "    \"30630\",#\tApolipoprotein A\n",
    "    \"30640\",#\tApolipoprotein B\n",
    "    \"30650\",#\tAspartate aminotransferase\n",
    "    \"30710\",#\tC-reactive protein\n",
    "    \"30680\",#\tCalcium\n",
    "    \"30690\",#\tCholesterol\n",
    "    \"30700\",#\tCreatinine\n",
    "    \"30720\",#\tCystatin C\n",
    "    \"30660\",#\tDirect bilirubin\n",
    "    \"30730\",#\tGamma glutamyltransferase\n",
    "    \"30740\",#\tGlucose\n",
    "    \"30750\",#\tGlycated haemoglobin (HbA1c)\n",
    "    \"30760\",#\tHDL cholesterol\n",
    "    \"30770\",#\tIGF-1\n",
    "    \"30780\",#\tLDL direct\n",
    "    \"30790\",#\tLipoprotein A\n",
    "    \"30800\",#\tOestradiol\n",
    "    \"30810\",#\tPhosphate\n",
    "    \"30820\",#\tRheumatoid factor\n",
    "    \"30830\",#\tSHBG\n",
    "    \"30850\",#\tTestosterone\n",
    "    \"30840\",#\tTotal bilirubin\n",
    "    \"30860\",#\tTotal protein\n",
    "    \"30870\",#\tTriglycerides\n",
    "    \"30880\",#\tUrate\n",
    "    \"30670\",#\tUrea\n",
    "    \"30890\",#\tVitamin D\n",
    "]\n",
    "\n",
    "fields_blood_infectious = [\n",
    "    \"23000\", #\t1gG antigen for Herpes Simplex virus-1\n",
    "    \"23001\", #\t2mgG unique antigen for Herpes Simplex virus-2\n",
    "    \"23049\", #\tAntigen assay QC indicator\n",
    "    \"23048\", #\tAntigen assay date\n",
    "    \"23026\", #\tBK VP1 antigen for Human Polyomavirus BKV\n",
    "    \"23039\", #\tCagA antigen for Helicobacter pylori\n",
    "    \"23043\", #\tCatalase antigen for Helicobacter pylori\n",
    "    \"23018\", #\tCore antigen for Hepatitis C Virus\n",
    "    \"23030\", #\tE6 antigen for Human Papillomavirus type-16\n",
    "    \"23031\", #\tE7 antigen for Human Papillomavirus type-16\n",
    "    \"23006\", #\tEA-D antigen for Epstein-Barr Virus\n",
    "    \"23004\", #\tEBNA-1 antigen for Epstein-Barr Virus\n",
    "    \"23042\", #\tGroEL antigen for Helicobacter pylori\n",
    "    \"23016\", #\tHBc antigen for Hepatitis B Virus\n",
    "    \"23017\", #\tHBe antigen for Hepatitis B Virus\n",
    "    \"23025\", #\tHIV-1 env antigen for Human Immunodeficiency Virus\n",
    "    \"23024\", #\tHIV-1 gag antigen for Human Immunodeficiency Virus\n",
    "    \"23023\", #\tHTLV-1 env antigen for Human T-Lymphotropic Virus 1\n",
    "    \"23022\", #\tHTLV-1 gag antigen for Human T-Lymphotropic Virus 1\n",
    "    \"23010\", #\tIE1A antigen for Human Herpesvirus-6\n",
    "    \"23011\", #\tIE1B antigen for Human Herpesvirus-6\n",
    "    \"23027\", #\tJC VP1 antigen for Human Polyomavirus JCV\n",
    "    \"23015\", #\tK8.1 antigen for Kaposi's Sarcoma-Associated Herpesvirus\n",
    "    \"23029\", #\tL1 antigen for Human Papillomavirus type-16\n",
    "    \"23032\", #\tL1 antigen for Human Papillomavirus type-18\n",
    "    \"23014\", #\tLANA antigen for Kaposi's Sarcoma-Associated Herpesvirus\n",
    "    \"23028\", #\tMC VP1 antigen for Merkel Cell Polyomavirus\n",
    "    \"23019\", #\tNS3 antigen for Hepatitis C Virus\n",
    "    \"23041\", #\tOMP antigen for Helicobacter pylori\n",
    "    \"23037\", #\tPorB antigen for Chlamydia trachomatis\n",
    "    \"23013\", #\tU14 antigen for Human Herpesvirus-7\n",
    "    \"23044\", #\tUreA antigen for Helicobacter pylori\n",
    "    \"23003\", #\tVCA p18 antigen for Epstein-Barr Virus\n",
    "    \"23040\", #\tVacA antigen for Helicobacter pylori\n",
    "    \"23005\", #\tZEBRA antigen for Epstein-Barr Virus\n",
    "    \"23002\", #\tgE / gI antigen for Varicella Zoster Virus\n",
    "    \"23034\", #\tmomp A antigen for Chlamydia trachomatis\n",
    "    \"23033\", #\tmomp D antigen for Chlamydia trachomatis\n",
    "    \"23012\", #\tp101 k antigen for Human Herpesvirus-6\n",
    "    \"23020\", #\tp22 antigen for Toxoplasma gondii\n",
    "    \"23038\", #\tpGP3 antigen for Chlamydia trachomatis\n",
    "    \"23009\", #\tpp 28 antigen for Human Cytomegalovirus\n",
    "    \"23008\", #\tpp 52 antigen for Human Cytomegalovirus\n",
    "    \"23007\", #\tpp150 Nter antigen for Human Cytomegalovirus\n",
    "    \"23021\", #\tsag1 antigen for Toxoplasma gondii\n",
    "    \"23035\", #\ttarp-D F1 antigen for Chlamydia trachomatis\n",
    "    \"23036\", #\ttarp-D F2 antigen for Chlamydia trachomatis\n",
    "]\n",
    "\n",
    "labs = temp = get_data_fields(fields_blood_count+fields_blood_biochemistry+fields_blood_infectious, data, data_field)\n",
    "print(len(temp))\n",
    "display(temp.head())\n",
    "\n",
    "labs.to_feather(os.path.join(path, dataset_path, 'temp_labs.feather'))"
   ]
  },
  {
   "cell_type": "markdown",
   "metadata": {},
   "source": [
    "### Family History"
   ]
  },
  {
   "cell_type": "code",
   "execution_count": 13,
   "metadata": {
    "ExecuteTime": {
     "end_time": "2020-11-04T12:34:25.838958Z",
     "start_time": "2020-11-04T12:34:07.649920Z"
    }
   },
   "outputs": [
    {
     "name": "stdout",
     "output_type": "stream",
     "text": [
      "502504\n"
     ]
    }
   ],
   "source": [
    "fh_list=[\"Heart disease\", \"Stroke\", \"High blood pressure\",  \"Diabetes\", \"Lung cancer\", \"Severe depression\", \"Parkinson's disease\", \"Alzheimer's disease/dementia\", \"Chronic bronchitis/emphysema\", \"Breast cancer\", \"Bowel cancer\"]\n",
    "with open(os.path.join(path, dataset_path, 'fh_list.yaml'), 'w') as file: yaml.dump(fh_list, file, default_flow_style=False)\n",
    "\n",
    "fields_family_history = [\n",
    "    \"20107\", # Family history \n",
    "    \"20110\" # Family history\n",
    "]\n",
    "\n",
    "raw = get_data_fields(fields_family_history, data, data_field)\n",
    "temp = pd.melt(raw, id_vars=[\"eid\"], value_vars=raw.drop(\"eid\", axis=1).columns.to_list(), var_name = \"field\", value_name=\"family_history\").drop(\"field\", axis=1)\n",
    "temp = temp[temp.family_history.isin(fh_list)].assign(family_history=temp[\"family_history\"].str.lower().replace(\" \", \"_\", regex=True))\n",
    "\n",
    "temp = temp.drop_duplicates().sort_values(\"eid\").reset_index().drop(\"index\", axis=1).assign(n=True)\n",
    "temp = pd.pivot_table(temp, index=\"eid\", columns=\"family_history\", values=\"n\", observed=True).add_prefix('fh_')\n",
    "family_history = temp = data[[\"eid\"]].copy().merge(temp, how=\"left\", on=\"eid\").fillna(False)\n",
    "\n",
    "print(len(temp))\n",
    "temp.head()\n",
    "\n",
    "family_history.to_feather(os.path.join(path, dataset_path, 'temp_family_history.feather'))"
   ]
  },
  {
   "cell_type": "markdown",
   "metadata": {},
   "source": [
    "## Medications"
   ]
  },
  {
   "cell_type": "code",
   "execution_count": 14,
   "metadata": {
    "ExecuteTime": {
     "end_time": "2020-11-04T12:34:25.842601Z",
     "start_time": "2020-11-04T12:34:25.840607Z"
    }
   },
   "outputs": [],
   "source": [
    "# https://list.essentialmeds.org/?showRemoved=0\n",
    "# essential medicines WHO?!"
   ]
  },
  {
   "cell_type": "code",
   "execution_count": 15,
   "metadata": {
    "ExecuteTime": {
     "end_time": "2020-11-04T12:34:32.471831Z",
     "start_time": "2020-11-04T12:34:25.844339Z"
    }
   },
   "outputs": [],
   "source": [
    "atc_mapping = pd.read_csv(f\"{path}/mapping/atc/atc_matched_list.csv\")\n",
    "athena_concepts = pd.read_csv(f\"{data_path}/athena_vocabulary/CONCEPT.csv\", sep=\"\\t\").assign(vocabulary_id = lambda x: x.vocabulary_id.astype(\"string\"), concept_class_id = lambda x: x.concept_class_id.astype(\"string\"))\n",
    "atc_concepts = athena_concepts[athena_concepts.vocabulary_id==\"ATC\"]\n",
    "atc2_concepts = atc_concepts[atc_concepts.concept_class_id==\"ATC 2nd\"].sort_values(\"concept_code\")\n",
    "medication_list = dict(zip([x.lower().replace(\" \", \"_\") for x in atc2_concepts.concept_name.to_list()], [[x] for x in atc2_concepts.concept_code.to_list()]))\n",
    "medication_list_extra = {\n",
    "    \"antihypertensives\": [\"C02\"],\n",
    "    \"statins\": [\"C10A\", \"C10B\"],\n",
    "    \"ass\": [\"B01\"],\n",
    "    \"atypical_antipsychotics\" : [\"N05\"],\n",
    "    \"glucocorticoids\" : [\"H02\"]                        \n",
    "}\n",
    "medication_list.update(medication_list_extra)\n",
    "\n",
    "with open(os.path.join(path, dataset_path, 'medication_list.yaml'), 'w') as file: yaml.dump(medication_list, file, default_flow_style=False)"
   ]
  },
  {
   "cell_type": "code",
   "execution_count": null,
   "metadata": {},
   "outputs": [],
   "source": [
    "def had_medication_before(data, data_field, medications, atc_mapping):\n",
    "    fields = [\"20003\"]\n",
    "    raw = get_data_fields(fields, data, data_field)\n",
    "    temp = pd.melt(raw, id_vars=[\"eid\"], value_vars=raw.drop(\"eid\", axis=1).columns.to_list(), var_name = \"field\", value_name=\"UKBB_code\").drop(\"field\", axis=1).drop_duplicates()\n",
    "\n",
    "    temp.UKBB_code = temp.UKBB_code.astype(str)\n",
    "    temp = temp[temp.UKBB_code!=\"None\"].copy()\n",
    "    temp.UKBB_code = temp.UKBB_code.astype(int)\n",
    "\n",
    "    temp_atc = temp.merge(atc_mapping, how=\"left\", on=\"UKBB_code\").sort_values(\"eid\").reset_index(drop=True).dropna(subset=[\"ATC_code\"], axis=0)\n",
    "    temp_atc.ATC_code = temp_atc.ATC_code.astype(\"string\")\n",
    "    temp = data[[\"eid\"]].copy()\n",
    "    for med, med_codes in tqdm(medication_list.items()):\n",
    "        regex_str = \"^\"+\"|^\".join(med_codes)\n",
    "        df = temp_atc[temp_atc.ATC_code.str.contains(regex_str, case=False)][[\"eid\"]]\\\n",
    "            .drop_duplicates(subset=[\"eid\"])\\\n",
    "            .assign(medication=True)\n",
    "        temp[med] = temp.merge(df, how=\"left\", on=\"eid\").fillna(False).medication\n",
    "        \n",
    "    return temp.sort_values(\"eid\")"
   ]
  },
  {
   "cell_type": "code",
   "execution_count": 34,
   "metadata": {
    "ExecuteTime": {
     "end_time": "2020-11-04T12:34:32.481137Z",
     "start_time": "2020-11-04T12:34:32.473698Z"
    }
   },
   "outputs": [],
   "source": [
    "def had_diagnosis_before_per_ph(df_before, ph, ph_codes, temp):\n",
    "   # regex = \"|\".join(ph_codes)\n",
    "    #df_ph = df_before.set_index(\"meaning\").loc[ph_codes][[\"eid\"]]\\\n",
    "    #        .drop_duplicates(subset=[\"eid\"])\\\n",
    "    #        .assign(phenotype=True) \n",
    "    df_ph = df_before[df_before.meaning.isin(ph_codes)][[\"eid\"]]\\\n",
    "            .drop_duplicates(subset=[\"eid\"])\\\n",
    "            .assign(phenotype=True) \n",
    "    #df_ph = df_before[df_before.meaning.str.contains(regex, case=False)][[\"eid\"]]\\\n",
    "    #        .drop_duplicates(subset=[\"eid\"])\\\n",
    "    #        .assign(phenotype=True)   \n",
    "    return temp.merge(df_ph, how=\"left\", on=\"eid\").fillna(False).phenotype\n",
    "\n",
    "def had_diagnosis_before(data, diagnoses_codes, phenotypes, time0=time0_col):\n",
    "    diagnoses_codes_time = diagnoses_codes.merge(data[[\"eid\", time0]], how=\"left\", on=\"eid\")\n",
    "    \n",
    "    temp = data[[\"eid\"]].copy()\n",
    "    df_before = diagnoses_codes_time[diagnoses_codes_time.date < diagnoses_codes_time[time0]]\n",
    "                                                                                         \n",
    "    df_phs = Parallel(n_jobs=20, require=\"sharedmem\")(delayed(had_diagnosis_before_per_ph)(df_before, ph, phenotypes[ph], temp) for ph in tqdm(list(phenotypes)))\n",
    "    for ph, df_ph_series in zip(tqdm(list(phenotypes)), df_phs): temp[ph] = df_ph_series#temp.merge(df_ph, how=\"left\", on=\"eid\").fillna(False).phenotype\n",
    "    \n",
    "    return temp.sort_values(\"eid\")  #reduce(lambda left,right: pd.merge(left,right,on=['eid'], how='left'), df_phs)."
   ]
  },
  {
   "cell_type": "code",
   "execution_count": 35,
   "metadata": {
    "ExecuteTime": {
     "end_time": "2020-11-04T12:36:14.425612Z",
     "start_time": "2020-11-04T12:34:32.482863Z"
    }
   },
   "outputs": [
    {
     "data": {
      "application/vnd.jupyter.widget-view+json": {
       "model_id": "13ef8609a6b64b219928981b7752c608",
       "version_major": 2,
       "version_minor": 0
      },
      "text/plain": [
       "HBox(children=(FloatProgress(value=0.0, max=98.0), HTML(value='')))"
      ]
     },
     "metadata": {},
     "output_type": "display_data"
    },
    {
     "name": "stdout",
     "output_type": "stream",
     "text": [
      "\n",
      "502504\n"
     ]
    }
   ],
   "source": [
    "medications = had_medication_before(data, data_field, medication_list, atc_mapping)\n",
    "print(len(medications))\n",
    "medications.head(100)\n",
    "\n",
    "medications.to_feather(os.path.join(path, dataset_path, 'temp_medications.feather'))"
   ]
  },
  {
   "cell_type": "markdown",
   "metadata": {},
   "source": [
    "## Diagnoses and events"
   ]
  },
  {
   "cell_type": "code",
   "execution_count": 36,
   "metadata": {
    "ExecuteTime": {
     "end_time": "2020-11-04T12:37:14.667281Z",
     "start_time": "2020-11-04T12:36:14.427693Z"
    }
   },
   "outputs": [
    {
     "name": "stderr",
     "output_type": "stream",
     "text": [
      "/home/steinfej/miniconda3/envs/python/lib/python3.7/site-packages/IPython/core/interactiveshell.py:3072: DtypeWarning: Columns (5,6,9) have mixed types.Specify dtype option on import or set low_memory=False.\n",
      "  interactivity=interactivity, compiler=compiler, result=result)\n",
      "/home/steinfej/miniconda3/envs/python/lib/python3.7/site-packages/IPython/core/interactiveshell.py:3072: DtypeWarning: Columns (11) have mixed types.Specify dtype option on import or set low_memory=False.\n",
      "  interactivity=interactivity, compiler=compiler, result=result)\n"
     ]
    }
   ],
   "source": [
    "vocab_dir = f\"{data_path}/athena_vocabulary_covid\"\n",
    "vocab = {\n",
    "    \"concept\": pd.read_csv(f\"{vocab_dir}/CONCEPT.csv\", sep='\\t'),\n",
    "    \"domain\": pd.read_csv(f\"{vocab_dir}/DOMAIN.csv\", sep='\\t'),\n",
    "    \"class\": pd.read_csv(f\"{vocab_dir}/CONCEPT_CLASS.csv\", sep='\\t'),\n",
    "    \"relationship\": pd.read_csv(f\"{vocab_dir}/RELATIONSHIP.csv\", sep='\\t'),\n",
    "    \"drug_strength\": pd.read_csv(f\"{vocab_dir}/DRUG_STRENGTH.csv\", sep='\\t'),\n",
    "    \"vocabulary\": pd.read_csv(f\"{vocab_dir}/VOCABULARY.csv\", sep='\\t'),\n",
    "    \"concept_synonym\": pd.read_csv(f\"{vocab_dir}/CONCEPT_SYNONYM.csv\", sep='\\t'),\n",
    "    \"concept_ancestor\": pd.read_csv(f\"{vocab_dir}/CONCEPT_ANCESTOR.csv\", sep='\\t'),\n",
    "    \"concept_relationship\": pd.read_csv(f\"{vocab_dir}/CONCEPT_RELATIONSHIP.csv\", sep='\\t')                       \n",
    "}"
   ]
  },
  {
   "cell_type": "markdown",
   "metadata": {},
   "source": [
    "### Definitions"
   ]
  },
  {
   "cell_type": "code",
   "execution_count": 16,
   "metadata": {
    "ExecuteTime": {
     "end_time": "2020-11-04T12:37:14.772869Z",
     "start_time": "2020-11-04T12:37:14.669541Z"
    }
   },
   "outputs": [],
   "source": [
    "coding1836 = pd.read_csv(f\"{path}/mapping/codings/coding1836.tsv\", sep=\"\\t\").rename(columns={\"coding\":\"code\"})\n",
    "phecodes = pd.read_csv(f\"{path}/mapping/phecodes/phecode_icd10.csv\")\n",
    "def phenotype_children(phecodes, phenotype_list):\n",
    "    l={}\n",
    "    phecodes = phecodes.dropna(subset=[\"Phenotype\"], axis=0)\n",
    "    for ph, ph_names in phenotype_list.items():\n",
    "        regex = \"|\".join(ph_names)\n",
    "        l[ph] = list(phecodes[phecodes.Phenotype.str.contains(regex, case=False)].ICD10.str.replace(\"\\\\.\", \"\").str.slice(0, 3).unique())\n",
    "    return l"
   ]
  },
  {
   "cell_type": "code",
   "execution_count": 38,
   "metadata": {
    "ExecuteTime": {
     "end_time": "2020-11-04T12:37:14.851438Z",
     "start_time": "2020-11-04T12:37:14.774599Z"
    }
   },
   "outputs": [],
   "source": [
    "snomed_core = pd.read_csv(f\"{path}/mapping/snomed_core_list.txt\", sep=\"|\")"
   ]
  },
  {
   "cell_type": "code",
   "execution_count": 39,
   "metadata": {
    "ExecuteTime": {
     "end_time": "2020-11-04T12:37:14.909023Z",
     "start_time": "2020-11-04T12:37:14.853286Z"
    }
   },
   "outputs": [],
   "source": [
    "snomed_core = snomed_core.query(\"SNOMED_CONCEPT_STATUS == 'Current'\").copy()\n",
    "new = snomed_core.SNOMED_FSN.str.split(\"(\", n=1, expand=True)\n",
    "snomed_core[\"snomed_name\"] = new[0].str.rstrip(' ')\n",
    "snomed_core[\"snomed_type\"] = new[1].str.rstrip(')')\n",
    "snomed_core_data = snomed_core#.query(\"(snomed_type=='disorder' | snomed_type=='finding') & USAGE>0.01\")"
   ]
  },
  {
   "cell_type": "code",
   "execution_count": 40,
   "metadata": {
    "ExecuteTime": {
     "end_time": "2020-11-04T12:37:14.914973Z",
     "start_time": "2020-11-04T12:37:14.910857Z"
    }
   },
   "outputs": [],
   "source": [
    "snomed_names = snomed_core_data.snomed_name.to_list()\n",
    "snomed_names = [str(item).lower().strip().replace(\" \", \"_\").replace(\";\", \"\").replace(\",\", \"\") for item in snomed_names]"
   ]
  },
  {
   "cell_type": "code",
   "execution_count": 42,
   "metadata": {
    "ExecuteTime": {
     "end_time": "2020-11-04T12:39:55.342937Z",
     "start_time": "2020-11-04T12:37:14.916906Z"
    }
   },
   "outputs": [
    {
     "data": {
      "application/vnd.jupyter.widget-view+json": {
       "model_id": "989d1908f8624958a92da3602ad125f1",
       "version_major": 2,
       "version_minor": 0
      },
      "text/plain": [
       "HBox(children=(FloatProgress(value=0.0, max=6181.0), HTML(value='')))"
      ]
     },
     "metadata": {},
     "output_type": "display_data"
    },
    {
     "name": "stdout",
     "output_type": "stream",
     "text": [
      "\n"
     ]
    }
   ],
   "source": [
    "phenotype_list_snomed = dict(zip(snomed_names, snomed_core_data.SNOMED_CID.to_list()))\n",
    "snomed_ids = vocab[\"concept\"].query(\"vocabulary_id == 'SNOMED'\").concept_id.to_list()\n",
    "icd10_ids = vocab[\"concept\"].query(\"vocabulary_id == 'ICD10CM'\").concept_id.to_list()\n",
    "\n",
    "ph_to_icd10_mapping = {}\n",
    "\n",
    "def map_snomed_to_icd10(ph, snomed_code, concept, concept_ancestor, concept_relationship):\n",
    "    concept_ids = concept.query(\"vocabulary_id == 'SNOMED' & concept_code == @snomed_code\").concept_id.to_list()\n",
    "    snomed_desc_ids = concept_ancestor.query(\"ancestor_concept_id== @concept_ids\").descendant_concept_id.to_list()\n",
    "    ph_desc = concept.query(\"concept_id == @snomed_desc_ids\").query(\"vocabulary_id == 'SNOMED'\")\n",
    "    l_ph_desc_ids = ph_desc.concept_id.to_list()\n",
    "    ph_icd10_ids = list(concept_relationship.query(\"concept_id_1==@l_ph_desc_ids\").query(\"concept_id_2 == @icd10_ids\").concept_id_2.unique())\n",
    "    #ph_icd10_ids = list(concept_relationship.set_index(\"concept_id_1\").query(\"index==@l_ph_desc_ids\").query(\"concept_id_2 == @icd10_ids\").query(\"relationship_id == 'Mapped from'\").concept_id_2.unique()\n",
    "    \n",
    "    #ph_icd10_ids = list(temp.concept_id_2.unique())\n",
    "    df = concept.query(\"concept_id == @ph_icd10_ids & vocabulary_id == 'ICD10CM'\")\n",
    "    icd10_list = list(df[~df.concept_code.str.contains(\"OMOP\", na=False)].concept_code.unique())\n",
    "    icd10_list = sorted(list(set([e[:3] for e in icd10_list])))\n",
    "    #print(f\"{ph}: {icd10_list}\")\n",
    "    return {ph: sorted(list(dict.fromkeys([str(e) for e in icd10_list])))}\n",
    "\n",
    "from joblib import Parallel, delayed\n",
    "concept_ids = vocab[\"concept\"].query(\"(vocabulary_id == 'SNOMED') | (vocabulary_id == 'ICD10CM')\")\n",
    "vocab_concept_ids = concept_ids.concept_id.to_list()\n",
    "concept_ancestor = vocab[\"concept_ancestor\"][[\"ancestor_concept_id\", \"descendant_concept_id\"]].query(\"ancestor_concept_id == @vocab_concept_ids\")\n",
    "concept_rel = vocab[\"concept_relationship\"][[\"concept_id_1\", \"concept_id_2\", \"relationship_id\"]].query(\"(concept_id_1 == @vocab_concept_ids) & (concept_id_2 == @vocab_concept_ids) & (relationship_id == 'Mapped from')\")\n",
    "icd10_codes = Parallel(n_jobs=10, require=\"sharedmem\")(delayed(map_snomed_to_icd10)(ph, snomed_code, \n",
    "                                                              concept_ids, concept_ancestor, concept_rel) for ph, snomed_code in tqdm(phenotype_list_snomed.items()))"
   ]
  },
  {
   "cell_type": "code",
   "execution_count": 43,
   "metadata": {
    "ExecuteTime": {
     "end_time": "2020-11-04T12:39:55.348009Z",
     "start_time": "2020-11-04T12:39:55.344704Z"
    }
   },
   "outputs": [],
   "source": [
    "l10_snomed = {}\n",
    "for ph in icd10_codes: l10_snomed.update(ph)"
   ]
  },
  {
   "cell_type": "code",
   "execution_count": 44,
   "metadata": {
    "ExecuteTime": {
     "end_time": "2020-11-04T12:39:55.468545Z",
     "start_time": "2020-11-04T12:39:55.349545Z"
    }
   },
   "outputs": [],
   "source": [
    "phenotype_list_basic = {\n",
    "    \"coronary_heart_disease\": [\"Ischemic heart disease\"],\n",
    "    \"myocardial_infarction\": [\"Myocardial infarction\"],\n",
    "    \"stroke\": [\"Cerebrovascular disease\"],\n",
    "    \"diabetes1\" : [\"Type 1 diabetes\"],\n",
    "    \"diabetes2\" : [\"Diabetes mellitus\", \"Type 2 diabetes\"],\n",
    "    \"chronic_kidney_disease\": [\"Chronic kidney disease\", \"chronic renal failure\"],\n",
    "    \"atrial_fibrillation\": [\"Atrial fibrillation\", \"Atrial flutter\", \"paroxysmal tachycardia\"],\n",
    "    \"migraine\": [\"Migraine\"],\n",
    "    \"rheumatoid_arthritis\": [\"Rheumatoid arthritis\"],\n",
    "    \"systemic_lupus_erythematosus\": [\"Systemic lupus erythematosus\"],\n",
    "    \"severe_mental_illness\": [\"Schizophrenia\", \"bipolar\", \"Major depressive disorder\"],\n",
    "    \"erectile_dysfunction\" : [\"Erectile dysfunction\"],  \n",
    "}\n",
    "\n",
    "l10_basic = phenotype_children(phecodes, phenotype_list_basic)"
   ]
  },
  {
   "cell_type": "code",
   "execution_count": 45,
   "metadata": {
    "ExecuteTime": {
     "end_time": "2020-11-04T12:39:55.473556Z",
     "start_time": "2020-11-04T12:39:55.471051Z"
    }
   },
   "outputs": [],
   "source": [
    "l10_all = l10_basic\n",
    "for key, value in l10_snomed.items(): \n",
    "    if key not in l10_basic: l10_all[key] = value"
   ]
  },
  {
   "cell_type": "code",
   "execution_count": 46,
   "metadata": {
    "ExecuteTime": {
     "end_time": "2020-11-04T12:39:55.620916Z",
     "start_time": "2020-11-04T12:39:55.475137Z"
    }
   },
   "outputs": [],
   "source": [
    "l10 = {k: v for k, v in l10_all.items() if len(v)!=0}\n",
    "\n",
    "#phenotype_list = {k: v for k, v in phenotype_list.items() if k in list(l10.keys())}\n",
    "\n",
    "with open(os.path.join(path, dataset_path, 'phenotype_list.yaml'), 'w') as file: yaml.dump(l10, file, default_flow_style=False)"
   ]
  },
  {
   "cell_type": "markdown",
   "metadata": {},
   "source": [
    "### 1. Self Reported"
   ]
  },
  {
   "cell_type": "code",
   "execution_count": 47,
   "metadata": {
    "ExecuteTime": {
     "end_time": "2020-11-04T12:43:13.288198Z",
     "start_time": "2020-11-04T12:43:13.264683Z"
    }
   },
   "outputs": [],
   "source": [
    "coding609 = pd.read_csv(f\"{path}/mapping/codings/coding609.tsv\", sep=\"\\t\").rename(columns={\"coding\":\"code\"})"
   ]
  },
  {
   "cell_type": "code",
   "execution_count": 48,
   "metadata": {
    "ExecuteTime": {
     "end_time": "2020-11-04T12:43:13.304423Z",
     "start_time": "2020-11-04T12:43:13.289982Z"
    }
   },
   "outputs": [],
   "source": [
    "from datetime import datetime, timedelta\n",
    "\n",
    "def datetime_from_dec_year(dec_year):\n",
    "    start = dec_year\n",
    "    year = int(start)\n",
    "    rem = start - year\n",
    "\n",
    "    base = datetime(year, 1, 1)\n",
    "    result = base + timedelta(seconds=(base.replace(year=base.year + 1) - base).total_seconds() * rem)\n",
    "    #result.strftime(\"%Y-%m-%d\")\n",
    "    return result.date()\n",
    "\n",
    "def extract_map_self_reported(data, data_field, code_map):\n",
    "    pbar = tqdm(total=16)\n",
    "    ### codes\n",
    "    fields = [\"20002\"]; pbar.update(1)\n",
    "    raw = get_data_fields_all(fields, data, data_field); pbar.update(1)\n",
    "    col = \"noncancer_illness_code_selfreported_f20002\"; pbar.update(1)\n",
    "    temp = pd.wide_to_long(raw, stubnames=[col], i=\"eid\", j=\"instance_index\", sep=\"_\", suffix=\"\\w+\").reset_index(); pbar.update(1)\n",
    "    codes = temp.rename(columns={col:\"code\"})\\\n",
    "        .assign(code=lambda x: x.code.astype(str))\\\n",
    "        .replace(\"None\", np.nan) \\\n",
    "        .dropna(subset=[\"code\"], axis=0)\\\n",
    "        .assign(code=lambda x: x.code.astype(int)) \\\n",
    "        .merge(code_map, how=\"left\",on=\"code\") \\\n",
    "        .dropna(subset=[\"meaning\"], axis=0)\\\n",
    "        .sort_values([\"eid\", \"instance_index\"]) \\\n",
    "        .reset_index(drop=True); pbar.update(1)\n",
    "    \n",
    "    ### dates\n",
    "    fields = [\"20008\"]; pbar.update(1)\n",
    "    raw = get_data_fields_all(fields, data, data_field); pbar.update(1)\n",
    "    col=\"interpolated_year_when_noncancer_illness_first_diagnosed_f20008\"; pbar.update(1)\n",
    "    temp = pd.wide_to_long(raw, stubnames=[col], i=\"eid\", j=\"instance_index\", sep=\"_\", suffix=\"\\w+\").reset_index(); pbar.update(1)\n",
    "    dates = temp.rename(columns={col:\"date\"})\\\n",
    "        .dropna(subset=[\"date\"], axis=0)\\\n",
    "        .sort_values([\"eid\", \"instance_index\"]) \\\n",
    "        .reset_index(drop=True); pbar.update(1)\n",
    "\n",
    "    dates = dates[dates.date!=-1]; pbar.update(1)\n",
    "    dates = dates[dates.date!=-3]; pbar.update(1)\n",
    "    dates.date = dates.date.apply(datetime_from_dec_year); pbar.update(1)\n",
    "    \n",
    "    test = codes.merge(dates, how=\"left\", on=[\"eid\", \"instance_index\"]).assign(origin=\"self_reported\").copy(); pbar.update(1)\n",
    "    \n",
    "    test[\"instance_index\"] = test[\"instance_index\"].astype(\"string\"); pbar.update(1)\n",
    "    test[['instance','n']] = test.instance_index.str.split(\"_\",expand=True); pbar.update(1)\n",
    "    pbar.close()\n",
    "    \n",
    "    return test[[\"eid\", \"origin\", 'instance','n', \"code\", \"meaning\", \"date\"]]"
   ]
  },
  {
   "cell_type": "code",
   "execution_count": 49,
   "metadata": {
    "ExecuteTime": {
     "end_time": "2020-11-04T12:46:00.098893Z",
     "start_time": "2020-11-04T12:43:13.432479Z"
    }
   },
   "outputs": [
    {
     "data": {
      "application/vnd.jupyter.widget-view+json": {
       "model_id": "7af3e55ecb424d5fbbd303f1f5b67a66",
       "version_major": 2,
       "version_minor": 0
      },
      "text/plain": [
       "HBox(children=(FloatProgress(value=0.0, max=16.0), HTML(value='')))"
      ]
     },
     "metadata": {},
     "output_type": "display_data"
    },
    {
     "name": "stdout",
     "output_type": "stream",
     "text": [
      "\n"
     ]
    }
   ],
   "source": [
    "codes_self_reported = extract_map_self_reported(data, data_field, coding609)"
   ]
  },
  {
   "cell_type": "markdown",
   "metadata": {},
   "source": [
    "### 2. Primary Care"
   ]
  },
  {
   "cell_type": "raw",
   "metadata": {},
   "source": [
    "# 2. Primary Care\n",
    "fields = c(\n",
    "    42040 # GP clinical event records\n",
    ")\n",
    "# extract covariates at baseline (Instance 0)\n",
    "def = data_field %>% filter((field.showcase %in% fields),ignore.case = TRUE)\n",
    "diagnoses_primary_care = data[, append(\"eid\", def$col.name)]\n",
    "head(diagnoses_primary_care)"
   ]
  },
  {
   "cell_type": "markdown",
   "metadata": {},
   "source": [
    "### 3. Hospital episode statistics"
   ]
  },
  {
   "cell_type": "code",
   "execution_count": 12,
   "metadata": {
    "ExecuteTime": {
     "end_time": "2020-11-04T12:46:08.959617Z",
     "start_time": "2020-11-04T12:46:00.100618Z"
    }
   },
   "outputs": [],
   "source": [
    "codes_hospital_records = pd.read_feather(f\"{data_path}/1_decoded/codes_hospital_records.feather\").drop(\"level\", axis=1)"
   ]
  },
  {
   "cell_type": "markdown",
   "metadata": {},
   "source": [
    "### Combine diagnoses and events"
   ]
  },
  {
   "cell_type": "code",
   "execution_count": 51,
   "metadata": {
    "ExecuteTime": {
     "end_time": "2020-11-04T12:46:25.115010Z",
     "start_time": "2020-11-04T12:46:08.961388Z"
    }
   },
   "outputs": [
    {
     "data": {
      "text/html": [
       "<div>\n",
       "<style scoped>\n",
       "    .dataframe tbody tr th:only-of-type {\n",
       "        vertical-align: middle;\n",
       "    }\n",
       "\n",
       "    .dataframe tbody tr th {\n",
       "        vertical-align: top;\n",
       "    }\n",
       "\n",
       "    .dataframe thead th {\n",
       "        text-align: right;\n",
       "    }\n",
       "</style>\n",
       "<table border=\"1\" class=\"dataframe\">\n",
       "  <thead>\n",
       "    <tr style=\"text-align: right;\">\n",
       "      <th></th>\n",
       "      <th>eid</th>\n",
       "      <th>origin</th>\n",
       "      <th>instance</th>\n",
       "      <th>n</th>\n",
       "      <th>code</th>\n",
       "      <th>meaning</th>\n",
       "      <th>date</th>\n",
       "    </tr>\n",
       "  </thead>\n",
       "  <tbody>\n",
       "    <tr>\n",
       "      <th>0</th>\n",
       "      <td>1000018</td>\n",
       "      <td>hes_icd10</td>\n",
       "      <td>0</td>\n",
       "      <td>1</td>\n",
       "      <td>S0240</td>\n",
       "      <td>S02</td>\n",
       "      <td>2005-06-02</td>\n",
       "    </tr>\n",
       "    <tr>\n",
       "      <th>1</th>\n",
       "      <td>1000018</td>\n",
       "      <td>hes_icd10</td>\n",
       "      <td>0</td>\n",
       "      <td>2</td>\n",
       "      <td>W188</td>\n",
       "      <td>W18</td>\n",
       "      <td>2005-06-02</td>\n",
       "    </tr>\n",
       "    <tr>\n",
       "      <th>2</th>\n",
       "      <td>1000018</td>\n",
       "      <td>hes_icd10</td>\n",
       "      <td>0</td>\n",
       "      <td>3</td>\n",
       "      <td>K37</td>\n",
       "      <td>K37</td>\n",
       "      <td>1998-05-11</td>\n",
       "    </tr>\n",
       "    <tr>\n",
       "      <th>3</th>\n",
       "      <td>1000018</td>\n",
       "      <td>hes_icd10</td>\n",
       "      <td>0</td>\n",
       "      <td>4</td>\n",
       "      <td>K37</td>\n",
       "      <td>K37</td>\n",
       "      <td>1998-05-16</td>\n",
       "    </tr>\n",
       "    <tr>\n",
       "      <th>4</th>\n",
       "      <td>1000018</td>\n",
       "      <td>hes_icd10</td>\n",
       "      <td>0</td>\n",
       "      <td>5</td>\n",
       "      <td>K37</td>\n",
       "      <td>K37</td>\n",
       "      <td>1998-06-01</td>\n",
       "    </tr>\n",
       "  </tbody>\n",
       "</table>\n",
       "</div>"
      ],
      "text/plain": [
       "       eid     origin instance  n   code meaning        date\n",
       "0  1000018  hes_icd10        0  1  S0240     S02  2005-06-02\n",
       "1  1000018  hes_icd10        0  2   W188     W18  2005-06-02\n",
       "2  1000018  hes_icd10        0  3    K37     K37  1998-05-11\n",
       "3  1000018  hes_icd10        0  4    K37     K37  1998-05-16\n",
       "4  1000018  hes_icd10        0  5    K37     K37  1998-06-01"
      ]
     },
     "execution_count": 51,
     "metadata": {},
     "output_type": "execute_result"
    }
   ],
   "source": [
    "diagnoses_codes = codes_self_reported.append(codes_hospital_records).sort_values([\"eid\", \"instance\", \"n\"]).dropna(subset=[\"date\"], axis=0)\n",
    "diagnoses_codes.head()"
   ]
  },
  {
   "cell_type": "code",
   "execution_count": 52,
   "metadata": {},
   "outputs": [
    {
     "name": "stdout",
     "output_type": "stream",
     "text": [
      "<class 'pandas.core.frame.DataFrame'>\n",
      "RangeIndex: 13339466 entries, 0 to 13339465\n",
      "Data columns (total 7 columns):\n",
      " #   Column    Dtype \n",
      "---  ------    ----- \n",
      " 0   eid       int64 \n",
      " 1   origin    object\n",
      " 2   instance  object\n",
      " 3   n         object\n",
      " 4   code      object\n",
      " 5   meaning   object\n",
      " 6   date      object\n",
      "dtypes: int64(1), object(6)\n",
      "memory usage: 712.4+ MB\n"
     ]
    }
   ],
   "source": [
    "diagnoses_codes.reset_index(drop=True).info()"
   ]
  },
  {
   "cell_type": "code",
   "execution_count": 53,
   "metadata": {},
   "outputs": [
    {
     "name": "stdout",
     "output_type": "stream",
     "text": [
      "<class 'pandas.core.frame.DataFrame'>\n",
      "RangeIndex: 12547626 entries, 0 to 12547625\n",
      "Data columns (total 7 columns):\n",
      " #   Column    Dtype  \n",
      "---  ------    -----  \n",
      " 0   eid       int32  \n",
      " 1   origin    object \n",
      " 2   instance  float64\n",
      " 3   n         int32  \n",
      " 4   code      object \n",
      " 5   meaning   object \n",
      " 6   date      object \n",
      "dtypes: float64(1), int32(2), object(4)\n",
      "memory usage: 574.4+ MB\n"
     ]
    }
   ],
   "source": [
    "codes_hospital_records.info()"
   ]
  },
  {
   "cell_type": "code",
   "execution_count": 54,
   "metadata": {},
   "outputs": [],
   "source": [
    "diagnoses_codes.reset_index(drop=True).assign(eid = lambda x: x.eid.astype(int),\n",
    "                                              origin = lambda x: x.origin.astype(str),\n",
    "                                              instance = lambda x: x.instance.astype(int),\n",
    "                                              n = lambda x: x.n.astype(int),\n",
    "                                              code = lambda x: x.code.astype(str), \n",
    "                                              meaning = lambda x: x.meaning.astype(str))\\\n",
    "    .to_feather(os.path.join(path, dataset_path, 'temp_diagnoses_codes.feather'))"
   ]
  },
  {
   "cell_type": "code",
   "execution_count": 13,
   "metadata": {},
   "outputs": [],
   "source": [
    "diagnoses_codes = pd.read_feather(os.path.join(path, dataset_path, 'temp_diagnoses_codes.feather'))"
   ]
  },
  {
   "cell_type": "code",
   "execution_count": 58,
   "metadata": {
    "ExecuteTime": {
     "end_time": "2020-11-04T12:46:26.189927Z",
     "start_time": "2020-11-04T12:46:25.117069Z"
    }
   },
   "outputs": [],
   "source": [
    "from joblib import Parallel, delayed\n",
    "from functools import reduce\n",
    "from numba import jit\n",
    "\n",
    "def had_diagnosis_before_per_ph(df_before, ph, ph_codes, temp):\n",
    "   # regex = \"|\".join(ph_codes)\n",
    "    #df_ph = df_before.set_index(\"meaning\").loc[ph_codes][[\"eid\"]]\\\n",
    "    #        .drop_duplicates(subset=[\"eid\"])\\\n",
    "    #        .assign(phenotype=True) \n",
    "    df_ph = df_before[df_before.meaning.isin(ph_codes)][[\"eid\"]]\\\n",
    "            .drop_duplicates(subset=[\"eid\"])\\\n",
    "            .assign(phenotype=True) \n",
    "    #df_ph = df_before[df_before.meaning.str.contains(regex, case=False)][[\"eid\"]]\\\n",
    "    #        .drop_duplicates(subset=[\"eid\"])\\\n",
    "    #        .assign(phenotype=True)   \n",
    "    return temp.merge(df_ph, how=\"left\", on=\"eid\").fillna(False).phenotype\n",
    "\n",
    "def had_diagnosis_before(data, diagnoses_codes, phenotypes, time0=time0_col):\n",
    "    diagnoses_codes_time = diagnoses_codes.merge(data[[\"eid\", time0]], how=\"left\", on=\"eid\")\n",
    "    \n",
    "    temp = data[[\"eid\"]].copy()\n",
    "    df_before = diagnoses_codes_time[diagnoses_codes_time.date < diagnoses_codes_time[time0]]\n",
    "                                                                                         \n",
    "    df_phs = Parallel(n_jobs=20, require=\"sharedmem\")(delayed(had_diagnosis_before_per_ph)(df_before, ph, phenotypes[ph], temp) for ph in tqdm(list(phenotypes)))\n",
    "    for ph, df_ph_series in zip(tqdm(list(phenotypes)), df_phs): temp[ph] = df_ph_series#temp.merge(df_ph, how=\"left\", on=\"eid\").fillna(False).phenotype\n",
    "    \n",
    "    return temp.sort_values(\"eid\")  #reduce(lambda left,right: pd.merge(left,right,on=['eid'], how='left'), df_phs)."
   ]
  },
  {
   "cell_type": "raw",
   "metadata": {
    "jupyter": {
     "source_hidden": true
    }
   },
   "source": [
    "from joblib import Parallel, delayed\n",
    "from functools import reduce\n",
    "from numba import jit\n",
    "\n",
    "def had_diagnosis_before_per_ph(df_before, ph, ph_codes, temp):\n",
    "    regex = \"|\".join(ph_codes)\n",
    "    df_ph = df_before[df_before.meaning.str.contains(regex, case=False)][[\"eid\"]]\\\n",
    "            .drop_duplicates(subset=[\"eid\"])\\\n",
    "            .assign(phenotype=True)   \n",
    "    return temp.merge(df_ph, how=\"left\", on=\"eid\").fillna(False).phenotype\n",
    "\n",
    "def had_diagnosis_before(data, diagnoses_codes, phenotypes, time0=time0_col):\n",
    "    diagnoses_codes_time = diagnoses_codes.merge(data[[\"eid\", time0]], how=\"left\", on=\"eid\")\n",
    "    \n",
    "    temp = data[[\"eid\"]].copy()\n",
    "    df_before = diagnoses_codes_time[diagnoses_codes_time.date < diagnoses_codes_time[time0]]\n",
    "                                                                                         \n",
    "    df_phs = Parallel(n_jobs=30, require=\"sharedmem\")(delayed(had_diagnosis_before_per_ph)(df_before, ph, phenotypes[ph], temp) for ph in tqdm(list(phenotypes)))\n",
    "    for ph, ph_series in zip(tqdm(list(phenotypes)), df_phs): temp[ph] = ph_series\n",
    "    \n",
    "    return temp.sort_values(\"eid\")  #reduce(lambda left,right: pd.merge(left,right,on=['eid'], how='left'), df_phs)."
   ]
  },
  {
   "cell_type": "raw",
   "metadata": {
    "jupyter": {
     "source_hidden": true
    }
   },
   "source": [
    "phenotypes = l10\n",
    "time0 = time0_col\n",
    "diagnoses_codes_time = diagnoses_codes.merge(data[[\"eid\", time0]], how=\"left\", on=\"eid\")\n",
    "\n",
    "temp = data[[\"eid\"]].copy()\n",
    "df_before = diagnoses_codes_time[diagnoses_codes_time.date < diagnoses_codes_time[time0]]\n",
    "\n",
    "df_phs = Parallel(n_jobs=10, require=\"sharedmem\")(delayed(had_diagnosis_before_per_ph)(df_before, ph, phenotypes[ph], temp) for ph in tqdm(list(phenotypes)[0:100]))"
   ]
  },
  {
   "cell_type": "raw",
   "metadata": {
    "jupyter": {
     "source_hidden": true
    }
   },
   "source": [
    "def had_diagnosis_before(data, diagnoses_codes, phenotypes, time0=time0_col):\n",
    "    diagnoses_codes_time = diagnoses_codes.merge(data[[\"eid\", time0]], how=\"left\", on=\"eid\")\n",
    "    \n",
    "    temp = data[[\"eid\"]].copy()\n",
    "    df_before = diagnoses_codes_time[diagnoses_codes_time.date < diagnoses_codes_time[time0]]\n",
    "    for ph, ph_codes in tqdm(phenotypes.items()):\n",
    "        regex = \"|\".join(ph_codes)\n",
    "        df_ph = df_before[df_before.meaning.str.contains(regex, case=False)][[\"eid\"]]\\\n",
    "            .drop_duplicates(subset=[\"eid\"])\\\n",
    "            .assign(phenotype=True)\n",
    "        temp[ph] = temp.merge(df_ph, how=\"left\", on=\"eid\").fillna(False).phenotype\n",
    "       \n",
    "    return temp.sort_values(\"eid\")"
   ]
  },
  {
   "cell_type": "code",
   "execution_count": 61,
   "metadata": {
    "ExecuteTime": {
     "end_time": "2020-11-04T13:17:52.922023Z",
     "start_time": "2020-11-04T12:46:26.191314Z"
    }
   },
   "outputs": [
    {
     "data": {
      "application/vnd.jupyter.widget-view+json": {
       "model_id": "6bea6215cd7a462ea5e12e755d4a70ed",
       "version_major": 2,
       "version_minor": 0
      },
      "text/plain": [
       "HBox(children=(FloatProgress(value=0.0, max=3521.0), HTML(value='')))"
      ]
     },
     "metadata": {},
     "output_type": "display_data"
    },
    {
     "name": "stdout",
     "output_type": "stream",
     "text": [
      "\n",
      "\n"
     ]
    },
    {
     "data": {
      "application/vnd.jupyter.widget-view+json": {
       "model_id": "30afdcb70eb84793aea68e13921cb0c4",
       "version_major": 2,
       "version_minor": 0
      },
      "text/plain": [
       "HBox(children=(FloatProgress(value=0.0, max=3521.0), HTML(value='')))"
      ]
     },
     "metadata": {},
     "output_type": "display_data"
    },
    {
     "name": "stdout",
     "output_type": "stream",
     "text": [
      "\n",
      "502504\n"
     ]
    },
    {
     "data": {
      "text/html": [
       "<div>\n",
       "<style scoped>\n",
       "    .dataframe tbody tr th:only-of-type {\n",
       "        vertical-align: middle;\n",
       "    }\n",
       "\n",
       "    .dataframe tbody tr th {\n",
       "        vertical-align: top;\n",
       "    }\n",
       "\n",
       "    .dataframe thead th {\n",
       "        text-align: right;\n",
       "    }\n",
       "</style>\n",
       "<table border=\"1\" class=\"dataframe\">\n",
       "  <thead>\n",
       "    <tr style=\"text-align: right;\">\n",
       "      <th></th>\n",
       "      <th>eid</th>\n",
       "      <th>coronary_heart_disease</th>\n",
       "      <th>myocardial_infarction</th>\n",
       "      <th>stroke</th>\n",
       "      <th>diabetes1</th>\n",
       "      <th>diabetes2</th>\n",
       "      <th>chronic_kidney_disease</th>\n",
       "      <th>atrial_fibrillation</th>\n",
       "      <th>migraine</th>\n",
       "      <th>rheumatoid_arthritis</th>\n",
       "      <th>...</th>\n",
       "      <th>sleep_terror_disorder</th>\n",
       "      <th>acute_frontal_sinusitis</th>\n",
       "      <th>benign_neoplasm_of_pancreas</th>\n",
       "      <th>primary_malignant_neoplasm_of_soft_tissues_of_lower_limb</th>\n",
       "      <th>neoplasm_of_uncertain_behavior_of_neck</th>\n",
       "      <th>injury_of_peroneal_nerve</th>\n",
       "      <th>dupuytren's_disease</th>\n",
       "      <th>stem_cell_donor</th>\n",
       "      <th>endemic_goiter</th>\n",
       "      <th>diplegic_cerebral_palsy</th>\n",
       "    </tr>\n",
       "  </thead>\n",
       "  <tbody>\n",
       "    <tr>\n",
       "      <th>0</th>\n",
       "      <td>1000018</td>\n",
       "      <td>False</td>\n",
       "      <td>False</td>\n",
       "      <td>False</td>\n",
       "      <td>False</td>\n",
       "      <td>False</td>\n",
       "      <td>False</td>\n",
       "      <td>False</td>\n",
       "      <td>False</td>\n",
       "      <td>False</td>\n",
       "      <td>...</td>\n",
       "      <td>False</td>\n",
       "      <td>False</td>\n",
       "      <td>False</td>\n",
       "      <td>False</td>\n",
       "      <td>False</td>\n",
       "      <td>False</td>\n",
       "      <td>False</td>\n",
       "      <td>False</td>\n",
       "      <td>False</td>\n",
       "      <td>False</td>\n",
       "    </tr>\n",
       "    <tr>\n",
       "      <th>1</th>\n",
       "      <td>1000020</td>\n",
       "      <td>False</td>\n",
       "      <td>False</td>\n",
       "      <td>False</td>\n",
       "      <td>False</td>\n",
       "      <td>False</td>\n",
       "      <td>False</td>\n",
       "      <td>False</td>\n",
       "      <td>False</td>\n",
       "      <td>False</td>\n",
       "      <td>...</td>\n",
       "      <td>False</td>\n",
       "      <td>False</td>\n",
       "      <td>False</td>\n",
       "      <td>False</td>\n",
       "      <td>False</td>\n",
       "      <td>False</td>\n",
       "      <td>False</td>\n",
       "      <td>False</td>\n",
       "      <td>False</td>\n",
       "      <td>False</td>\n",
       "    </tr>\n",
       "    <tr>\n",
       "      <th>2</th>\n",
       "      <td>1000037</td>\n",
       "      <td>False</td>\n",
       "      <td>False</td>\n",
       "      <td>False</td>\n",
       "      <td>False</td>\n",
       "      <td>False</td>\n",
       "      <td>False</td>\n",
       "      <td>False</td>\n",
       "      <td>False</td>\n",
       "      <td>False</td>\n",
       "      <td>...</td>\n",
       "      <td>False</td>\n",
       "      <td>False</td>\n",
       "      <td>False</td>\n",
       "      <td>False</td>\n",
       "      <td>False</td>\n",
       "      <td>False</td>\n",
       "      <td>False</td>\n",
       "      <td>False</td>\n",
       "      <td>False</td>\n",
       "      <td>False</td>\n",
       "    </tr>\n",
       "    <tr>\n",
       "      <th>3</th>\n",
       "      <td>1000043</td>\n",
       "      <td>False</td>\n",
       "      <td>False</td>\n",
       "      <td>False</td>\n",
       "      <td>False</td>\n",
       "      <td>False</td>\n",
       "      <td>False</td>\n",
       "      <td>False</td>\n",
       "      <td>False</td>\n",
       "      <td>False</td>\n",
       "      <td>...</td>\n",
       "      <td>False</td>\n",
       "      <td>False</td>\n",
       "      <td>False</td>\n",
       "      <td>False</td>\n",
       "      <td>False</td>\n",
       "      <td>False</td>\n",
       "      <td>False</td>\n",
       "      <td>False</td>\n",
       "      <td>False</td>\n",
       "      <td>False</td>\n",
       "    </tr>\n",
       "    <tr>\n",
       "      <th>4</th>\n",
       "      <td>1000051</td>\n",
       "      <td>False</td>\n",
       "      <td>False</td>\n",
       "      <td>False</td>\n",
       "      <td>False</td>\n",
       "      <td>False</td>\n",
       "      <td>False</td>\n",
       "      <td>False</td>\n",
       "      <td>False</td>\n",
       "      <td>False</td>\n",
       "      <td>...</td>\n",
       "      <td>False</td>\n",
       "      <td>False</td>\n",
       "      <td>False</td>\n",
       "      <td>False</td>\n",
       "      <td>False</td>\n",
       "      <td>False</td>\n",
       "      <td>False</td>\n",
       "      <td>False</td>\n",
       "      <td>False</td>\n",
       "      <td>False</td>\n",
       "    </tr>\n",
       "  </tbody>\n",
       "</table>\n",
       "<p>5 rows × 3522 columns</p>\n",
       "</div>"
      ],
      "text/plain": [
       "       eid  coronary_heart_disease  myocardial_infarction  stroke  diabetes1  \\\n",
       "0  1000018                   False                  False   False      False   \n",
       "1  1000020                   False                  False   False      False   \n",
       "2  1000037                   False                  False   False      False   \n",
       "3  1000043                   False                  False   False      False   \n",
       "4  1000051                   False                  False   False      False   \n",
       "\n",
       "   diabetes2  chronic_kidney_disease  atrial_fibrillation  migraine  \\\n",
       "0      False                   False                False     False   \n",
       "1      False                   False                False     False   \n",
       "2      False                   False                False     False   \n",
       "3      False                   False                False     False   \n",
       "4      False                   False                False     False   \n",
       "\n",
       "   rheumatoid_arthritis  ...  sleep_terror_disorder  acute_frontal_sinusitis  \\\n",
       "0                 False  ...                  False                    False   \n",
       "1                 False  ...                  False                    False   \n",
       "2                 False  ...                  False                    False   \n",
       "3                 False  ...                  False                    False   \n",
       "4                 False  ...                  False                    False   \n",
       "\n",
       "   benign_neoplasm_of_pancreas  \\\n",
       "0                        False   \n",
       "1                        False   \n",
       "2                        False   \n",
       "3                        False   \n",
       "4                        False   \n",
       "\n",
       "   primary_malignant_neoplasm_of_soft_tissues_of_lower_limb  \\\n",
       "0                                              False          \n",
       "1                                              False          \n",
       "2                                              False          \n",
       "3                                              False          \n",
       "4                                              False          \n",
       "\n",
       "   neoplasm_of_uncertain_behavior_of_neck  injury_of_peroneal_nerve  \\\n",
       "0                                   False                     False   \n",
       "1                                   False                     False   \n",
       "2                                   False                     False   \n",
       "3                                   False                     False   \n",
       "4                                   False                     False   \n",
       "\n",
       "   dupuytren's_disease  stem_cell_donor  endemic_goiter  \\\n",
       "0                False            False           False   \n",
       "1                False            False           False   \n",
       "2                False            False           False   \n",
       "3                False            False           False   \n",
       "4                False            False           False   \n",
       "\n",
       "   diplegic_cerebral_palsy  \n",
       "0                    False  \n",
       "1                    False  \n",
       "2                    False  \n",
       "3                    False  \n",
       "4                    False  \n",
       "\n",
       "[5 rows x 3522 columns]"
      ]
     },
     "execution_count": 61,
     "metadata": {},
     "output_type": "execute_result"
    }
   ],
   "source": [
    "diagnoses = had_diagnosis_before(basics, diagnoses_codes, l10, time0=time0_col)\n",
    "print(len(diagnoses))\n",
    "\n",
    "diagnoses.to_feather(os.path.join(path, dataset_path, 'temp_diagnoses.feather'))\n",
    "\n",
    "diagnoses.head()"
   ]
  },
  {
   "cell_type": "code",
   "execution_count": 62,
   "metadata": {},
   "outputs": [],
   "source": [
    "diagnoses = pd.read_feather(os.path.join(path, dataset_path, 'temp_diagnoses.feather'))"
   ]
  },
  {
   "cell_type": "markdown",
   "metadata": {
    "jupyter": {
     "source_hidden": true
    }
   },
   "source": [
    "# Add embeddings for Snomed Diagnoses"
   ]
  },
  {
   "cell_type": "markdown",
   "metadata": {
    "jupyter": {
     "source_hidden": true
    }
   },
   "source": [
    "#### Get SNOMED - node2vec dict"
   ]
  },
  {
   "cell_type": "code",
   "execution_count": 63,
   "metadata": {
    "jupyter": {
     "source_hidden": true
    }
   },
   "outputs": [],
   "source": [
    "snomed_embeddings = pd.read_csv(\"/data/analysis/ag-reils/steinfej/data/snomed_embeddings/snomed.emb.p1.q1.w20.l40.e200.graph_format.txt\", sep=\" \", header=None, skiprows=1)\n",
    "snomed_embeddings.columns = [\"snomed_id\"]+list(snomed_embeddings.columns)[:-1]"
   ]
  },
  {
   "cell_type": "code",
   "execution_count": 64,
   "metadata": {
    "collapsed": true,
    "jupyter": {
     "outputs_hidden": true,
     "source_hidden": true
    }
   },
   "outputs": [
    {
     "data": {
      "text/html": [
       "<div>\n",
       "<style scoped>\n",
       "    .dataframe tbody tr th:only-of-type {\n",
       "        vertical-align: middle;\n",
       "    }\n",
       "\n",
       "    .dataframe tbody tr th {\n",
       "        vertical-align: top;\n",
       "    }\n",
       "\n",
       "    .dataframe thead th {\n",
       "        text-align: right;\n",
       "    }\n",
       "</style>\n",
       "<table border=\"1\" class=\"dataframe\">\n",
       "  <thead>\n",
       "    <tr style=\"text-align: right;\">\n",
       "      <th></th>\n",
       "      <th>snomed_id</th>\n",
       "      <th>0</th>\n",
       "      <th>1</th>\n",
       "      <th>2</th>\n",
       "      <th>3</th>\n",
       "      <th>4</th>\n",
       "      <th>5</th>\n",
       "      <th>6</th>\n",
       "      <th>7</th>\n",
       "      <th>8</th>\n",
       "      <th>...</th>\n",
       "      <th>190</th>\n",
       "      <th>191</th>\n",
       "      <th>192</th>\n",
       "      <th>193</th>\n",
       "      <th>194</th>\n",
       "      <th>195</th>\n",
       "      <th>196</th>\n",
       "      <th>197</th>\n",
       "      <th>198</th>\n",
       "      <th>199</th>\n",
       "    </tr>\n",
       "  </thead>\n",
       "  <tbody>\n",
       "    <tr>\n",
       "      <th>0</th>\n",
       "      <td>129265001</td>\n",
       "      <td>0.027456</td>\n",
       "      <td>0.171026</td>\n",
       "      <td>-0.178822</td>\n",
       "      <td>-0.038667</td>\n",
       "      <td>0.299777</td>\n",
       "      <td>0.082540</td>\n",
       "      <td>-0.201284</td>\n",
       "      <td>0.215164</td>\n",
       "      <td>0.093241</td>\n",
       "      <td>...</td>\n",
       "      <td>0.211030</td>\n",
       "      <td>0.488475</td>\n",
       "      <td>0.082177</td>\n",
       "      <td>-0.047102</td>\n",
       "      <td>-0.086411</td>\n",
       "      <td>-0.012141</td>\n",
       "      <td>-0.258416</td>\n",
       "      <td>-0.113295</td>\n",
       "      <td>0.040249</td>\n",
       "      <td>-0.116884</td>\n",
       "    </tr>\n",
       "    <tr>\n",
       "      <th>1</th>\n",
       "      <td>360224006</td>\n",
       "      <td>-0.090187</td>\n",
       "      <td>0.086986</td>\n",
       "      <td>-0.184378</td>\n",
       "      <td>-0.028722</td>\n",
       "      <td>-0.010235</td>\n",
       "      <td>0.242439</td>\n",
       "      <td>-0.094009</td>\n",
       "      <td>0.203015</td>\n",
       "      <td>-0.097894</td>\n",
       "      <td>...</td>\n",
       "      <td>0.112750</td>\n",
       "      <td>0.333906</td>\n",
       "      <td>-0.018193</td>\n",
       "      <td>0.020459</td>\n",
       "      <td>-0.170226</td>\n",
       "      <td>0.277866</td>\n",
       "      <td>-0.007079</td>\n",
       "      <td>-0.080419</td>\n",
       "      <td>0.162456</td>\n",
       "      <td>-0.101768</td>\n",
       "    </tr>\n",
       "    <tr>\n",
       "      <th>2</th>\n",
       "      <td>102272007</td>\n",
       "      <td>0.553420</td>\n",
       "      <td>0.460947</td>\n",
       "      <td>0.143925</td>\n",
       "      <td>-0.053785</td>\n",
       "      <td>-0.849588</td>\n",
       "      <td>0.467587</td>\n",
       "      <td>-0.654922</td>\n",
       "      <td>-0.010799</td>\n",
       "      <td>0.510141</td>\n",
       "      <td>...</td>\n",
       "      <td>0.187371</td>\n",
       "      <td>0.248607</td>\n",
       "      <td>0.079687</td>\n",
       "      <td>-0.354121</td>\n",
       "      <td>0.412602</td>\n",
       "      <td>0.582461</td>\n",
       "      <td>-0.780365</td>\n",
       "      <td>0.045450</td>\n",
       "      <td>-0.196551</td>\n",
       "      <td>0.045745</td>\n",
       "    </tr>\n",
       "    <tr>\n",
       "      <th>3</th>\n",
       "      <td>39937001</td>\n",
       "      <td>0.123158</td>\n",
       "      <td>0.019882</td>\n",
       "      <td>0.050896</td>\n",
       "      <td>0.037364</td>\n",
       "      <td>0.200435</td>\n",
       "      <td>0.312911</td>\n",
       "      <td>-0.338977</td>\n",
       "      <td>-0.092584</td>\n",
       "      <td>-0.167741</td>\n",
       "      <td>...</td>\n",
       "      <td>0.057770</td>\n",
       "      <td>-0.012834</td>\n",
       "      <td>-0.139794</td>\n",
       "      <td>0.180572</td>\n",
       "      <td>0.190781</td>\n",
       "      <td>0.104039</td>\n",
       "      <td>-0.358235</td>\n",
       "      <td>-0.137954</td>\n",
       "      <td>-0.236551</td>\n",
       "      <td>-0.206458</td>\n",
       "    </tr>\n",
       "    <tr>\n",
       "      <th>4</th>\n",
       "      <td>23583003</td>\n",
       "      <td>0.423193</td>\n",
       "      <td>0.384338</td>\n",
       "      <td>-0.041503</td>\n",
       "      <td>0.116848</td>\n",
       "      <td>-0.055029</td>\n",
       "      <td>0.149064</td>\n",
       "      <td>-0.092810</td>\n",
       "      <td>-0.050148</td>\n",
       "      <td>0.113122</td>\n",
       "      <td>...</td>\n",
       "      <td>0.162375</td>\n",
       "      <td>-0.076505</td>\n",
       "      <td>-0.274352</td>\n",
       "      <td>-0.099204</td>\n",
       "      <td>-0.281887</td>\n",
       "      <td>-0.266345</td>\n",
       "      <td>-0.020257</td>\n",
       "      <td>-0.003843</td>\n",
       "      <td>-0.008804</td>\n",
       "      <td>-0.286832</td>\n",
       "    </tr>\n",
       "  </tbody>\n",
       "</table>\n",
       "<p>5 rows × 201 columns</p>\n",
       "</div>"
      ],
      "text/plain": [
       "   snomed_id         0         1         2         3         4         5  \\\n",
       "0  129265001  0.027456  0.171026 -0.178822 -0.038667  0.299777  0.082540   \n",
       "1  360224006 -0.090187  0.086986 -0.184378 -0.028722 -0.010235  0.242439   \n",
       "2  102272007  0.553420  0.460947  0.143925 -0.053785 -0.849588  0.467587   \n",
       "3   39937001  0.123158  0.019882  0.050896  0.037364  0.200435  0.312911   \n",
       "4   23583003  0.423193  0.384338 -0.041503  0.116848 -0.055029  0.149064   \n",
       "\n",
       "          6         7         8  ...       190       191       192       193  \\\n",
       "0 -0.201284  0.215164  0.093241  ...  0.211030  0.488475  0.082177 -0.047102   \n",
       "1 -0.094009  0.203015 -0.097894  ...  0.112750  0.333906 -0.018193  0.020459   \n",
       "2 -0.654922 -0.010799  0.510141  ...  0.187371  0.248607  0.079687 -0.354121   \n",
       "3 -0.338977 -0.092584 -0.167741  ...  0.057770 -0.012834 -0.139794  0.180572   \n",
       "4 -0.092810 -0.050148  0.113122  ...  0.162375 -0.076505 -0.274352 -0.099204   \n",
       "\n",
       "        194       195       196       197       198       199  \n",
       "0 -0.086411 -0.012141 -0.258416 -0.113295  0.040249 -0.116884  \n",
       "1 -0.170226  0.277866 -0.007079 -0.080419  0.162456 -0.101768  \n",
       "2  0.412602  0.582461 -0.780365  0.045450 -0.196551  0.045745  \n",
       "3  0.190781  0.104039 -0.358235 -0.137954 -0.236551 -0.206458  \n",
       "4 -0.281887 -0.266345 -0.020257 -0.003843 -0.008804 -0.286832  \n",
       "\n",
       "[5 rows x 201 columns]"
      ]
     },
     "execution_count": 64,
     "metadata": {},
     "output_type": "execute_result"
    }
   ],
   "source": [
    "snomed_embeddings.head()"
   ]
  },
  {
   "cell_type": "code",
   "execution_count": 65,
   "metadata": {
    "jupyter": {
     "source_hidden": true
    }
   },
   "outputs": [],
   "source": [
    "diagnoses_snomed = diagnoses.columns[13:].to_list()\n",
    "diagnoses_snomed_dict = {}\n",
    "for d in diagnoses_snomed: diagnoses_snomed_dict[d] = phenotype_list_snomed[d]\n",
    "    \n",
    "snomed_codes_used = list(phenotype_list_snomed.values())\n",
    "snomed_codes_emb = snomed_embeddings.snomed_id.to_list()"
   ]
  },
  {
   "cell_type": "code",
   "execution_count": 66,
   "metadata": {
    "jupyter": {
     "source_hidden": true
    }
   },
   "outputs": [],
   "source": [
    "snomed_id_array = snomed_embeddings[[\"snomed_id\"]].values\n",
    "node2vec_array = snomed_embeddings.iloc[:, 1:].values"
   ]
  },
  {
   "cell_type": "code",
   "execution_count": 67,
   "metadata": {
    "collapsed": true,
    "jupyter": {
     "outputs_hidden": true,
     "source_hidden": true
    }
   },
   "outputs": [
    {
     "data": {
      "application/vnd.jupyter.widget-view+json": {
       "model_id": "456f56d7481648e48b74e9e76b675f01",
       "version_major": 2,
       "version_minor": 0
      },
      "text/plain": [
       "HBox(children=(FloatProgress(value=0.0, max=373286.0), HTML(value='')))"
      ]
     },
     "metadata": {},
     "output_type": "display_data"
    },
    {
     "name": "stdout",
     "output_type": "stream",
     "text": [
      "\n"
     ]
    }
   ],
   "source": [
    "snomed_arrays = {}\n",
    "for sid, row in zip(tqdm(snomed_id_array), node2vec_array):\n",
    "    snomed_arrays[sid[0]] = row"
   ]
  },
  {
   "cell_type": "markdown",
   "metadata": {
    "jupyter": {
     "source_hidden": true
    }
   },
   "source": [
    "#### Get Patient -> Snomed dict"
   ]
  },
  {
   "cell_type": "code",
   "execution_count": 68,
   "metadata": {
    "collapsed": true,
    "jupyter": {
     "outputs_hidden": true,
     "source_hidden": true
    }
   },
   "outputs": [
    {
     "data": {
      "application/vnd.jupyter.widget-view+json": {
       "model_id": "05ac46541972426da8a5b5f7fe461c6e",
       "version_major": 2,
       "version_minor": 0
      },
      "text/plain": [
       "HBox(children=(FloatProgress(value=0.0, max=502504.0), HTML(value='')))"
      ]
     },
     "metadata": {},
     "output_type": "display_data"
    },
    {
     "name": "stdout",
     "output_type": "stream",
     "text": [
      "\n"
     ]
    }
   ],
   "source": [
    "diagnoses_array = diagnoses[diagnoses_snomed].values\n",
    "eid_array = diagnoses[[\"eid\"]].values\n",
    "\n",
    "from numba import jit\n",
    "import numpy as np\n",
    "\n",
    "patient_diagnoses = {}\n",
    "for eid, row in zip(tqdm(eid_array), diagnoses_array):\n",
    "    patient_diagnoses[eid[0]] = list(np.argwhere(row==True).flatten())\n",
    "\n",
    "#diagnoses.query(\"eid==1000092\")[diagnoses_snomed]"
   ]
  },
  {
   "cell_type": "code",
   "execution_count": 69,
   "metadata": {
    "collapsed": true,
    "jupyter": {
     "outputs_hidden": true,
     "source_hidden": true
    }
   },
   "outputs": [
    {
     "data": {
      "application/vnd.jupyter.widget-view+json": {
       "model_id": "f4c90d91d08e48119abcf8426cddd37e",
       "version_major": 2,
       "version_minor": 0
      },
      "text/plain": [
       "HBox(children=(FloatProgress(value=0.0, max=502504.0), HTML(value='')))"
      ]
     },
     "metadata": {},
     "output_type": "display_data"
    },
    {
     "name": "stdout",
     "output_type": "stream",
     "text": [
      "\n"
     ]
    }
   ],
   "source": [
    "patient_diagnoses_sid = {}\n",
    "snomed_codes_emb_set = set(snomed_codes_emb)\n",
    "for eid, p_d_col in tqdm(patient_diagnoses.items()):\n",
    "    diagnoses_list = [diagnoses_snomed[i] for i in p_d_col]\n",
    "    sid_list = [phenotype_list_snomed[i] for i in diagnoses_list]\n",
    "    sid_list = [sid for sid in sid_list if sid in snomed_codes_emb_set]\n",
    "    patient_diagnoses_sid[eid] = sid_list"
   ]
  },
  {
   "cell_type": "markdown",
   "metadata": {
    "jupyter": {
     "source_hidden": true
    }
   },
   "source": [
    "#### Get Patient -> node2vec average"
   ]
  },
  {
   "cell_type": "code",
   "execution_count": 70,
   "metadata": {
    "collapsed": true,
    "jupyter": {
     "outputs_hidden": true,
     "source_hidden": true
    }
   },
   "outputs": [
    {
     "data": {
      "application/vnd.jupyter.widget-view+json": {
       "model_id": "47e934dc64334c82893d23b458108fbf",
       "version_major": 2,
       "version_minor": 0
      },
      "text/plain": [
       "HBox(children=(FloatProgress(value=0.0, max=502504.0), HTML(value='')))"
      ]
     },
     "metadata": {},
     "output_type": "display_data"
    },
    {
     "name": "stderr",
     "output_type": "stream",
     "text": [
      "/home/steinfej/miniconda3/envs/python/lib/python3.7/site-packages/numpy/core/fromnumeric.py:3335: RuntimeWarning: Mean of empty slice.\n",
      "  out=out, **kwargs)\n",
      "/home/steinfej/miniconda3/envs/python/lib/python3.7/site-packages/numpy/core/_methods.py:161: RuntimeWarning: invalid value encountered in double_scalars\n",
      "  ret = ret.dtype.type(ret / rcount)\n"
     ]
    },
    {
     "name": "stdout",
     "output_type": "stream",
     "text": [
      "\n"
     ]
    }
   ],
   "source": [
    "patient_node2vec_dict = {}\n",
    "for eid, sids in tqdm(patient_diagnoses_sid.items()):\n",
    "    array_list =  [snomed_arrays[sid] for sid in sids]\n",
    "    patient_node2vec_dict[eid] = np.mean(array_list, axis=0)"
   ]
  },
  {
   "cell_type": "code",
   "execution_count": 71,
   "metadata": {
    "collapsed": true,
    "jupyter": {
     "outputs_hidden": true,
     "source_hidden": true
    }
   },
   "outputs": [
    {
     "data": {
      "application/vnd.jupyter.widget-view+json": {
       "model_id": "e1395c2d1bfc41f39697a8925b20d597",
       "version_major": 2,
       "version_minor": 0
      },
      "text/plain": [
       "HBox(children=(FloatProgress(value=0.0, max=502504.0), HTML(value='')))"
      ]
     },
     "metadata": {},
     "output_type": "display_data"
    },
    {
     "name": "stdout",
     "output_type": "stream",
     "text": [
      "\n"
     ]
    },
    {
     "data": {
      "text/plain": [
       "array([ 0.37033895,  0.13321076, -0.10030267,  0.05625264, -0.08437331,\n",
       "        0.11504787, -0.24833219, -0.11936529,  0.25239648, -0.32739932,\n",
       "        0.06330914, -0.06493541, -0.28790415, -0.2885537 ,  0.02546298,\n",
       "       -0.06123153, -0.17690672, -0.0867546 , -0.28337599, -0.08474496,\n",
       "        0.31454532, -0.24158154,  0.15930864,  0.06124846,  0.07694602,\n",
       "       -0.13752803,  0.13671128, -0.27988751, -0.03987635,  0.03632156,\n",
       "       -0.13793361, -0.15857369, -0.16441636,  0.2412931 ,  0.20070578,\n",
       "       -0.11412784,  0.02563965, -0.03560184,  0.17169744, -0.0153383 ,\n",
       "        0.00117099,  0.1025362 , -0.06505568,  0.05646065, -0.02705149,\n",
       "        0.04416442, -0.15798991, -0.10650637,  0.02082507, -0.21182802,\n",
       "        0.13972325, -0.18089307, -0.12731068,  0.02907221, -0.19797107,\n",
       "        0.19550177,  0.14941799,  0.21561857, -0.18085379,  0.10768238,\n",
       "        0.12968045,  0.2082016 ,  0.03561408, -0.01122218, -0.27099816,\n",
       "       -0.06029919, -0.18787618,  0.10084175, -0.07939234, -0.22951897,\n",
       "       -0.36536359, -0.01050854, -0.21419807, -0.23562986,  0.02380316,\n",
       "        0.1213157 , -0.1601396 ,  0.07218057, -0.04362593, -0.22303355,\n",
       "       -0.23844839, -0.14799905,  0.22346404,  0.14218655,  0.39873181,\n",
       "       -0.32965129,  0.19102432, -0.08894028, -0.20726567,  0.25343222,\n",
       "        0.29939455,  0.20513029,  0.17430424, -0.05073184,  0.05827969,\n",
       "        0.31626954,  0.0791522 , -0.21433214,  0.11027244,  0.0805151 ,\n",
       "        0.08557279,  0.25260801, -0.00096969, -0.06177831,  0.0544524 ,\n",
       "       -0.17340027,  0.09731447,  0.09982385, -0.074546  , -0.10350239,\n",
       "       -0.25798929,  0.01222471,  0.1605315 ,  0.00191767,  0.11642527,\n",
       "       -0.15387604, -0.01520803,  0.03220765, -0.13534233,  0.09154689,\n",
       "        0.12562997, -0.01667786, -0.09286805,  0.14670483, -0.13097813,\n",
       "       -0.38270284, -0.0129984 , -0.06352304,  0.12521014, -0.17354363,\n",
       "       -0.16399127,  0.11488736,  0.39664734,  0.08557075, -0.24862126,\n",
       "       -0.05882866,  0.23174289,  0.01765143, -0.10257617,  0.01208248,\n",
       "       -0.06876405, -0.04180976,  0.07489962, -0.10724381,  0.29349823,\n",
       "        0.17342743, -0.32044841, -0.01118798,  0.28508293,  0.16492201,\n",
       "        0.03994952, -0.17309702,  0.0365077 ,  0.08619365, -0.21749571,\n",
       "        0.01038752, -0.21414902, -0.18092813,  0.28433131, -0.12601774,\n",
       "       -0.02147302,  0.51513453,  0.21506432, -0.12596341, -0.0413009 ,\n",
       "        0.12595327,  0.08973215, -0.06285449, -0.03649041,  0.04217289,\n",
       "       -0.02532634, -0.21734533, -0.08211848,  0.14014083,  0.13635479,\n",
       "       -0.13163414, -0.08576438, -0.04016334,  0.23952563, -0.14895943,\n",
       "        0.08564821, -0.04287149,  0.22135877, -0.06337237, -0.07189574,\n",
       "       -0.1004494 ,  0.01225299, -0.13810014, -0.06814497, -0.16715941,\n",
       "        0.07303671,  0.15891015, -0.04757821, -0.05777645, -0.0772216 ,\n",
       "        0.16787738, -0.2112512 , -0.10142653, -0.19002809, -0.06400223])"
      ]
     },
     "execution_count": 71,
     "metadata": {},
     "output_type": "execute_result"
    }
   ],
   "source": [
    "# create imputation vector\n",
    "arrays = [patient_node2vec_dict[key] for key in list(patient_node2vec_dict)]\n",
    "arrays_ok = [array for array in tqdm(arrays) if ~np.isnan(array).any()]\n",
    "imp_vector = np.mean(arrays_ok, axis=0)\n",
    "imp_vector"
   ]
  },
  {
   "cell_type": "code",
   "execution_count": 72,
   "metadata": {
    "collapsed": true,
    "jupyter": {
     "outputs_hidden": true,
     "source_hidden": true
    }
   },
   "outputs": [
    {
     "data": {
      "application/vnd.jupyter.widget-view+json": {
       "model_id": "e2dd803c2e2a4cb68e71111979d235c2",
       "version_major": 2,
       "version_minor": 0
      },
      "text/plain": [
       "HBox(children=(FloatProgress(value=0.0, max=502504.0), HTML(value='')))"
      ]
     },
     "metadata": {},
     "output_type": "display_data"
    },
    {
     "name": "stdout",
     "output_type": "stream",
     "text": [
      "\n"
     ]
    }
   ],
   "source": [
    "for eid, array in tqdm(patient_node2vec_dict.items()):\n",
    "    if np.isnan(array).any(): \n",
    "        patient_node2vec_dict[eid] = imp_vector"
   ]
  },
  {
   "cell_type": "code",
   "execution_count": 73,
   "metadata": {
    "collapsed": true,
    "jupyter": {
     "outputs_hidden": true,
     "source_hidden": true
    }
   },
   "outputs": [
    {
     "data": {
      "application/vnd.jupyter.widget-view+json": {
       "model_id": "a82c47a8f87a4df1bc81b78496edee0a",
       "version_major": 2,
       "version_minor": 0
      },
      "text/plain": [
       "HBox(children=(FloatProgress(value=0.0, max=502504.0), HTML(value='')))"
      ]
     },
     "metadata": {},
     "output_type": "display_data"
    },
    {
     "name": "stdout",
     "output_type": "stream",
     "text": [
      "\n"
     ]
    }
   ],
   "source": [
    "array_eids = [key for key in tqdm(list(patient_node2vec_dict))]"
   ]
  },
  {
   "cell_type": "code",
   "execution_count": 74,
   "metadata": {
    "collapsed": true,
    "jupyter": {
     "outputs_hidden": true,
     "source_hidden": true
    }
   },
   "outputs": [
    {
     "data": {
      "application/vnd.jupyter.widget-view+json": {
       "model_id": "510554b8bed8456cbfd694b764286acb",
       "version_major": 2,
       "version_minor": 0
      },
      "text/plain": [
       "HBox(children=(FloatProgress(value=0.0, max=502504.0), HTML(value='')))"
      ]
     },
     "metadata": {},
     "output_type": "display_data"
    },
    {
     "name": "stdout",
     "output_type": "stream",
     "text": [
      "\n"
     ]
    }
   ],
   "source": [
    "ind_ok = [np.array([1]) if ~np.isnan(array).any() else np.array([0])  for array in tqdm(arrays)]"
   ]
  },
  {
   "cell_type": "code",
   "execution_count": 75,
   "metadata": {
    "collapsed": true,
    "jupyter": {
     "outputs_hidden": true,
     "source_hidden": true
    }
   },
   "outputs": [
    {
     "data": {
      "application/vnd.jupyter.widget-view+json": {
       "model_id": "a85aec2f3e7644dc99c40781f999eb3c",
       "version_major": 2,
       "version_minor": 0
      },
      "text/plain": [
       "HBox(children=(FloatProgress(value=0.0, max=502504.0), HTML(value='')))"
      ]
     },
     "metadata": {},
     "output_type": "display_data"
    },
    {
     "name": "stdout",
     "output_type": "stream",
     "text": [
      "\n"
     ]
    }
   ],
   "source": [
    "arrays_emb = [patient_node2vec_dict[key] for key in tqdm(list(patient_node2vec_dict))]"
   ]
  },
  {
   "cell_type": "code",
   "execution_count": 76,
   "metadata": {
    "jupyter": {
     "source_hidden": true
    }
   },
   "outputs": [],
   "source": [
    "arrays_eids = np.reshape(np.stack(array_eids, axis=0),(-1,1)) \n",
    "arrays_ind = np.stack(ind_ok, axis=0)\n",
    "arrays_c = np.stack(arrays_emb, axis=0)"
   ]
  },
  {
   "cell_type": "code",
   "execution_count": 77,
   "metadata": {
    "jupyter": {
     "source_hidden": true
    }
   },
   "outputs": [],
   "source": [
    "arrays_complete = np.concatenate([arrays_eids, arrays_ind, arrays_c], axis=1)"
   ]
  },
  {
   "cell_type": "code",
   "execution_count": 78,
   "metadata": {
    "jupyter": {
     "source_hidden": true
    }
   },
   "outputs": [],
   "source": [
    "diagnoses_emb = pd.DataFrame(data=arrays_complete, columns=[\"eid\"]+[\"node2vec_available\"]+[f\"node2vec_{e}\" for e in list(range(0, 200))])"
   ]
  },
  {
   "cell_type": "code",
   "execution_count": 79,
   "metadata": {
    "collapsed": true,
    "jupyter": {
     "outputs_hidden": true,
     "source_hidden": true
    }
   },
   "outputs": [
    {
     "data": {
      "text/html": [
       "<div>\n",
       "<style scoped>\n",
       "    .dataframe tbody tr th:only-of-type {\n",
       "        vertical-align: middle;\n",
       "    }\n",
       "\n",
       "    .dataframe tbody tr th {\n",
       "        vertical-align: top;\n",
       "    }\n",
       "\n",
       "    .dataframe thead th {\n",
       "        text-align: right;\n",
       "    }\n",
       "</style>\n",
       "<table border=\"1\" class=\"dataframe\">\n",
       "  <thead>\n",
       "    <tr style=\"text-align: right;\">\n",
       "      <th></th>\n",
       "      <th>eid</th>\n",
       "      <th>node2vec_available</th>\n",
       "      <th>node2vec_0</th>\n",
       "      <th>node2vec_1</th>\n",
       "      <th>node2vec_2</th>\n",
       "      <th>node2vec_3</th>\n",
       "      <th>node2vec_4</th>\n",
       "      <th>node2vec_5</th>\n",
       "      <th>node2vec_6</th>\n",
       "      <th>node2vec_7</th>\n",
       "      <th>...</th>\n",
       "      <th>node2vec_190</th>\n",
       "      <th>node2vec_191</th>\n",
       "      <th>node2vec_192</th>\n",
       "      <th>node2vec_193</th>\n",
       "      <th>node2vec_194</th>\n",
       "      <th>node2vec_195</th>\n",
       "      <th>node2vec_196</th>\n",
       "      <th>node2vec_197</th>\n",
       "      <th>node2vec_198</th>\n",
       "      <th>node2vec_199</th>\n",
       "    </tr>\n",
       "  </thead>\n",
       "  <tbody>\n",
       "    <tr>\n",
       "      <th>0</th>\n",
       "      <td>1000018.0</td>\n",
       "      <td>0.0</td>\n",
       "      <td>0.370339</td>\n",
       "      <td>0.133211</td>\n",
       "      <td>-0.100303</td>\n",
       "      <td>0.056253</td>\n",
       "      <td>-0.084373</td>\n",
       "      <td>0.115048</td>\n",
       "      <td>-0.248332</td>\n",
       "      <td>-0.119365</td>\n",
       "      <td>...</td>\n",
       "      <td>0.073037</td>\n",
       "      <td>0.15891</td>\n",
       "      <td>-0.047578</td>\n",
       "      <td>-0.057776</td>\n",
       "      <td>-0.077222</td>\n",
       "      <td>0.167877</td>\n",
       "      <td>-0.211251</td>\n",
       "      <td>-0.101427</td>\n",
       "      <td>-0.190028</td>\n",
       "      <td>-0.064002</td>\n",
       "    </tr>\n",
       "    <tr>\n",
       "      <th>1</th>\n",
       "      <td>1000020.0</td>\n",
       "      <td>0.0</td>\n",
       "      <td>0.370339</td>\n",
       "      <td>0.133211</td>\n",
       "      <td>-0.100303</td>\n",
       "      <td>0.056253</td>\n",
       "      <td>-0.084373</td>\n",
       "      <td>0.115048</td>\n",
       "      <td>-0.248332</td>\n",
       "      <td>-0.119365</td>\n",
       "      <td>...</td>\n",
       "      <td>0.073037</td>\n",
       "      <td>0.15891</td>\n",
       "      <td>-0.047578</td>\n",
       "      <td>-0.057776</td>\n",
       "      <td>-0.077222</td>\n",
       "      <td>0.167877</td>\n",
       "      <td>-0.211251</td>\n",
       "      <td>-0.101427</td>\n",
       "      <td>-0.190028</td>\n",
       "      <td>-0.064002</td>\n",
       "    </tr>\n",
       "    <tr>\n",
       "      <th>2</th>\n",
       "      <td>1000037.0</td>\n",
       "      <td>0.0</td>\n",
       "      <td>0.370339</td>\n",
       "      <td>0.133211</td>\n",
       "      <td>-0.100303</td>\n",
       "      <td>0.056253</td>\n",
       "      <td>-0.084373</td>\n",
       "      <td>0.115048</td>\n",
       "      <td>-0.248332</td>\n",
       "      <td>-0.119365</td>\n",
       "      <td>...</td>\n",
       "      <td>0.073037</td>\n",
       "      <td>0.15891</td>\n",
       "      <td>-0.047578</td>\n",
       "      <td>-0.057776</td>\n",
       "      <td>-0.077222</td>\n",
       "      <td>0.167877</td>\n",
       "      <td>-0.211251</td>\n",
       "      <td>-0.101427</td>\n",
       "      <td>-0.190028</td>\n",
       "      <td>-0.064002</td>\n",
       "    </tr>\n",
       "    <tr>\n",
       "      <th>3</th>\n",
       "      <td>1000043.0</td>\n",
       "      <td>0.0</td>\n",
       "      <td>0.370339</td>\n",
       "      <td>0.133211</td>\n",
       "      <td>-0.100303</td>\n",
       "      <td>0.056253</td>\n",
       "      <td>-0.084373</td>\n",
       "      <td>0.115048</td>\n",
       "      <td>-0.248332</td>\n",
       "      <td>-0.119365</td>\n",
       "      <td>...</td>\n",
       "      <td>0.073037</td>\n",
       "      <td>0.15891</td>\n",
       "      <td>-0.047578</td>\n",
       "      <td>-0.057776</td>\n",
       "      <td>-0.077222</td>\n",
       "      <td>0.167877</td>\n",
       "      <td>-0.211251</td>\n",
       "      <td>-0.101427</td>\n",
       "      <td>-0.190028</td>\n",
       "      <td>-0.064002</td>\n",
       "    </tr>\n",
       "    <tr>\n",
       "      <th>4</th>\n",
       "      <td>1000051.0</td>\n",
       "      <td>0.0</td>\n",
       "      <td>0.370339</td>\n",
       "      <td>0.133211</td>\n",
       "      <td>-0.100303</td>\n",
       "      <td>0.056253</td>\n",
       "      <td>-0.084373</td>\n",
       "      <td>0.115048</td>\n",
       "      <td>-0.248332</td>\n",
       "      <td>-0.119365</td>\n",
       "      <td>...</td>\n",
       "      <td>0.073037</td>\n",
       "      <td>0.15891</td>\n",
       "      <td>-0.047578</td>\n",
       "      <td>-0.057776</td>\n",
       "      <td>-0.077222</td>\n",
       "      <td>0.167877</td>\n",
       "      <td>-0.211251</td>\n",
       "      <td>-0.101427</td>\n",
       "      <td>-0.190028</td>\n",
       "      <td>-0.064002</td>\n",
       "    </tr>\n",
       "    <tr>\n",
       "      <th>...</th>\n",
       "      <td>...</td>\n",
       "      <td>...</td>\n",
       "      <td>...</td>\n",
       "      <td>...</td>\n",
       "      <td>...</td>\n",
       "      <td>...</td>\n",
       "      <td>...</td>\n",
       "      <td>...</td>\n",
       "      <td>...</td>\n",
       "      <td>...</td>\n",
       "      <td>...</td>\n",
       "      <td>...</td>\n",
       "      <td>...</td>\n",
       "      <td>...</td>\n",
       "      <td>...</td>\n",
       "      <td>...</td>\n",
       "      <td>...</td>\n",
       "      <td>...</td>\n",
       "      <td>...</td>\n",
       "      <td>...</td>\n",
       "      <td>...</td>\n",
       "    </tr>\n",
       "    <tr>\n",
       "      <th>502499</th>\n",
       "      <td>6025150.0</td>\n",
       "      <td>0.0</td>\n",
       "      <td>0.370339</td>\n",
       "      <td>0.133211</td>\n",
       "      <td>-0.100303</td>\n",
       "      <td>0.056253</td>\n",
       "      <td>-0.084373</td>\n",
       "      <td>0.115048</td>\n",
       "      <td>-0.248332</td>\n",
       "      <td>-0.119365</td>\n",
       "      <td>...</td>\n",
       "      <td>0.073037</td>\n",
       "      <td>0.15891</td>\n",
       "      <td>-0.047578</td>\n",
       "      <td>-0.057776</td>\n",
       "      <td>-0.077222</td>\n",
       "      <td>0.167877</td>\n",
       "      <td>-0.211251</td>\n",
       "      <td>-0.101427</td>\n",
       "      <td>-0.190028</td>\n",
       "      <td>-0.064002</td>\n",
       "    </tr>\n",
       "    <tr>\n",
       "      <th>502500</th>\n",
       "      <td>6025165.0</td>\n",
       "      <td>0.0</td>\n",
       "      <td>0.370339</td>\n",
       "      <td>0.133211</td>\n",
       "      <td>-0.100303</td>\n",
       "      <td>0.056253</td>\n",
       "      <td>-0.084373</td>\n",
       "      <td>0.115048</td>\n",
       "      <td>-0.248332</td>\n",
       "      <td>-0.119365</td>\n",
       "      <td>...</td>\n",
       "      <td>0.073037</td>\n",
       "      <td>0.15891</td>\n",
       "      <td>-0.047578</td>\n",
       "      <td>-0.057776</td>\n",
       "      <td>-0.077222</td>\n",
       "      <td>0.167877</td>\n",
       "      <td>-0.211251</td>\n",
       "      <td>-0.101427</td>\n",
       "      <td>-0.190028</td>\n",
       "      <td>-0.064002</td>\n",
       "    </tr>\n",
       "    <tr>\n",
       "      <th>502501</th>\n",
       "      <td>6025173.0</td>\n",
       "      <td>0.0</td>\n",
       "      <td>0.370339</td>\n",
       "      <td>0.133211</td>\n",
       "      <td>-0.100303</td>\n",
       "      <td>0.056253</td>\n",
       "      <td>-0.084373</td>\n",
       "      <td>0.115048</td>\n",
       "      <td>-0.248332</td>\n",
       "      <td>-0.119365</td>\n",
       "      <td>...</td>\n",
       "      <td>0.073037</td>\n",
       "      <td>0.15891</td>\n",
       "      <td>-0.047578</td>\n",
       "      <td>-0.057776</td>\n",
       "      <td>-0.077222</td>\n",
       "      <td>0.167877</td>\n",
       "      <td>-0.211251</td>\n",
       "      <td>-0.101427</td>\n",
       "      <td>-0.190028</td>\n",
       "      <td>-0.064002</td>\n",
       "    </tr>\n",
       "    <tr>\n",
       "      <th>502502</th>\n",
       "      <td>6025182.0</td>\n",
       "      <td>0.0</td>\n",
       "      <td>0.370339</td>\n",
       "      <td>0.133211</td>\n",
       "      <td>-0.100303</td>\n",
       "      <td>0.056253</td>\n",
       "      <td>-0.084373</td>\n",
       "      <td>0.115048</td>\n",
       "      <td>-0.248332</td>\n",
       "      <td>-0.119365</td>\n",
       "      <td>...</td>\n",
       "      <td>0.073037</td>\n",
       "      <td>0.15891</td>\n",
       "      <td>-0.047578</td>\n",
       "      <td>-0.057776</td>\n",
       "      <td>-0.077222</td>\n",
       "      <td>0.167877</td>\n",
       "      <td>-0.211251</td>\n",
       "      <td>-0.101427</td>\n",
       "      <td>-0.190028</td>\n",
       "      <td>-0.064002</td>\n",
       "    </tr>\n",
       "    <tr>\n",
       "      <th>502503</th>\n",
       "      <td>6025198.0</td>\n",
       "      <td>0.0</td>\n",
       "      <td>0.370339</td>\n",
       "      <td>0.133211</td>\n",
       "      <td>-0.100303</td>\n",
       "      <td>0.056253</td>\n",
       "      <td>-0.084373</td>\n",
       "      <td>0.115048</td>\n",
       "      <td>-0.248332</td>\n",
       "      <td>-0.119365</td>\n",
       "      <td>...</td>\n",
       "      <td>0.073037</td>\n",
       "      <td>0.15891</td>\n",
       "      <td>-0.047578</td>\n",
       "      <td>-0.057776</td>\n",
       "      <td>-0.077222</td>\n",
       "      <td>0.167877</td>\n",
       "      <td>-0.211251</td>\n",
       "      <td>-0.101427</td>\n",
       "      <td>-0.190028</td>\n",
       "      <td>-0.064002</td>\n",
       "    </tr>\n",
       "  </tbody>\n",
       "</table>\n",
       "<p>502504 rows × 202 columns</p>\n",
       "</div>"
      ],
      "text/plain": [
       "              eid  node2vec_available  node2vec_0  node2vec_1  node2vec_2  \\\n",
       "0       1000018.0                 0.0    0.370339    0.133211   -0.100303   \n",
       "1       1000020.0                 0.0    0.370339    0.133211   -0.100303   \n",
       "2       1000037.0                 0.0    0.370339    0.133211   -0.100303   \n",
       "3       1000043.0                 0.0    0.370339    0.133211   -0.100303   \n",
       "4       1000051.0                 0.0    0.370339    0.133211   -0.100303   \n",
       "...           ...                 ...         ...         ...         ...   \n",
       "502499  6025150.0                 0.0    0.370339    0.133211   -0.100303   \n",
       "502500  6025165.0                 0.0    0.370339    0.133211   -0.100303   \n",
       "502501  6025173.0                 0.0    0.370339    0.133211   -0.100303   \n",
       "502502  6025182.0                 0.0    0.370339    0.133211   -0.100303   \n",
       "502503  6025198.0                 0.0    0.370339    0.133211   -0.100303   \n",
       "\n",
       "        node2vec_3  node2vec_4  node2vec_5  node2vec_6  node2vec_7  ...  \\\n",
       "0         0.056253   -0.084373    0.115048   -0.248332   -0.119365  ...   \n",
       "1         0.056253   -0.084373    0.115048   -0.248332   -0.119365  ...   \n",
       "2         0.056253   -0.084373    0.115048   -0.248332   -0.119365  ...   \n",
       "3         0.056253   -0.084373    0.115048   -0.248332   -0.119365  ...   \n",
       "4         0.056253   -0.084373    0.115048   -0.248332   -0.119365  ...   \n",
       "...            ...         ...         ...         ...         ...  ...   \n",
       "502499    0.056253   -0.084373    0.115048   -0.248332   -0.119365  ...   \n",
       "502500    0.056253   -0.084373    0.115048   -0.248332   -0.119365  ...   \n",
       "502501    0.056253   -0.084373    0.115048   -0.248332   -0.119365  ...   \n",
       "502502    0.056253   -0.084373    0.115048   -0.248332   -0.119365  ...   \n",
       "502503    0.056253   -0.084373    0.115048   -0.248332   -0.119365  ...   \n",
       "\n",
       "        node2vec_190  node2vec_191  node2vec_192  node2vec_193  node2vec_194  \\\n",
       "0           0.073037       0.15891     -0.047578     -0.057776     -0.077222   \n",
       "1           0.073037       0.15891     -0.047578     -0.057776     -0.077222   \n",
       "2           0.073037       0.15891     -0.047578     -0.057776     -0.077222   \n",
       "3           0.073037       0.15891     -0.047578     -0.057776     -0.077222   \n",
       "4           0.073037       0.15891     -0.047578     -0.057776     -0.077222   \n",
       "...              ...           ...           ...           ...           ...   \n",
       "502499      0.073037       0.15891     -0.047578     -0.057776     -0.077222   \n",
       "502500      0.073037       0.15891     -0.047578     -0.057776     -0.077222   \n",
       "502501      0.073037       0.15891     -0.047578     -0.057776     -0.077222   \n",
       "502502      0.073037       0.15891     -0.047578     -0.057776     -0.077222   \n",
       "502503      0.073037       0.15891     -0.047578     -0.057776     -0.077222   \n",
       "\n",
       "        node2vec_195  node2vec_196  node2vec_197  node2vec_198  node2vec_199  \n",
       "0           0.167877     -0.211251     -0.101427     -0.190028     -0.064002  \n",
       "1           0.167877     -0.211251     -0.101427     -0.190028     -0.064002  \n",
       "2           0.167877     -0.211251     -0.101427     -0.190028     -0.064002  \n",
       "3           0.167877     -0.211251     -0.101427     -0.190028     -0.064002  \n",
       "4           0.167877     -0.211251     -0.101427     -0.190028     -0.064002  \n",
       "...              ...           ...           ...           ...           ...  \n",
       "502499      0.167877     -0.211251     -0.101427     -0.190028     -0.064002  \n",
       "502500      0.167877     -0.211251     -0.101427     -0.190028     -0.064002  \n",
       "502501      0.167877     -0.211251     -0.101427     -0.190028     -0.064002  \n",
       "502502      0.167877     -0.211251     -0.101427     -0.190028     -0.064002  \n",
       "502503      0.167877     -0.211251     -0.101427     -0.190028     -0.064002  \n",
       "\n",
       "[502504 rows x 202 columns]"
      ]
     },
     "execution_count": 79,
     "metadata": {},
     "output_type": "execute_result"
    }
   ],
   "source": [
    "diagnoses_emb"
   ]
  },
  {
   "cell_type": "code",
   "execution_count": 14,
   "metadata": {
    "jupyter": {
     "source_hidden": true
    }
   },
   "outputs": [
    {
     "ename": "FileNotFoundError",
     "evalue": "[Errno 2] Failed to open local file '/data/analysis/ag-reils/ag-reils-shared/cardioRS/data/2_datasets_pre/cvd_massive_from_birth/temp_diagnoses_emb.feather'. Detail: [errno 2] No such file or directory",
     "output_type": "error",
     "traceback": [
      "\u001b[0;31m---------------------------------------------------------------------------\u001b[0m",
      "\u001b[0;31mFileNotFoundError\u001b[0m                         Traceback (most recent call last)",
      "\u001b[0;32m<ipython-input-14-45107a9d4a69>\u001b[0m in \u001b[0;36m<module>\u001b[0;34m\u001b[0m\n\u001b[1;32m      1\u001b[0m \u001b[0;31m#diagnoses_emb.to_feather(os.path.join(path, dataset_path, 'temp_diagnoses_emb.feather'))\u001b[0m\u001b[0;34m\u001b[0m\u001b[0;34m\u001b[0m\u001b[0;34m\u001b[0m\u001b[0m\n\u001b[0;32m----> 2\u001b[0;31m \u001b[0mdiagnoses_emb\u001b[0m \u001b[0;34m=\u001b[0m \u001b[0mpd\u001b[0m\u001b[0;34m.\u001b[0m\u001b[0mread_feather\u001b[0m\u001b[0;34m(\u001b[0m\u001b[0mos\u001b[0m\u001b[0;34m.\u001b[0m\u001b[0mpath\u001b[0m\u001b[0;34m.\u001b[0m\u001b[0mjoin\u001b[0m\u001b[0;34m(\u001b[0m\u001b[0mpath\u001b[0m\u001b[0;34m,\u001b[0m \u001b[0mdataset_path\u001b[0m\u001b[0;34m,\u001b[0m \u001b[0;34m'temp_diagnoses_emb.feather'\u001b[0m\u001b[0;34m)\u001b[0m\u001b[0;34m)\u001b[0m\u001b[0;34m\u001b[0m\u001b[0;34m\u001b[0m\u001b[0m\n\u001b[0m",
      "\u001b[0;32m~/miniconda3/envs/python/lib/python3.7/site-packages/pandas/io/feather_format.py\u001b[0m in \u001b[0;36mread_feather\u001b[0;34m(path, columns, use_threads)\u001b[0m\n\u001b[1;32m    101\u001b[0m     \u001b[0mpath\u001b[0m \u001b[0;34m=\u001b[0m \u001b[0mstringify_path\u001b[0m\u001b[0;34m(\u001b[0m\u001b[0mpath\u001b[0m\u001b[0;34m)\u001b[0m\u001b[0;34m\u001b[0m\u001b[0;34m\u001b[0m\u001b[0m\n\u001b[1;32m    102\u001b[0m \u001b[0;34m\u001b[0m\u001b[0m\n\u001b[0;32m--> 103\u001b[0;31m     \u001b[0;32mreturn\u001b[0m \u001b[0mfeather\u001b[0m\u001b[0;34m.\u001b[0m\u001b[0mread_feather\u001b[0m\u001b[0;34m(\u001b[0m\u001b[0mpath\u001b[0m\u001b[0;34m,\u001b[0m \u001b[0mcolumns\u001b[0m\u001b[0;34m=\u001b[0m\u001b[0mcolumns\u001b[0m\u001b[0;34m,\u001b[0m \u001b[0muse_threads\u001b[0m\u001b[0;34m=\u001b[0m\u001b[0mbool\u001b[0m\u001b[0;34m(\u001b[0m\u001b[0muse_threads\u001b[0m\u001b[0;34m)\u001b[0m\u001b[0;34m)\u001b[0m\u001b[0;34m\u001b[0m\u001b[0;34m\u001b[0m\u001b[0m\n\u001b[0m",
      "\u001b[0;32m~/miniconda3/envs/python/lib/python3.7/site-packages/pyarrow/feather.py\u001b[0m in \u001b[0;36mread_feather\u001b[0;34m(source, columns, use_threads, memory_map)\u001b[0m\n\u001b[1;32m    212\u001b[0m     \"\"\"\n\u001b[1;32m    213\u001b[0m     \u001b[0m_check_pandas_version\u001b[0m\u001b[0;34m(\u001b[0m\u001b[0;34m)\u001b[0m\u001b[0;34m\u001b[0m\u001b[0;34m\u001b[0m\u001b[0m\n\u001b[0;32m--> 214\u001b[0;31m     return (read_table(source, columns=columns, memory_map=memory_map)\n\u001b[0m\u001b[1;32m    215\u001b[0m             .to_pandas(use_threads=use_threads))\n\u001b[1;32m    216\u001b[0m \u001b[0;34m\u001b[0m\u001b[0m\n",
      "\u001b[0;32m~/miniconda3/envs/python/lib/python3.7/site-packages/pyarrow/feather.py\u001b[0m in \u001b[0;36mread_table\u001b[0;34m(source, columns, memory_map)\u001b[0m\n\u001b[1;32m    234\u001b[0m     \"\"\"\n\u001b[1;32m    235\u001b[0m     \u001b[0mreader\u001b[0m \u001b[0;34m=\u001b[0m \u001b[0mext\u001b[0m\u001b[0;34m.\u001b[0m\u001b[0mFeatherReader\u001b[0m\u001b[0;34m(\u001b[0m\u001b[0;34m)\u001b[0m\u001b[0;34m\u001b[0m\u001b[0;34m\u001b[0m\u001b[0m\n\u001b[0;32m--> 236\u001b[0;31m     \u001b[0mreader\u001b[0m\u001b[0;34m.\u001b[0m\u001b[0mopen\u001b[0m\u001b[0;34m(\u001b[0m\u001b[0msource\u001b[0m\u001b[0;34m,\u001b[0m \u001b[0muse_memory_map\u001b[0m\u001b[0;34m=\u001b[0m\u001b[0mmemory_map\u001b[0m\u001b[0;34m)\u001b[0m\u001b[0;34m\u001b[0m\u001b[0;34m\u001b[0m\u001b[0m\n\u001b[0m\u001b[1;32m    237\u001b[0m \u001b[0;34m\u001b[0m\u001b[0m\n\u001b[1;32m    238\u001b[0m     \u001b[0;32mif\u001b[0m \u001b[0mcolumns\u001b[0m \u001b[0;32mis\u001b[0m \u001b[0;32mNone\u001b[0m\u001b[0;34m:\u001b[0m\u001b[0;34m\u001b[0m\u001b[0;34m\u001b[0m\u001b[0m\n",
      "\u001b[0;32m~/miniconda3/envs/python/lib/python3.7/site-packages/pyarrow/feather.pxi\u001b[0m in \u001b[0;36mpyarrow.lib.FeatherReader.open\u001b[0;34m()\u001b[0m\n",
      "\u001b[0;32m~/miniconda3/envs/python/lib/python3.7/site-packages/pyarrow/io.pxi\u001b[0m in \u001b[0;36mpyarrow.lib.get_reader\u001b[0;34m()\u001b[0m\n",
      "\u001b[0;32m~/miniconda3/envs/python/lib/python3.7/site-packages/pyarrow/io.pxi\u001b[0m in \u001b[0;36mpyarrow.lib._get_native_file\u001b[0;34m()\u001b[0m\n",
      "\u001b[0;32m~/miniconda3/envs/python/lib/python3.7/site-packages/pyarrow/io.pxi\u001b[0m in \u001b[0;36mpyarrow.lib.memory_map\u001b[0;34m()\u001b[0m\n",
      "\u001b[0;32m~/miniconda3/envs/python/lib/python3.7/site-packages/pyarrow/io.pxi\u001b[0m in \u001b[0;36mpyarrow.lib.MemoryMappedFile._open\u001b[0;34m()\u001b[0m\n",
      "\u001b[0;32m~/miniconda3/envs/python/lib/python3.7/site-packages/pyarrow/error.pxi\u001b[0m in \u001b[0;36mpyarrow.lib.pyarrow_internal_check_status\u001b[0;34m()\u001b[0m\n",
      "\u001b[0;32m~/miniconda3/envs/python/lib/python3.7/site-packages/pyarrow/error.pxi\u001b[0m in \u001b[0;36mpyarrow.lib.check_status\u001b[0;34m()\u001b[0m\n",
      "\u001b[0;31mFileNotFoundError\u001b[0m: [Errno 2] Failed to open local file '/data/analysis/ag-reils/ag-reils-shared/cardioRS/data/2_datasets_pre/cvd_massive_from_birth/temp_diagnoses_emb.feather'. Detail: [errno 2] No such file or directory"
     ]
    }
   ],
   "source": [
    "diagnoses_emb.to_feather(os.path.join(path, dataset_path, 'temp_diagnoses_emb.feather'))\n",
    "diagnoses_emb = pd.read_feather(os.path.join(path, dataset_path, 'temp_diagnoses_emb.feather'))"
   ]
  },
  {
   "cell_type": "markdown",
   "metadata": {},
   "source": [
    "# Endpoints"
   ]
  },
  {
   "cell_type": "code",
   "execution_count": null,
   "metadata": {},
   "outputs": [],
   "source": [
    "1+1"
   ]
  },
  {
   "cell_type": "code",
   "execution_count": 89,
   "metadata": {
    "ExecuteTime": {
     "end_time": "2020-11-04T12:39:55.628580Z",
     "start_time": "2020-11-04T12:33:33.036Z"
    }
   },
   "outputs": [],
   "source": [
    "### define in snomed and get icd codes from there"
   ]
  },
  {
   "cell_type": "markdown",
   "metadata": {},
   "source": [
    "### 1. Hospital admissions"
   ]
  },
  {
   "cell_type": "code",
   "execution_count": 17,
   "metadata": {
    "ExecuteTime": {
     "end_time": "2020-11-04T12:39:55.629459Z",
     "start_time": "2020-11-04T12:33:34.764Z"
    }
   },
   "outputs": [
    {
     "data": {
      "text/plain": [
       "{'myocardial_infarction': ['I21', 'I22', 'I23', 'I24', 'I25', 'I51'],\n",
       " 'stroke': ['G45', 'G46', 'I60', 'I67', 'I68', 'I69'],\n",
       " 'cancer_breast': ['C50'],\n",
       " 'diabetes': ['E10', 'E11', 'E12', 'E13', 'E14'],\n",
       " 'atrial_fibrillation': ['I47', 'I48'],\n",
       " 'copd': ['J44'],\n",
       " 'dementia': ['F00', 'F01', 'F02', 'F03', 'F09', 'G31', 'R54']}"
      ]
     },
     "execution_count": 17,
     "metadata": {},
     "output_type": "execute_result"
    }
   ],
   "source": [
    "endpoint_list = {\n",
    "    \"myocardial_infarction\": [\"Myocardial infarction\"],\n",
    "    \"stroke\": [\"Cerebrovascular disease\"],\n",
    "    \"cancer_breast\" : [\"Breast Cancer\"],\n",
    "    \"diabetes\" : [\"Diabetes\"],\n",
    "    \"atrial_fibrillation\": [\"Atrial fibrillation\", \"Atrial flutter\", \"paroxysmal tachycardia\"],\n",
    "    \"copd\": [\"COPD\"],\n",
    "    \"dementia\":[\"dementia\"]\n",
    "}\n",
    "\n",
    "endpoint_list = phenotype_children(phecodes, endpoint_list)\n",
    "endpoint_list[\"cancer_breast\"] = [\"C50\"]\n",
    "endpoint_list[\"copd\"] = [\"J44\"]\n",
    "endpoint_list[\"diabetes\"] = [\"E10\", \"E11\", \"E12\", \"E13\", \"E14\"]\n",
    "endpoint_list[\"atrial_fibrillation\"] = [\"I47\", \"I48\"]\n",
    "\n",
    "\n",
    "with open(os.path.join(path, dataset_path, 'endpoint_list.yaml'), 'w') as file: yaml.dump(endpoint_list, file, default_flow_style=False)\n",
    "endpoint_list"
   ]
  },
  {
   "cell_type": "code",
   "execution_count": 19,
   "metadata": {},
   "outputs": [],
   "source": [
    "from dateutil.relativedelta import relativedelta\n",
    "\n",
    "def extract_endpoints_tte(data, diagnoses_codes, endpoint_list, time0_col, level=None):\n",
    "    if level is not None: diagnoses_codes = diagnoses_codes.query(\"level==@level\")\n",
    "    diagnoses_codes_time0 = diagnoses_codes.merge(data[[\"eid\", time0_col]], how=\"left\", on=\"eid\")\n",
    "    \n",
    "    cens_time_right = min(diagnoses_codes.sort_values('date').groupby('origin').tail(1).date.to_list())\n",
    "    print(f\"t_0: {time0_col}\")\n",
    "    print(f\"t_cens: {cens_time_right}\")\n",
    "    \n",
    "    df_interval = diagnoses_codes_time0[(diagnoses_codes_time0.date > diagnoses_codes_time0[time0_col]) & \n",
    "                                        (diagnoses_codes_time0.date < cens_time_right)]\n",
    "    \n",
    "    temp = data[[\"eid\", time0_col]].copy()\n",
    "    for ph, ph_codes in tqdm(endpoint_list.items()):\n",
    "        regex = \"|\".join(ph_codes)\n",
    "        ph_df = df_interval[df_interval.meaning.str.contains(regex, case=False)] \\\n",
    "            .sort_values('date').groupby('eid').head(1).assign(phenotype=1, date=lambda x: x.date)\n",
    "        temp_ph = temp.merge(ph_df, how=\"left\", on=\"eid\").fillna(0)\n",
    "        temp[ph+\"_event\"], temp[ph+\"_event_date\"] = temp_ph.phenotype, temp_ph.date\n",
    "        \n",
    "        fill_date = {ph+\"_event_date\" : lambda x: [cens_time_right if event==0 else event_date for event, event_date in zip(x[ph+\"_event\"], x[ph+\"_event_date\"])]}\n",
    "        calc_tte = {ph+\"_event_time\" : lambda x: [(event_date-time0).days/365.25  for time0, event_date in zip(x[time0_col], x[ph+\"_event_date\"])]}\n",
    "        \n",
    "        temp = temp.assign(**fill_date).assign(**calc_tte).drop([ph+\"_event_date\"], axis=1)\n",
    "        \n",
    "    temp = temp.drop([time0_col], axis=1)     \n",
    "    \n",
    "    return temp.drop_duplicates()"
   ]
  },
  {
   "cell_type": "code",
   "execution_count": 20,
   "metadata": {},
   "outputs": [
    {
     "name": "stdout",
     "output_type": "stream",
     "text": [
      "t_0: birth_date\n",
      "t_cens: 2020-03-14\n"
     ]
    },
    {
     "data": {
      "application/vnd.jupyter.widget-view+json": {
       "model_id": "6a02ec6d409c4e998c0f1deb9032b535",
       "version_major": 2,
       "version_minor": 0
      },
      "text/plain": [
       "HBox(children=(FloatProgress(value=0.0, max=7.0), HTML(value='')))"
      ]
     },
     "metadata": {},
     "output_type": "display_data"
    },
    {
     "name": "stdout",
     "output_type": "stream",
     "text": [
      "\n",
      "502504\n"
     ]
    },
    {
     "data": {
      "text/html": [
       "<div>\n",
       "<style scoped>\n",
       "    .dataframe tbody tr th:only-of-type {\n",
       "        vertical-align: middle;\n",
       "    }\n",
       "\n",
       "    .dataframe tbody tr th {\n",
       "        vertical-align: top;\n",
       "    }\n",
       "\n",
       "    .dataframe thead th {\n",
       "        text-align: right;\n",
       "    }\n",
       "</style>\n",
       "<table border=\"1\" class=\"dataframe\">\n",
       "  <thead>\n",
       "    <tr style=\"text-align: right;\">\n",
       "      <th></th>\n",
       "      <th>eid</th>\n",
       "      <th>myocardial_infarction_event</th>\n",
       "      <th>myocardial_infarction_event_time</th>\n",
       "      <th>stroke_event</th>\n",
       "      <th>stroke_event_time</th>\n",
       "      <th>cancer_breast_event</th>\n",
       "      <th>cancer_breast_event_time</th>\n",
       "      <th>diabetes_event</th>\n",
       "      <th>diabetes_event_time</th>\n",
       "      <th>atrial_fibrillation_event</th>\n",
       "      <th>atrial_fibrillation_event_time</th>\n",
       "      <th>copd_event</th>\n",
       "      <th>copd_event_time</th>\n",
       "      <th>dementia_event</th>\n",
       "      <th>dementia_event_time</th>\n",
       "    </tr>\n",
       "  </thead>\n",
       "  <tbody>\n",
       "    <tr>\n",
       "      <th>0</th>\n",
       "      <td>1000018</td>\n",
       "      <td>0.0</td>\n",
       "      <td>59.334702</td>\n",
       "      <td>0.0</td>\n",
       "      <td>59.334702</td>\n",
       "      <td>0.0</td>\n",
       "      <td>59.334702</td>\n",
       "      <td>0.0</td>\n",
       "      <td>59.334702</td>\n",
       "      <td>0.0</td>\n",
       "      <td>59.334702</td>\n",
       "      <td>0.0</td>\n",
       "      <td>59.334702</td>\n",
       "      <td>0.0</td>\n",
       "      <td>59.334702</td>\n",
       "    </tr>\n",
       "    <tr>\n",
       "      <th>1</th>\n",
       "      <td>1000020</td>\n",
       "      <td>0.0</td>\n",
       "      <td>71.063655</td>\n",
       "      <td>0.0</td>\n",
       "      <td>71.063655</td>\n",
       "      <td>0.0</td>\n",
       "      <td>71.063655</td>\n",
       "      <td>0.0</td>\n",
       "      <td>71.063655</td>\n",
       "      <td>0.0</td>\n",
       "      <td>71.063655</td>\n",
       "      <td>0.0</td>\n",
       "      <td>71.063655</td>\n",
       "      <td>0.0</td>\n",
       "      <td>71.063655</td>\n",
       "    </tr>\n",
       "    <tr>\n",
       "      <th>2</th>\n",
       "      <td>1000037</td>\n",
       "      <td>0.0</td>\n",
       "      <td>70.338125</td>\n",
       "      <td>0.0</td>\n",
       "      <td>70.338125</td>\n",
       "      <td>0.0</td>\n",
       "      <td>70.338125</td>\n",
       "      <td>0.0</td>\n",
       "      <td>70.338125</td>\n",
       "      <td>0.0</td>\n",
       "      <td>70.338125</td>\n",
       "      <td>0.0</td>\n",
       "      <td>70.338125</td>\n",
       "      <td>0.0</td>\n",
       "      <td>70.338125</td>\n",
       "    </tr>\n",
       "    <tr>\n",
       "      <th>3</th>\n",
       "      <td>1000043</td>\n",
       "      <td>1.0</td>\n",
       "      <td>68.123203</td>\n",
       "      <td>0.0</td>\n",
       "      <td>73.779603</td>\n",
       "      <td>0.0</td>\n",
       "      <td>73.779603</td>\n",
       "      <td>0.0</td>\n",
       "      <td>73.779603</td>\n",
       "      <td>0.0</td>\n",
       "      <td>73.779603</td>\n",
       "      <td>1.0</td>\n",
       "      <td>63.293634</td>\n",
       "      <td>0.0</td>\n",
       "      <td>73.779603</td>\n",
       "    </tr>\n",
       "    <tr>\n",
       "      <th>4</th>\n",
       "      <td>1000051</td>\n",
       "      <td>0.0</td>\n",
       "      <td>64.761123</td>\n",
       "      <td>0.0</td>\n",
       "      <td>64.761123</td>\n",
       "      <td>0.0</td>\n",
       "      <td>64.761123</td>\n",
       "      <td>1.0</td>\n",
       "      <td>45.062286</td>\n",
       "      <td>0.0</td>\n",
       "      <td>64.761123</td>\n",
       "      <td>1.0</td>\n",
       "      <td>21.062286</td>\n",
       "      <td>0.0</td>\n",
       "      <td>64.761123</td>\n",
       "    </tr>\n",
       "  </tbody>\n",
       "</table>\n",
       "</div>"
      ],
      "text/plain": [
       "       eid  myocardial_infarction_event  myocardial_infarction_event_time  \\\n",
       "0  1000018                          0.0                         59.334702   \n",
       "1  1000020                          0.0                         71.063655   \n",
       "2  1000037                          0.0                         70.338125   \n",
       "3  1000043                          1.0                         68.123203   \n",
       "4  1000051                          0.0                         64.761123   \n",
       "\n",
       "   stroke_event  stroke_event_time  cancer_breast_event  \\\n",
       "0           0.0          59.334702                  0.0   \n",
       "1           0.0          71.063655                  0.0   \n",
       "2           0.0          70.338125                  0.0   \n",
       "3           0.0          73.779603                  0.0   \n",
       "4           0.0          64.761123                  0.0   \n",
       "\n",
       "   cancer_breast_event_time  diabetes_event  diabetes_event_time  \\\n",
       "0                 59.334702             0.0            59.334702   \n",
       "1                 71.063655             0.0            71.063655   \n",
       "2                 70.338125             0.0            70.338125   \n",
       "3                 73.779603             0.0            73.779603   \n",
       "4                 64.761123             1.0            45.062286   \n",
       "\n",
       "   atrial_fibrillation_event  atrial_fibrillation_event_time  copd_event  \\\n",
       "0                        0.0                       59.334702         0.0   \n",
       "1                        0.0                       71.063655         0.0   \n",
       "2                        0.0                       70.338125         0.0   \n",
       "3                        0.0                       73.779603         1.0   \n",
       "4                        0.0                       64.761123         1.0   \n",
       "\n",
       "   copd_event_time  dementia_event  dementia_event_time  \n",
       "0        59.334702             0.0            59.334702  \n",
       "1        71.063655             0.0            71.063655  \n",
       "2        70.338125             0.0            70.338125  \n",
       "3        63.293634             0.0            73.779603  \n",
       "4        21.062286             0.0            64.761123  "
      ]
     },
     "execution_count": 20,
     "metadata": {},
     "output_type": "execute_result"
    }
   ],
   "source": [
    "endpoints_hospital = extract_endpoints_tte(basics, diagnoses_codes, endpoint_list, time0_col)\n",
    "print(len(endpoints_hospital))\n",
    "endpoints_hospital.head()"
   ]
  },
  {
   "cell_type": "markdown",
   "metadata": {},
   "source": [
    "### 2. Death registry"
   ]
  },
  {
   "cell_type": "code",
   "execution_count": 21,
   "metadata": {},
   "outputs": [],
   "source": [
    "death_list = {\n",
    "    \"death_allcause\":[],\n",
    "    \"death_cvd\":['I{:02}'.format(ID+1) for ID in range(0, 98)],\n",
    "}\n",
    "\n",
    "death_codes = pd.read_feather(f\"{data_path}/1_decoded/codes_death_records.feather\")#.drop(\"level\", axis=1)\n",
    "\n",
    "with open(os.path.join(path, dataset_path, 'death_list.yaml'), 'w') as file: yaml.dump(death_list, file, default_flow_style=False)"
   ]
  },
  {
   "cell_type": "code",
   "execution_count": 23,
   "metadata": {},
   "outputs": [
    {
     "name": "stdout",
     "output_type": "stream",
     "text": [
      "t_0: birth_date\n",
      "t_cens: 2020-06-28\n"
     ]
    },
    {
     "data": {
      "application/vnd.jupyter.widget-view+json": {
       "model_id": "9ca18723f9984f399b46bce781a3f2dd",
       "version_major": 2,
       "version_minor": 0
      },
      "text/plain": [
       "HBox(children=(FloatProgress(value=0.0, max=2.0), HTML(value='')))"
      ]
     },
     "metadata": {},
     "output_type": "display_data"
    },
    {
     "name": "stdout",
     "output_type": "stream",
     "text": [
      "\n"
     ]
    }
   ],
   "source": [
    "endpoints_death = extract_endpoints_tte(basics, death_codes, death_list, time0_col, level=\"1\")"
   ]
  },
  {
   "cell_type": "markdown",
   "metadata": {},
   "source": [
    "## SCORES"
   ]
  },
  {
   "cell_type": "code",
   "execution_count": 24,
   "metadata": {},
   "outputs": [],
   "source": [
    "scores_list = {\n",
    "    \"SCORE\":['I{:02}'.format(ID) for ID in [10, 11, 12, 13, 14, 15, 20, 21, 22, 23, 24, 25, 44, 45, 46, 47, 48, 49, 50, 51, 61, 62, 63, 64, 65, 66, 67, 68, 69, 70, 71, 72, 73]],\n",
    "    \"ASCVD\":['I{:02}'.format(ID) for ID in [20, 21, 22, 23, 24, 25, 63]],\n",
    "    \"QRISK3\":[\"G45\", \"I20\", \"I21\", \"I22\", \"I23\", \"I24\", \"I25\", \"I63\", \"I64\"],\n",
    "    \"MACE\":[\"G45\", \"I21\", \"I22\", \"I23\", \"I24\", \"I25\", \"I63\", \"I64\"],    \n",
    "}\n",
    "with open(os.path.join(path, dataset_path, 'scores_list.yaml'), 'w') as file: yaml.dump(scores_list, file, default_flow_style=False)"
   ]
  },
  {
   "cell_type": "code",
   "execution_count": 25,
   "metadata": {},
   "outputs": [],
   "source": [
    "scores_list_hospital = {}\n",
    "scores_list_death = {}\n",
    "for score, score_codes in scores_list.items():\n",
    "    scores_list_hospital[\"hospital_\"+score] = score_codes\n",
    "    scores_list_death[\"death_\"+score] = score_codes"
   ]
  },
  {
   "cell_type": "code",
   "execution_count": 26,
   "metadata": {},
   "outputs": [
    {
     "name": "stdout",
     "output_type": "stream",
     "text": [
      "t_0: birth_date\n",
      "t_cens: 2020-03-14\n"
     ]
    },
    {
     "data": {
      "application/vnd.jupyter.widget-view+json": {
       "model_id": "17ed4f235a6e4cc08cdc2789bfc62d73",
       "version_major": 2,
       "version_minor": 0
      },
      "text/plain": [
       "HBox(children=(FloatProgress(value=0.0, max=4.0), HTML(value='')))"
      ]
     },
     "metadata": {},
     "output_type": "display_data"
    },
    {
     "name": "stdout",
     "output_type": "stream",
     "text": [
      "\n",
      "t_0: birth_date\n",
      "t_cens: 2020-06-28\n"
     ]
    },
    {
     "data": {
      "application/vnd.jupyter.widget-view+json": {
       "model_id": "2bd6de2f761a464da6f8c6c8ba22a1d8",
       "version_major": 2,
       "version_minor": 0
      },
      "text/plain": [
       "HBox(children=(FloatProgress(value=0.0, max=4.0), HTML(value='')))"
      ]
     },
     "metadata": {},
     "output_type": "display_data"
    },
    {
     "name": "stdout",
     "output_type": "stream",
     "text": [
      "\n"
     ]
    }
   ],
   "source": [
    "endpoints_scores = {\n",
    "    \"hospital\": extract_endpoints_tte(basics, diagnoses_codes, scores_list_hospital, time0_col=time0_col),\n",
    "    \"death\": extract_endpoints_tte(basics, death_codes, scores_list_death, time0_col=time0_col, level=1)}"
   ]
  },
  {
   "cell_type": "code",
   "execution_count": 27,
   "metadata": {},
   "outputs": [],
   "source": [
    "endpoints_scores_all = endpoints_scores[\"hospital\"].merge(endpoints_scores[\"death\"], on=\"eid\", how=\"left\")"
   ]
  },
  {
   "cell_type": "markdown",
   "metadata": {},
   "source": [
    "### ESC SCORE (Conroy 2003)"
   ]
  },
  {
   "cell_type": "code",
   "execution_count": 28,
   "metadata": {},
   "outputs": [
    {
     "name": "stdout",
     "output_type": "stream",
     "text": [
      "5323\n"
     ]
    },
    {
     "data": {
      "text/html": [
       "<div>\n",
       "<style scoped>\n",
       "    .dataframe tbody tr th:only-of-type {\n",
       "        vertical-align: middle;\n",
       "    }\n",
       "\n",
       "    .dataframe tbody tr th {\n",
       "        vertical-align: top;\n",
       "    }\n",
       "\n",
       "    .dataframe thead th {\n",
       "        text-align: right;\n",
       "    }\n",
       "</style>\n",
       "<table border=\"1\" class=\"dataframe\">\n",
       "  <thead>\n",
       "    <tr style=\"text-align: right;\">\n",
       "      <th></th>\n",
       "      <th>eid</th>\n",
       "      <th>SCORE_event</th>\n",
       "      <th>SCORE_event_time</th>\n",
       "    </tr>\n",
       "  </thead>\n",
       "  <tbody>\n",
       "    <tr>\n",
       "      <th>45</th>\n",
       "      <td>1000463</td>\n",
       "      <td>1.0</td>\n",
       "      <td>74.165640</td>\n",
       "    </tr>\n",
       "    <tr>\n",
       "      <th>83</th>\n",
       "      <td>1000841</td>\n",
       "      <td>1.0</td>\n",
       "      <td>76.005476</td>\n",
       "    </tr>\n",
       "    <tr>\n",
       "      <th>102</th>\n",
       "      <td>1001031</td>\n",
       "      <td>1.0</td>\n",
       "      <td>75.537303</td>\n",
       "    </tr>\n",
       "    <tr>\n",
       "      <th>122</th>\n",
       "      <td>1001237</td>\n",
       "      <td>1.0</td>\n",
       "      <td>50.132786</td>\n",
       "    </tr>\n",
       "    <tr>\n",
       "      <th>176</th>\n",
       "      <td>1001777</td>\n",
       "      <td>1.0</td>\n",
       "      <td>72.238193</td>\n",
       "    </tr>\n",
       "  </tbody>\n",
       "</table>\n",
       "</div>"
      ],
      "text/plain": [
       "         eid  SCORE_event  SCORE_event_time\n",
       "45   1000463          1.0         74.165640\n",
       "83   1000841          1.0         76.005476\n",
       "102  1001031          1.0         75.537303\n",
       "122  1001237          1.0         50.132786\n",
       "176  1001777          1.0         72.238193"
      ]
     },
     "execution_count": 28,
     "metadata": {},
     "output_type": "execute_result"
    }
   ],
   "source": [
    "score = \"SCORE\"\n",
    "\n",
    "temp = endpoints_scores_all.filter(regex=\"eid|\"+score).rename(columns={\"death_SCORE_event\":\"SCORE_event\", \"death_SCORE_event_time\":\"SCORE_event_time\"})\n",
    "score_SCORE = temp = temp[[\"eid\", \"SCORE_event\", \"SCORE_event_time\"]]\n",
    "print(len(temp.query(score+\"_event==1\")))\n",
    "temp.query(score+\"_event==1\").head()"
   ]
  },
  {
   "cell_type": "markdown",
   "metadata": {},
   "source": [
    "### ASCVD (Goff 2014)"
   ]
  },
  {
   "cell_type": "code",
   "execution_count": 29,
   "metadata": {},
   "outputs": [
    {
     "name": "stdout",
     "output_type": "stream",
     "text": [
      "61785\n"
     ]
    },
    {
     "data": {
      "text/html": [
       "<div>\n",
       "<style scoped>\n",
       "    .dataframe tbody tr th:only-of-type {\n",
       "        vertical-align: middle;\n",
       "    }\n",
       "\n",
       "    .dataframe tbody tr th {\n",
       "        vertical-align: top;\n",
       "    }\n",
       "\n",
       "    .dataframe thead th {\n",
       "        text-align: right;\n",
       "    }\n",
       "</style>\n",
       "<table border=\"1\" class=\"dataframe\">\n",
       "  <thead>\n",
       "    <tr style=\"text-align: right;\">\n",
       "      <th></th>\n",
       "      <th>eid</th>\n",
       "      <th>ASCVD_event</th>\n",
       "      <th>ASCVD_event_time</th>\n",
       "    </tr>\n",
       "  </thead>\n",
       "  <tbody>\n",
       "    <tr>\n",
       "      <th>2</th>\n",
       "      <td>1000037</td>\n",
       "      <td>1</td>\n",
       "      <td>66.970568</td>\n",
       "    </tr>\n",
       "    <tr>\n",
       "      <th>3</th>\n",
       "      <td>1000043</td>\n",
       "      <td>1</td>\n",
       "      <td>68.123203</td>\n",
       "    </tr>\n",
       "    <tr>\n",
       "      <th>5</th>\n",
       "      <td>1000066</td>\n",
       "      <td>1</td>\n",
       "      <td>60.944559</td>\n",
       "    </tr>\n",
       "    <tr>\n",
       "      <th>6</th>\n",
       "      <td>1000079</td>\n",
       "      <td>1</td>\n",
       "      <td>61.054073</td>\n",
       "    </tr>\n",
       "    <tr>\n",
       "      <th>22</th>\n",
       "      <td>1000233</td>\n",
       "      <td>1</td>\n",
       "      <td>68.673511</td>\n",
       "    </tr>\n",
       "  </tbody>\n",
       "</table>\n",
       "</div>"
      ],
      "text/plain": [
       "        eid  ASCVD_event  ASCVD_event_time\n",
       "2   1000037            1         66.970568\n",
       "3   1000043            1         68.123203\n",
       "5   1000066            1         60.944559\n",
       "6   1000079            1         61.054073\n",
       "22  1000233            1         68.673511"
      ]
     },
     "execution_count": 29,
     "metadata": {},
     "output_type": "execute_result"
    }
   ],
   "source": [
    "score = \"ASCVD\"\n",
    "temp = endpoints_scores_all.filter(regex=\"eid|\"+score)\n",
    "\n",
    "aggr_event = {score +\"_event\" : lambda x: [1 if (hospital_event==1) | (death_event == 1) else 0 \n",
    "                                                    for hospital_event, death_event in zip(x[\"hospital_\"+score+\"_event\"], x[\"death_\"+score+\"_event\"])]}\n",
    "aggr_date = {score +\"_event_time\" : lambda x: [min(hospital_event_time, death_event_time)\n",
    "                                                        for hospital_event_time, death_event_time in zip(x[\"hospital_\"+score+\"_event_time\"], x[\"death_\"+score+\"_event_time\"])]}\n",
    "\n",
    "score_ASCVD = temp = temp.assign(**aggr_event).assign(**aggr_date)[[\"eid\", score +\"_event\", score +\"_event_time\"]]\n",
    "print(len(temp.query(score+\"_event==1\")))\n",
    "temp.query(score+\"_event==1\").head()"
   ]
  },
  {
   "cell_type": "markdown",
   "metadata": {},
   "source": [
    "### UK QRISK3 (2017)"
   ]
  },
  {
   "cell_type": "code",
   "execution_count": 30,
   "metadata": {},
   "outputs": [
    {
     "name": "stdout",
     "output_type": "stream",
     "text": [
      "69344\n"
     ]
    },
    {
     "data": {
      "text/html": [
       "<div>\n",
       "<style scoped>\n",
       "    .dataframe tbody tr th:only-of-type {\n",
       "        vertical-align: middle;\n",
       "    }\n",
       "\n",
       "    .dataframe tbody tr th {\n",
       "        vertical-align: top;\n",
       "    }\n",
       "\n",
       "    .dataframe thead th {\n",
       "        text-align: right;\n",
       "    }\n",
       "</style>\n",
       "<table border=\"1\" class=\"dataframe\">\n",
       "  <thead>\n",
       "    <tr style=\"text-align: right;\">\n",
       "      <th></th>\n",
       "      <th>eid</th>\n",
       "      <th>QRISK3_event</th>\n",
       "      <th>QRISK3_event_time</th>\n",
       "    </tr>\n",
       "  </thead>\n",
       "  <tbody>\n",
       "    <tr>\n",
       "      <th>2</th>\n",
       "      <td>1000037</td>\n",
       "      <td>1</td>\n",
       "      <td>66.970568</td>\n",
       "    </tr>\n",
       "    <tr>\n",
       "      <th>3</th>\n",
       "      <td>1000043</td>\n",
       "      <td>1</td>\n",
       "      <td>68.123203</td>\n",
       "    </tr>\n",
       "    <tr>\n",
       "      <th>5</th>\n",
       "      <td>1000066</td>\n",
       "      <td>1</td>\n",
       "      <td>60.944559</td>\n",
       "    </tr>\n",
       "    <tr>\n",
       "      <th>6</th>\n",
       "      <td>1000079</td>\n",
       "      <td>1</td>\n",
       "      <td>61.054073</td>\n",
       "    </tr>\n",
       "    <tr>\n",
       "      <th>22</th>\n",
       "      <td>1000233</td>\n",
       "      <td>1</td>\n",
       "      <td>68.673511</td>\n",
       "    </tr>\n",
       "  </tbody>\n",
       "</table>\n",
       "</div>"
      ],
      "text/plain": [
       "        eid  QRISK3_event  QRISK3_event_time\n",
       "2   1000037             1          66.970568\n",
       "3   1000043             1          68.123203\n",
       "5   1000066             1          60.944559\n",
       "6   1000079             1          61.054073\n",
       "22  1000233             1          68.673511"
      ]
     },
     "execution_count": 30,
     "metadata": {},
     "output_type": "execute_result"
    }
   ],
   "source": [
    "score = \"QRISK3\"\n",
    "temp = endpoints_scores_all.filter(regex=\"eid|\"+score)\n",
    "\n",
    "aggr_event = {score +\"_event\" : lambda x: [1 if (hospital_event==1) | (death_event == 1) else 0 \n",
    "                                                    for hospital_event, death_event in zip(x[\"hospital_\"+score+\"_event\"], x[\"death_\"+score+\"_event\"])]}\n",
    "aggr_date = {score +\"_event_time\" : lambda x: [min(hospital_event_time, death_event_time)\n",
    "                                                        for hospital_event_time, death_event_time in zip(x[\"hospital_\"+score+\"_event_time\"], x[\"death_\"+score+\"_event_time\"])]}\n",
    "\n",
    "score_QRISK3 = temp = temp.assign(**aggr_event).assign(**aggr_date)[[\"eid\", score +\"_event\", score +\"_event_time\"]]\n",
    "print(len(temp.query(score+\"_event==1\")))\n",
    "temp.query(score+\"_event==1\").head()"
   ]
  },
  {
   "cell_type": "markdown",
   "metadata": {},
   "source": [
    "### MACE (2020)"
   ]
  },
  {
   "cell_type": "code",
   "execution_count": 31,
   "metadata": {},
   "outputs": [
    {
     "name": "stdout",
     "output_type": "stream",
     "text": [
      "62097\n"
     ]
    },
    {
     "data": {
      "text/html": [
       "<div>\n",
       "<style scoped>\n",
       "    .dataframe tbody tr th:only-of-type {\n",
       "        vertical-align: middle;\n",
       "    }\n",
       "\n",
       "    .dataframe tbody tr th {\n",
       "        vertical-align: top;\n",
       "    }\n",
       "\n",
       "    .dataframe thead th {\n",
       "        text-align: right;\n",
       "    }\n",
       "</style>\n",
       "<table border=\"1\" class=\"dataframe\">\n",
       "  <thead>\n",
       "    <tr style=\"text-align: right;\">\n",
       "      <th></th>\n",
       "      <th>eid</th>\n",
       "      <th>MACE_event</th>\n",
       "      <th>MACE_event_time</th>\n",
       "    </tr>\n",
       "  </thead>\n",
       "  <tbody>\n",
       "    <tr>\n",
       "      <th>3</th>\n",
       "      <td>1000043</td>\n",
       "      <td>1</td>\n",
       "      <td>68.123203</td>\n",
       "    </tr>\n",
       "    <tr>\n",
       "      <th>22</th>\n",
       "      <td>1000233</td>\n",
       "      <td>1</td>\n",
       "      <td>68.673511</td>\n",
       "    </tr>\n",
       "    <tr>\n",
       "      <th>30</th>\n",
       "      <td>1000319</td>\n",
       "      <td>1</td>\n",
       "      <td>56.922656</td>\n",
       "    </tr>\n",
       "    <tr>\n",
       "      <th>45</th>\n",
       "      <td>1000463</td>\n",
       "      <td>1</td>\n",
       "      <td>74.069815</td>\n",
       "    </tr>\n",
       "    <tr>\n",
       "      <th>53</th>\n",
       "      <td>1000548</td>\n",
       "      <td>1</td>\n",
       "      <td>50.255989</td>\n",
       "    </tr>\n",
       "  </tbody>\n",
       "</table>\n",
       "</div>"
      ],
      "text/plain": [
       "        eid  MACE_event  MACE_event_time\n",
       "3   1000043           1        68.123203\n",
       "22  1000233           1        68.673511\n",
       "30  1000319           1        56.922656\n",
       "45  1000463           1        74.069815\n",
       "53  1000548           1        50.255989"
      ]
     },
     "execution_count": 31,
     "metadata": {},
     "output_type": "execute_result"
    }
   ],
   "source": [
    "score = \"MACE\"\n",
    "temp = endpoints_scores_all.filter(regex=\"eid|\"+score)\n",
    "\n",
    "aggr_event = {score +\"_event\" : lambda x: [1 if (hospital_event==1) | (death_event == 1) else 0 \n",
    "                                                    for hospital_event, death_event in zip(x[\"hospital_\"+score+\"_event\"], x[\"death_\"+score+\"_event\"])]}\n",
    "aggr_date = {score +\"_event_time\" : lambda x: [min(hospital_event_time, death_event_time)\n",
    "                                                        for hospital_event_time, death_event_time in zip(x[\"hospital_\"+score+\"_event_time\"], x[\"death_\"+score+\"_event_time\"])]}\n",
    "\n",
    "score_MACE = temp = temp.assign(**aggr_event).assign(**aggr_date)[[\"eid\", score +\"_event\", score +\"_event_time\"]]\n",
    "print(len(temp.query(score+\"_event==1\")))\n",
    "temp.query(score+\"_event==1\").head()"
   ]
  },
  {
   "cell_type": "markdown",
   "metadata": {},
   "source": [
    "## Merge Everything"
   ]
  },
  {
   "cell_type": "code",
   "execution_count": 32,
   "metadata": {},
   "outputs": [],
   "source": [
    "data_dfs_dict = {\"basics\": pd.read_feather(os.path.join(path, dataset_path, 'temp_basics.feather')), \n",
    "                 \"questionnaire\": pd.read_feather(os.path.join(path, dataset_path, 'temp_questionnaire.feather')), \n",
    "                 \"measurements\": pd.read_feather(os.path.join(path, dataset_path, 'temp_measurements.feather')), \n",
    "                 \"labs\": pd.read_feather(os.path.join(path, dataset_path, 'temp_labs.feather')), \n",
    "                 \"family_history\": pd.read_feather(os.path.join(path, dataset_path, 'temp_family_history.feather')), \n",
    "                 \"diagnoses\": pd.read_feather(os.path.join(path, dataset_path, 'temp_diagnoses.feather')),\n",
    "                # \"diagnoses_emb\": pd.read_feather(os.path.join(path, dataset_path, 'temp_diagnoses_emb.feather')), \n",
    "                 \"medications\": pd.read_feather(os.path.join(path, dataset_path, 'temp_medications.feather')), \n",
    "                 \"endpoints_hospital\":endpoints_hospital, \n",
    "                 \"endpoints_death\":endpoints_death, \n",
    "                 \"score_SCORE\":score_SCORE, \n",
    "                 \"score_ASCVD\":score_ASCVD, \n",
    "                 \"score_QRISK3\":score_QRISK3,\n",
    "                 \"score_MACE\":score_MACE}"
   ]
  },
  {
   "cell_type": "code",
   "execution_count": 33,
   "metadata": {},
   "outputs": [],
   "source": [
    "def get_cols_clean(df):\n",
    "    df.columns = df.columns.str.replace(r'_0_0$', '').str.replace(r'_f[0-9]+$', '').str.replace(\"_automated_reading\", '')\n",
    "    return df.columns\n",
    "\n",
    "def clean_df(df):\n",
    "    df.columns = get_cols_clean(df)\n",
    "    return df"
   ]
  },
  {
   "cell_type": "code",
   "execution_count": 34,
   "metadata": {},
   "outputs": [],
   "source": [
    "import pandas as pd\n",
    "from functools import reduce\n",
    "\n",
    "data_baseline = reduce(lambda x, y: pd.merge(x, y, on = 'eid'), list(data_dfs_dict.values()))"
   ]
  },
  {
   "cell_type": "code",
   "execution_count": 35,
   "metadata": {},
   "outputs": [],
   "source": [
    "data_baseline = clean_df(data_baseline)"
   ]
  },
  {
   "cell_type": "code",
   "execution_count": 36,
   "metadata": {},
   "outputs": [],
   "source": [
    "for col in [col for col in list(data_baseline.columns) if (\"_event\" in col) & (\"_time\" not in col)]:\n",
    "    data_baseline[col] = data_baseline[col].astype(int)"
   ]
  },
  {
   "cell_type": "code",
   "execution_count": 37,
   "metadata": {},
   "outputs": [],
   "source": [
    "covariates = [col for col in list(data_baseline.columns) if not \"_event\" in col]\n",
    "targets = [col for col in list(data_baseline.columns) if \"_event\" in col]"
   ]
  },
  {
   "cell_type": "markdown",
   "metadata": {},
   "source": [
    "# Exporting"
   ]
  },
  {
   "cell_type": "code",
   "execution_count": 38,
   "metadata": {},
   "outputs": [
    {
     "data": {
      "text/html": [
       "<div>\n",
       "<style scoped>\n",
       "    .dataframe tbody tr th:only-of-type {\n",
       "        vertical-align: middle;\n",
       "    }\n",
       "\n",
       "    .dataframe tbody tr th {\n",
       "        vertical-align: top;\n",
       "    }\n",
       "\n",
       "    .dataframe thead th {\n",
       "        text-align: right;\n",
       "    }\n",
       "</style>\n",
       "<table border=\"1\" class=\"dataframe\">\n",
       "  <thead>\n",
       "    <tr style=\"text-align: right;\">\n",
       "      <th></th>\n",
       "      <th>eid</th>\n",
       "      <th>age_at_recruitment</th>\n",
       "      <th>sex</th>\n",
       "      <th>ethnic_background</th>\n",
       "      <th>townsend_deprivation_index_at_recruitment</th>\n",
       "      <th>date_of_attending_assessment_centre</th>\n",
       "      <th>birth_date</th>\n",
       "      <th>overall_health_rating</th>\n",
       "      <th>smoking_status</th>\n",
       "      <th>alcohol_intake_frequency</th>\n",
       "      <th>...</th>\n",
       "      <th>death_cvd_event</th>\n",
       "      <th>death_cvd_event_time</th>\n",
       "      <th>SCORE_event</th>\n",
       "      <th>SCORE_event_time</th>\n",
       "      <th>ASCVD_event</th>\n",
       "      <th>ASCVD_event_time</th>\n",
       "      <th>QRISK3_event</th>\n",
       "      <th>QRISK3_event_time</th>\n",
       "      <th>MACE_event</th>\n",
       "      <th>MACE_event_time</th>\n",
       "    </tr>\n",
       "  </thead>\n",
       "  <tbody>\n",
       "    <tr>\n",
       "      <th>0</th>\n",
       "      <td>1000018</td>\n",
       "      <td>49.0</td>\n",
       "      <td>Female</td>\n",
       "      <td>White</td>\n",
       "      <td>-1.852930</td>\n",
       "      <td>2009-11-12</td>\n",
       "      <td>1960-11-12</td>\n",
       "      <td>Fair</td>\n",
       "      <td>Current</td>\n",
       "      <td>Once or twice a week</td>\n",
       "      <td>...</td>\n",
       "      <td>0</td>\n",
       "      <td>59.624914</td>\n",
       "      <td>0</td>\n",
       "      <td>59.624914</td>\n",
       "      <td>0</td>\n",
       "      <td>59.334702</td>\n",
       "      <td>0</td>\n",
       "      <td>59.334702</td>\n",
       "      <td>0</td>\n",
       "      <td>59.334702</td>\n",
       "    </tr>\n",
       "    <tr>\n",
       "      <th>1</th>\n",
       "      <td>1000020</td>\n",
       "      <td>59.0</td>\n",
       "      <td>Male</td>\n",
       "      <td>White</td>\n",
       "      <td>0.204248</td>\n",
       "      <td>2008-02-19</td>\n",
       "      <td>1949-02-19</td>\n",
       "      <td>Good</td>\n",
       "      <td>Current</td>\n",
       "      <td>Once or twice a week</td>\n",
       "      <td>...</td>\n",
       "      <td>0</td>\n",
       "      <td>71.353867</td>\n",
       "      <td>0</td>\n",
       "      <td>71.353867</td>\n",
       "      <td>0</td>\n",
       "      <td>71.063655</td>\n",
       "      <td>0</td>\n",
       "      <td>71.063655</td>\n",
       "      <td>0</td>\n",
       "      <td>71.063655</td>\n",
       "    </tr>\n",
       "    <tr>\n",
       "      <th>2</th>\n",
       "      <td>1000037</td>\n",
       "      <td>59.0</td>\n",
       "      <td>Female</td>\n",
       "      <td>White</td>\n",
       "      <td>-3.498860</td>\n",
       "      <td>2008-11-11</td>\n",
       "      <td>1949-11-11</td>\n",
       "      <td>Good</td>\n",
       "      <td>Previous</td>\n",
       "      <td>Once or twice a week</td>\n",
       "      <td>...</td>\n",
       "      <td>0</td>\n",
       "      <td>70.628337</td>\n",
       "      <td>0</td>\n",
       "      <td>70.628337</td>\n",
       "      <td>1</td>\n",
       "      <td>66.970568</td>\n",
       "      <td>1</td>\n",
       "      <td>66.970568</td>\n",
       "      <td>0</td>\n",
       "      <td>70.338125</td>\n",
       "    </tr>\n",
       "    <tr>\n",
       "      <th>3</th>\n",
       "      <td>1000043</td>\n",
       "      <td>63.0</td>\n",
       "      <td>Male</td>\n",
       "      <td>White</td>\n",
       "      <td>-5.351150</td>\n",
       "      <td>2009-06-03</td>\n",
       "      <td>1946-06-03</td>\n",
       "      <td>Fair</td>\n",
       "      <td>Previous</td>\n",
       "      <td>Three or four times a week</td>\n",
       "      <td>...</td>\n",
       "      <td>0</td>\n",
       "      <td>74.069815</td>\n",
       "      <td>0</td>\n",
       "      <td>74.069815</td>\n",
       "      <td>1</td>\n",
       "      <td>68.123203</td>\n",
       "      <td>1</td>\n",
       "      <td>68.123203</td>\n",
       "      <td>1</td>\n",
       "      <td>68.123203</td>\n",
       "    </tr>\n",
       "    <tr>\n",
       "      <th>4</th>\n",
       "      <td>1000051</td>\n",
       "      <td>51.0</td>\n",
       "      <td>Female</td>\n",
       "      <td>White</td>\n",
       "      <td>-1.799080</td>\n",
       "      <td>2006-06-10</td>\n",
       "      <td>1955-06-10</td>\n",
       "      <td>Poor</td>\n",
       "      <td>Never</td>\n",
       "      <td>One to three times a month</td>\n",
       "      <td>...</td>\n",
       "      <td>0</td>\n",
       "      <td>65.051335</td>\n",
       "      <td>0</td>\n",
       "      <td>65.051335</td>\n",
       "      <td>0</td>\n",
       "      <td>64.761123</td>\n",
       "      <td>0</td>\n",
       "      <td>64.761123</td>\n",
       "      <td>0</td>\n",
       "      <td>64.761123</td>\n",
       "    </tr>\n",
       "  </tbody>\n",
       "</table>\n",
       "<p>5 rows × 3746 columns</p>\n",
       "</div>"
      ],
      "text/plain": [
       "       eid  age_at_recruitment     sex ethnic_background  \\\n",
       "0  1000018                49.0  Female             White   \n",
       "1  1000020                59.0    Male             White   \n",
       "2  1000037                59.0  Female             White   \n",
       "3  1000043                63.0    Male             White   \n",
       "4  1000051                51.0  Female             White   \n",
       "\n",
       "   townsend_deprivation_index_at_recruitment  \\\n",
       "0                                  -1.852930   \n",
       "1                                   0.204248   \n",
       "2                                  -3.498860   \n",
       "3                                  -5.351150   \n",
       "4                                  -1.799080   \n",
       "\n",
       "  date_of_attending_assessment_centre  birth_date overall_health_rating  \\\n",
       "0                          2009-11-12  1960-11-12                  Fair   \n",
       "1                          2008-02-19  1949-02-19                  Good   \n",
       "2                          2008-11-11  1949-11-11                  Good   \n",
       "3                          2009-06-03  1946-06-03                  Fair   \n",
       "4                          2006-06-10  1955-06-10                  Poor   \n",
       "\n",
       "  smoking_status    alcohol_intake_frequency  ...  death_cvd_event  \\\n",
       "0        Current        Once or twice a week  ...                0   \n",
       "1        Current        Once or twice a week  ...                0   \n",
       "2       Previous        Once or twice a week  ...                0   \n",
       "3       Previous  Three or four times a week  ...                0   \n",
       "4          Never  One to three times a month  ...                0   \n",
       "\n",
       "   death_cvd_event_time  SCORE_event  SCORE_event_time  ASCVD_event  \\\n",
       "0             59.624914            0         59.624914            0   \n",
       "1             71.353867            0         71.353867            0   \n",
       "2             70.628337            0         70.628337            1   \n",
       "3             74.069815            0         74.069815            1   \n",
       "4             65.051335            0         65.051335            0   \n",
       "\n",
       "   ASCVD_event_time  QRISK3_event  QRISK3_event_time  MACE_event  \\\n",
       "0         59.334702             0          59.334702           0   \n",
       "1         71.063655             0          71.063655           0   \n",
       "2         66.970568             1          66.970568           0   \n",
       "3         68.123203             1          68.123203           1   \n",
       "4         64.761123             0          64.761123           0   \n",
       "\n",
       "   MACE_event_time  \n",
       "0        59.334702  \n",
       "1        71.063655  \n",
       "2        70.338125  \n",
       "3        68.123203  \n",
       "4        64.761123  \n",
       "\n",
       "[5 rows x 3746 columns]"
      ]
     },
     "execution_count": 38,
     "metadata": {},
     "output_type": "execute_result"
    }
   ],
   "source": [
    "data_baseline.head()"
   ]
  },
  {
   "cell_type": "code",
   "execution_count": 39,
   "metadata": {},
   "outputs": [],
   "source": [
    "data_cols = {}\n",
    "for topic, df in data_dfs_dict.items(): \n",
    "    data_cols[\"eid\"] = [\"admin\"]\n",
    "    data_cols[topic]=list(get_cols_clean(df))[1:]"
   ]
  },
  {
   "cell_type": "code",
   "execution_count": 40,
   "metadata": {},
   "outputs": [],
   "source": [
    "data_cols_single = {}\n",
    "for topic, columns in data_cols.items():\n",
    "    for col in columns:\n",
    "        data_cols_single[col] = topic"
   ]
  },
  {
   "cell_type": "code",
   "execution_count": 41,
   "metadata": {},
   "outputs": [
    {
     "data": {
      "text/html": [
       "<div>\n",
       "<style scoped>\n",
       "    .dataframe tbody tr th:only-of-type {\n",
       "        vertical-align: middle;\n",
       "    }\n",
       "\n",
       "    .dataframe tbody tr th {\n",
       "        vertical-align: top;\n",
       "    }\n",
       "\n",
       "    .dataframe thead th {\n",
       "        text-align: right;\n",
       "    }\n",
       "</style>\n",
       "<table border=\"1\" class=\"dataframe\">\n",
       "  <thead>\n",
       "    <tr style=\"text-align: right;\">\n",
       "      <th></th>\n",
       "      <th>id</th>\n",
       "      <th>covariate</th>\n",
       "      <th>dtype</th>\n",
       "      <th>isTarget</th>\n",
       "      <th>based_on</th>\n",
       "      <th>aggr_fn</th>\n",
       "    </tr>\n",
       "  </thead>\n",
       "  <tbody>\n",
       "    <tr>\n",
       "      <th>0</th>\n",
       "      <td>1</td>\n",
       "      <td>eid</td>\n",
       "      <td>integer</td>\n",
       "      <td>False</td>\n",
       "      <td>eid</td>\n",
       "      <td>NaN</td>\n",
       "    </tr>\n",
       "    <tr>\n",
       "      <th>1</th>\n",
       "      <td>2</td>\n",
       "      <td>age_at_recruitment</td>\n",
       "      <td>numeric</td>\n",
       "      <td>False</td>\n",
       "      <td>basics</td>\n",
       "      <td>NaN</td>\n",
       "    </tr>\n",
       "    <tr>\n",
       "      <th>2</th>\n",
       "      <td>3</td>\n",
       "      <td>sex</td>\n",
       "      <td>category</td>\n",
       "      <td>False</td>\n",
       "      <td>basics</td>\n",
       "      <td>NaN</td>\n",
       "    </tr>\n",
       "    <tr>\n",
       "      <th>3</th>\n",
       "      <td>4</td>\n",
       "      <td>ethnic_background</td>\n",
       "      <td>category</td>\n",
       "      <td>False</td>\n",
       "      <td>basics</td>\n",
       "      <td>NaN</td>\n",
       "    </tr>\n",
       "    <tr>\n",
       "      <th>4</th>\n",
       "      <td>5</td>\n",
       "      <td>townsend_deprivation_index_at_recruitment</td>\n",
       "      <td>numeric</td>\n",
       "      <td>False</td>\n",
       "      <td>basics</td>\n",
       "      <td>NaN</td>\n",
       "    </tr>\n",
       "    <tr>\n",
       "      <th>...</th>\n",
       "      <td>...</td>\n",
       "      <td>...</td>\n",
       "      <td>...</td>\n",
       "      <td>...</td>\n",
       "      <td>...</td>\n",
       "      <td>...</td>\n",
       "    </tr>\n",
       "    <tr>\n",
       "      <th>3741</th>\n",
       "      <td>3742</td>\n",
       "      <td>ASCVD_event_time</td>\n",
       "      <td>numeric</td>\n",
       "      <td>True</td>\n",
       "      <td>score_ASCVD</td>\n",
       "      <td>NaN</td>\n",
       "    </tr>\n",
       "    <tr>\n",
       "      <th>3742</th>\n",
       "      <td>3743</td>\n",
       "      <td>QRISK3_event</td>\n",
       "      <td>integer</td>\n",
       "      <td>True</td>\n",
       "      <td>score_QRISK3</td>\n",
       "      <td>NaN</td>\n",
       "    </tr>\n",
       "    <tr>\n",
       "      <th>3743</th>\n",
       "      <td>3744</td>\n",
       "      <td>QRISK3_event_time</td>\n",
       "      <td>numeric</td>\n",
       "      <td>True</td>\n",
       "      <td>score_QRISK3</td>\n",
       "      <td>NaN</td>\n",
       "    </tr>\n",
       "    <tr>\n",
       "      <th>3744</th>\n",
       "      <td>3745</td>\n",
       "      <td>MACE_event</td>\n",
       "      <td>integer</td>\n",
       "      <td>True</td>\n",
       "      <td>score_MACE</td>\n",
       "      <td>NaN</td>\n",
       "    </tr>\n",
       "    <tr>\n",
       "      <th>3745</th>\n",
       "      <td>3746</td>\n",
       "      <td>MACE_event_time</td>\n",
       "      <td>numeric</td>\n",
       "      <td>True</td>\n",
       "      <td>score_MACE</td>\n",
       "      <td>NaN</td>\n",
       "    </tr>\n",
       "  </tbody>\n",
       "</table>\n",
       "<p>3746 rows × 6 columns</p>\n",
       "</div>"
      ],
      "text/plain": [
       "        id                                  covariate     dtype  isTarget  \\\n",
       "0        1                                        eid   integer     False   \n",
       "1        2                         age_at_recruitment   numeric     False   \n",
       "2        3                                        sex  category     False   \n",
       "3        4                          ethnic_background  category     False   \n",
       "4        5  townsend_deprivation_index_at_recruitment   numeric     False   \n",
       "...    ...                                        ...       ...       ...   \n",
       "3741  3742                           ASCVD_event_time   numeric      True   \n",
       "3742  3743                               QRISK3_event   integer      True   \n",
       "3743  3744                          QRISK3_event_time   numeric      True   \n",
       "3744  3745                                 MACE_event   integer      True   \n",
       "3745  3746                            MACE_event_time   numeric      True   \n",
       "\n",
       "          based_on  aggr_fn  \n",
       "0              eid      NaN  \n",
       "1           basics      NaN  \n",
       "2           basics      NaN  \n",
       "3           basics      NaN  \n",
       "4           basics      NaN  \n",
       "...            ...      ...  \n",
       "3741   score_ASCVD      NaN  \n",
       "3742  score_QRISK3      NaN  \n",
       "3743  score_QRISK3      NaN  \n",
       "3744    score_MACE      NaN  \n",
       "3745    score_MACE      NaN  \n",
       "\n",
       "[3746 rows x 6 columns]"
      ]
     },
     "execution_count": 41,
     "metadata": {},
     "output_type": "execute_result"
    }
   ],
   "source": [
    "dtypes = {\"int32\":\"integer\", \"int64\":\"integer\", \"float64\":\"numeric\", \"category\":\"category\", \"object\":\"category\", \"bool\":\"logical\"}\n",
    "desc_dict = {\"id\": [*range(1, len(data_baseline.columns.to_list())+1)] , \n",
    "             \"covariate\": data_baseline.columns.to_list(), \n",
    "             \"dtype\":[dtypes[str(col)] for col in data_baseline.dtypes.to_list()], \n",
    "             \"isTarget\":[True if col in targets else False for col in data_baseline.columns.to_list()],\n",
    "            \"based_on\":[topic for col, topic in data_cols_single.items()],\n",
    "            \"aggr_fn\": [np.nan for col in data_baseline.columns.to_list()]}\n",
    "data_baseline_description = pd.DataFrame.from_dict(desc_dict)\n",
    "data_baseline_description"
   ]
  },
  {
   "cell_type": "markdown",
   "metadata": {},
   "source": [
    "# Exclusion Criteria"
   ]
  },
  {
   "cell_type": "code",
   "execution_count": 42,
   "metadata": {},
   "outputs": [],
   "source": [
    "data_baseline_excl = data_baseline.query(\"myocardial_infarction == False & coronary_heart_disease == False & statins == False\").reset_index(drop=True)"
   ]
  },
  {
   "cell_type": "code",
   "execution_count": 43,
   "metadata": {},
   "outputs": [
    {
     "data": {
      "text/html": [
       "<div>\n",
       "<style scoped>\n",
       "    .dataframe tbody tr th:only-of-type {\n",
       "        vertical-align: middle;\n",
       "    }\n",
       "\n",
       "    .dataframe tbody tr th {\n",
       "        vertical-align: top;\n",
       "    }\n",
       "\n",
       "    .dataframe thead th {\n",
       "        text-align: right;\n",
       "    }\n",
       "</style>\n",
       "<table border=\"1\" class=\"dataframe\">\n",
       "  <thead>\n",
       "    <tr style=\"text-align: right;\">\n",
       "      <th></th>\n",
       "      <th>eid</th>\n",
       "      <th>age_at_recruitment</th>\n",
       "      <th>sex</th>\n",
       "      <th>ethnic_background</th>\n",
       "      <th>townsend_deprivation_index_at_recruitment</th>\n",
       "      <th>date_of_attending_assessment_centre</th>\n",
       "      <th>birth_date</th>\n",
       "      <th>overall_health_rating</th>\n",
       "      <th>smoking_status</th>\n",
       "      <th>alcohol_intake_frequency</th>\n",
       "      <th>...</th>\n",
       "      <th>death_cvd_event</th>\n",
       "      <th>death_cvd_event_time</th>\n",
       "      <th>SCORE_event</th>\n",
       "      <th>SCORE_event_time</th>\n",
       "      <th>ASCVD_event</th>\n",
       "      <th>ASCVD_event_time</th>\n",
       "      <th>QRISK3_event</th>\n",
       "      <th>QRISK3_event_time</th>\n",
       "      <th>MACE_event</th>\n",
       "      <th>MACE_event_time</th>\n",
       "    </tr>\n",
       "  </thead>\n",
       "  <tbody>\n",
       "    <tr>\n",
       "      <th>0</th>\n",
       "      <td>1000018</td>\n",
       "      <td>49.0</td>\n",
       "      <td>Female</td>\n",
       "      <td>White</td>\n",
       "      <td>-1.852930</td>\n",
       "      <td>2009-11-12</td>\n",
       "      <td>1960-11-12</td>\n",
       "      <td>Fair</td>\n",
       "      <td>Current</td>\n",
       "      <td>Once or twice a week</td>\n",
       "      <td>...</td>\n",
       "      <td>0</td>\n",
       "      <td>59.624914</td>\n",
       "      <td>0</td>\n",
       "      <td>59.624914</td>\n",
       "      <td>0</td>\n",
       "      <td>59.334702</td>\n",
       "      <td>0</td>\n",
       "      <td>59.334702</td>\n",
       "      <td>0</td>\n",
       "      <td>59.334702</td>\n",
       "    </tr>\n",
       "    <tr>\n",
       "      <th>1</th>\n",
       "      <td>1000020</td>\n",
       "      <td>59.0</td>\n",
       "      <td>Male</td>\n",
       "      <td>White</td>\n",
       "      <td>0.204248</td>\n",
       "      <td>2008-02-19</td>\n",
       "      <td>1949-02-19</td>\n",
       "      <td>Good</td>\n",
       "      <td>Current</td>\n",
       "      <td>Once or twice a week</td>\n",
       "      <td>...</td>\n",
       "      <td>0</td>\n",
       "      <td>71.353867</td>\n",
       "      <td>0</td>\n",
       "      <td>71.353867</td>\n",
       "      <td>0</td>\n",
       "      <td>71.063655</td>\n",
       "      <td>0</td>\n",
       "      <td>71.063655</td>\n",
       "      <td>0</td>\n",
       "      <td>71.063655</td>\n",
       "    </tr>\n",
       "    <tr>\n",
       "      <th>2</th>\n",
       "      <td>1000037</td>\n",
       "      <td>59.0</td>\n",
       "      <td>Female</td>\n",
       "      <td>White</td>\n",
       "      <td>-3.498860</td>\n",
       "      <td>2008-11-11</td>\n",
       "      <td>1949-11-11</td>\n",
       "      <td>Good</td>\n",
       "      <td>Previous</td>\n",
       "      <td>Once or twice a week</td>\n",
       "      <td>...</td>\n",
       "      <td>0</td>\n",
       "      <td>70.628337</td>\n",
       "      <td>0</td>\n",
       "      <td>70.628337</td>\n",
       "      <td>1</td>\n",
       "      <td>66.970568</td>\n",
       "      <td>1</td>\n",
       "      <td>66.970568</td>\n",
       "      <td>0</td>\n",
       "      <td>70.338125</td>\n",
       "    </tr>\n",
       "    <tr>\n",
       "      <th>3</th>\n",
       "      <td>1000043</td>\n",
       "      <td>63.0</td>\n",
       "      <td>Male</td>\n",
       "      <td>White</td>\n",
       "      <td>-5.351150</td>\n",
       "      <td>2009-06-03</td>\n",
       "      <td>1946-06-03</td>\n",
       "      <td>Fair</td>\n",
       "      <td>Previous</td>\n",
       "      <td>Three or four times a week</td>\n",
       "      <td>...</td>\n",
       "      <td>0</td>\n",
       "      <td>74.069815</td>\n",
       "      <td>0</td>\n",
       "      <td>74.069815</td>\n",
       "      <td>1</td>\n",
       "      <td>68.123203</td>\n",
       "      <td>1</td>\n",
       "      <td>68.123203</td>\n",
       "      <td>1</td>\n",
       "      <td>68.123203</td>\n",
       "    </tr>\n",
       "    <tr>\n",
       "      <th>4</th>\n",
       "      <td>1000079</td>\n",
       "      <td>60.0</td>\n",
       "      <td>Female</td>\n",
       "      <td>White</td>\n",
       "      <td>-2.708040</td>\n",
       "      <td>2008-03-18</td>\n",
       "      <td>1948-03-18</td>\n",
       "      <td>Fair</td>\n",
       "      <td>Never</td>\n",
       "      <td>Once or twice a week</td>\n",
       "      <td>...</td>\n",
       "      <td>0</td>\n",
       "      <td>72.279261</td>\n",
       "      <td>0</td>\n",
       "      <td>72.279261</td>\n",
       "      <td>1</td>\n",
       "      <td>61.054073</td>\n",
       "      <td>1</td>\n",
       "      <td>61.054073</td>\n",
       "      <td>0</td>\n",
       "      <td>71.989049</td>\n",
       "    </tr>\n",
       "    <tr>\n",
       "      <th>...</th>\n",
       "      <td>...</td>\n",
       "      <td>...</td>\n",
       "      <td>...</td>\n",
       "      <td>...</td>\n",
       "      <td>...</td>\n",
       "      <td>...</td>\n",
       "      <td>...</td>\n",
       "      <td>...</td>\n",
       "      <td>...</td>\n",
       "      <td>...</td>\n",
       "      <td>...</td>\n",
       "      <td>...</td>\n",
       "      <td>...</td>\n",
       "      <td>...</td>\n",
       "      <td>...</td>\n",
       "      <td>...</td>\n",
       "      <td>...</td>\n",
       "      <td>...</td>\n",
       "      <td>...</td>\n",
       "      <td>...</td>\n",
       "      <td>...</td>\n",
       "    </tr>\n",
       "    <tr>\n",
       "      <th>402296</th>\n",
       "      <td>6025150</td>\n",
       "      <td>43.0</td>\n",
       "      <td>Female</td>\n",
       "      <td>White</td>\n",
       "      <td>0.046781</td>\n",
       "      <td>2007-06-30</td>\n",
       "      <td>1964-06-30</td>\n",
       "      <td>Excellent</td>\n",
       "      <td>Never</td>\n",
       "      <td>Three or four times a week</td>\n",
       "      <td>...</td>\n",
       "      <td>0</td>\n",
       "      <td>55.994524</td>\n",
       "      <td>0</td>\n",
       "      <td>55.994524</td>\n",
       "      <td>0</td>\n",
       "      <td>55.704312</td>\n",
       "      <td>0</td>\n",
       "      <td>55.704312</td>\n",
       "      <td>0</td>\n",
       "      <td>55.704312</td>\n",
       "    </tr>\n",
       "    <tr>\n",
       "      <th>402297</th>\n",
       "      <td>6025165</td>\n",
       "      <td>45.0</td>\n",
       "      <td>Female</td>\n",
       "      <td>White</td>\n",
       "      <td>-2.107040</td>\n",
       "      <td>2008-09-02</td>\n",
       "      <td>1963-09-02</td>\n",
       "      <td>Good</td>\n",
       "      <td>Never</td>\n",
       "      <td>Three or four times a week</td>\n",
       "      <td>...</td>\n",
       "      <td>0</td>\n",
       "      <td>56.821355</td>\n",
       "      <td>0</td>\n",
       "      <td>56.821355</td>\n",
       "      <td>0</td>\n",
       "      <td>56.531143</td>\n",
       "      <td>0</td>\n",
       "      <td>56.531143</td>\n",
       "      <td>0</td>\n",
       "      <td>56.531143</td>\n",
       "    </tr>\n",
       "    <tr>\n",
       "      <th>402298</th>\n",
       "      <td>6025173</td>\n",
       "      <td>57.0</td>\n",
       "      <td>Male</td>\n",
       "      <td>White</td>\n",
       "      <td>-1.827220</td>\n",
       "      <td>2008-09-17</td>\n",
       "      <td>1951-09-17</td>\n",
       "      <td>Good</td>\n",
       "      <td>Never</td>\n",
       "      <td>Never</td>\n",
       "      <td>...</td>\n",
       "      <td>0</td>\n",
       "      <td>68.780287</td>\n",
       "      <td>0</td>\n",
       "      <td>68.780287</td>\n",
       "      <td>0</td>\n",
       "      <td>68.490075</td>\n",
       "      <td>0</td>\n",
       "      <td>68.490075</td>\n",
       "      <td>0</td>\n",
       "      <td>68.490075</td>\n",
       "    </tr>\n",
       "    <tr>\n",
       "      <th>402299</th>\n",
       "      <td>6025182</td>\n",
       "      <td>56.0</td>\n",
       "      <td>Male</td>\n",
       "      <td>White</td>\n",
       "      <td>-0.010764</td>\n",
       "      <td>2010-07-01</td>\n",
       "      <td>1954-07-01</td>\n",
       "      <td>Excellent</td>\n",
       "      <td>Previous</td>\n",
       "      <td>Daily or almost daily</td>\n",
       "      <td>...</td>\n",
       "      <td>0</td>\n",
       "      <td>65.993155</td>\n",
       "      <td>0</td>\n",
       "      <td>65.993155</td>\n",
       "      <td>0</td>\n",
       "      <td>65.702943</td>\n",
       "      <td>0</td>\n",
       "      <td>65.702943</td>\n",
       "      <td>0</td>\n",
       "      <td>65.702943</td>\n",
       "    </tr>\n",
       "    <tr>\n",
       "      <th>402300</th>\n",
       "      <td>6025198</td>\n",
       "      <td>67.0</td>\n",
       "      <td>Male</td>\n",
       "      <td>White</td>\n",
       "      <td>-1.930650</td>\n",
       "      <td>2010-01-26</td>\n",
       "      <td>1943-01-26</td>\n",
       "      <td>Good</td>\n",
       "      <td>Current</td>\n",
       "      <td>Daily or almost daily</td>\n",
       "      <td>...</td>\n",
       "      <td>0</td>\n",
       "      <td>77.420945</td>\n",
       "      <td>0</td>\n",
       "      <td>77.420945</td>\n",
       "      <td>0</td>\n",
       "      <td>77.130732</td>\n",
       "      <td>0</td>\n",
       "      <td>77.130732</td>\n",
       "      <td>0</td>\n",
       "      <td>77.130732</td>\n",
       "    </tr>\n",
       "  </tbody>\n",
       "</table>\n",
       "<p>402301 rows × 3746 columns</p>\n",
       "</div>"
      ],
      "text/plain": [
       "            eid  age_at_recruitment     sex ethnic_background  \\\n",
       "0       1000018                49.0  Female             White   \n",
       "1       1000020                59.0    Male             White   \n",
       "2       1000037                59.0  Female             White   \n",
       "3       1000043                63.0    Male             White   \n",
       "4       1000079                60.0  Female             White   \n",
       "...         ...                 ...     ...               ...   \n",
       "402296  6025150                43.0  Female             White   \n",
       "402297  6025165                45.0  Female             White   \n",
       "402298  6025173                57.0    Male             White   \n",
       "402299  6025182                56.0    Male             White   \n",
       "402300  6025198                67.0    Male             White   \n",
       "\n",
       "        townsend_deprivation_index_at_recruitment  \\\n",
       "0                                       -1.852930   \n",
       "1                                        0.204248   \n",
       "2                                       -3.498860   \n",
       "3                                       -5.351150   \n",
       "4                                       -2.708040   \n",
       "...                                           ...   \n",
       "402296                                   0.046781   \n",
       "402297                                  -2.107040   \n",
       "402298                                  -1.827220   \n",
       "402299                                  -0.010764   \n",
       "402300                                  -1.930650   \n",
       "\n",
       "       date_of_attending_assessment_centre  birth_date overall_health_rating  \\\n",
       "0                               2009-11-12  1960-11-12                  Fair   \n",
       "1                               2008-02-19  1949-02-19                  Good   \n",
       "2                               2008-11-11  1949-11-11                  Good   \n",
       "3                               2009-06-03  1946-06-03                  Fair   \n",
       "4                               2008-03-18  1948-03-18                  Fair   \n",
       "...                                    ...         ...                   ...   \n",
       "402296                          2007-06-30  1964-06-30             Excellent   \n",
       "402297                          2008-09-02  1963-09-02                  Good   \n",
       "402298                          2008-09-17  1951-09-17                  Good   \n",
       "402299                          2010-07-01  1954-07-01             Excellent   \n",
       "402300                          2010-01-26  1943-01-26                  Good   \n",
       "\n",
       "       smoking_status    alcohol_intake_frequency  ...  death_cvd_event  \\\n",
       "0             Current        Once or twice a week  ...                0   \n",
       "1             Current        Once or twice a week  ...                0   \n",
       "2            Previous        Once or twice a week  ...                0   \n",
       "3            Previous  Three or four times a week  ...                0   \n",
       "4               Never        Once or twice a week  ...                0   \n",
       "...               ...                         ...  ...              ...   \n",
       "402296          Never  Three or four times a week  ...                0   \n",
       "402297          Never  Three or four times a week  ...                0   \n",
       "402298          Never                       Never  ...                0   \n",
       "402299       Previous       Daily or almost daily  ...                0   \n",
       "402300        Current       Daily or almost daily  ...                0   \n",
       "\n",
       "        death_cvd_event_time  SCORE_event  SCORE_event_time  ASCVD_event  \\\n",
       "0                  59.624914            0         59.624914            0   \n",
       "1                  71.353867            0         71.353867            0   \n",
       "2                  70.628337            0         70.628337            1   \n",
       "3                  74.069815            0         74.069815            1   \n",
       "4                  72.279261            0         72.279261            1   \n",
       "...                      ...          ...               ...          ...   \n",
       "402296             55.994524            0         55.994524            0   \n",
       "402297             56.821355            0         56.821355            0   \n",
       "402298             68.780287            0         68.780287            0   \n",
       "402299             65.993155            0         65.993155            0   \n",
       "402300             77.420945            0         77.420945            0   \n",
       "\n",
       "        ASCVD_event_time  QRISK3_event  QRISK3_event_time  MACE_event  \\\n",
       "0              59.334702             0          59.334702           0   \n",
       "1              71.063655             0          71.063655           0   \n",
       "2              66.970568             1          66.970568           0   \n",
       "3              68.123203             1          68.123203           1   \n",
       "4              61.054073             1          61.054073           0   \n",
       "...                  ...           ...                ...         ...   \n",
       "402296         55.704312             0          55.704312           0   \n",
       "402297         56.531143             0          56.531143           0   \n",
       "402298         68.490075             0          68.490075           0   \n",
       "402299         65.702943             0          65.702943           0   \n",
       "402300         77.130732             0          77.130732           0   \n",
       "\n",
       "        MACE_event_time  \n",
       "0             59.334702  \n",
       "1             71.063655  \n",
       "2             70.338125  \n",
       "3             68.123203  \n",
       "4             71.989049  \n",
       "...                 ...  \n",
       "402296        55.704312  \n",
       "402297        56.531143  \n",
       "402298        68.490075  \n",
       "402299        65.702943  \n",
       "402300        77.130732  \n",
       "\n",
       "[402301 rows x 3746 columns]"
      ]
     },
     "execution_count": 43,
     "metadata": {},
     "output_type": "execute_result"
    }
   ],
   "source": [
    "data_baseline_excl"
   ]
  },
  {
   "cell_type": "code",
   "execution_count": 44,
   "metadata": {},
   "outputs": [],
   "source": [
    "feature_dict = {}\n",
    "for group in data_baseline_description.based_on.unique(): feature_dict[group] = data_baseline_description.query(\"based_on==@group\").covariate.to_list()\n",
    "with open(os.path.join(path, dataset_path, 'feature_list.yaml'), 'w') as file: yaml.dump(feature_dict, file, default_flow_style=False, allow_unicode=True)"
   ]
  },
  {
   "cell_type": "code",
   "execution_count": 45,
   "metadata": {},
   "outputs": [],
   "source": [
    "#feature_dict"
   ]
  },
  {
   "cell_type": "code",
   "execution_count": 46,
   "metadata": {},
   "outputs": [],
   "source": [
    "### WRITE FEATURES IN YAML!!!"
   ]
  },
  {
   "cell_type": "code",
   "execution_count": 47,
   "metadata": {},
   "outputs": [],
   "source": [
    "data_baseline.to_feather(os.path.join(path, dataset_path, 'baseline_clinical.feather'))\n",
    "data_baseline_excl.to_feather(os.path.join(path, dataset_path, 'baseline_clinical_excl.feather'))\n",
    "data_baseline_description.to_feather(os.path.join(path, dataset_path, 'baseline_clinical_description.feather'))"
   ]
  },
  {
   "cell_type": "code",
   "execution_count": null,
   "metadata": {},
   "outputs": [],
   "source": [
    "#data_baseline.to_csv(os.path.join(path, dataset_path, 'baseline_clinical.csv'), index=False)\n",
    "#data_baseline_description.to_csv(os.path.join(path, dataset_path, 'baseline_clinical_description.csv'), index=False)"
   ]
  },
  {
   "cell_type": "markdown",
   "metadata": {},
   "source": [
    "# !!! REMEMBER IMPUTATION !!!"
   ]
  }
 ],
 "metadata": {
  "kernelspec": {
   "display_name": "Python [conda env:python]",
   "language": "python",
   "name": "conda-env-python-py"
  },
  "language_info": {
   "codemirror_mode": {
    "name": "ipython",
    "version": 3
   },
   "file_extension": ".py",
   "mimetype": "text/x-python",
   "name": "python",
   "nbconvert_exporter": "python",
   "pygments_lexer": "ipython3",
   "version": "3.7.9"
  },
  "toc-autonumbering": true,
  "toc-showcode": false,
  "toc-showmarkdowntxt": false
 },
 "nbformat": 4,
 "nbformat_minor": 4
}
