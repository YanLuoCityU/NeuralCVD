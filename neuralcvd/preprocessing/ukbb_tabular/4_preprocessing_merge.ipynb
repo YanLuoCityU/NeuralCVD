{
 "cells": [
  {
   "cell_type": "markdown",
   "metadata": {},
   "source": [
    "# 1. Preprocessing: Merge Clinical + PGS"
   ]
  },
  {
   "cell_type": "code",
   "execution_count": 1,
   "metadata": {},
   "outputs": [],
   "source": [
    "%load_ext autoreload\n",
    "%autoreload 2\n",
    "\n",
    "import os\n",
    "from tqdm.auto import tqdm\n",
    "import pathlib\n",
    "\n",
    "import numpy as np\n",
    "import pandas as pd\n",
    "import lifelines\n",
    "from lifelines import CoxPHFitter\n",
    "from sklearn.model_selection import StratifiedKFold\n",
    "\n",
    "from joblib import Parallel, delayed\n",
    "from tqdm.notebook import tqdm\n",
    "import neptune\n",
    "import warnings\n",
    "warnings.filterwarnings(\"ignore\")\n",
    "import shutil\n",
    "\n",
    "dataset_name = \"cvd_massive_excl_emb\"\n",
    "path = \"/data/analysis/ag-reils/steinfej/code/umbrella/pre/ukbb\"\n",
    "data_path = \"/data/analysis/ag-reils/ag-reils-shared/cardioRS/data\"\n",
    "dataset_path = f\"{data_path}/2_datasets_pre/{dataset_name}\""
   ]
  },
  {
   "cell_type": "markdown",
   "metadata": {},
   "source": [
    "## Read PRS data"
   ]
  },
  {
   "cell_type": "code",
   "execution_count": 2,
   "metadata": {},
   "outputs": [],
   "source": [
    "data_pgs = pd.read_feather(f\"{dataset_path}/baseline_pgs.feather\")\n",
    "data_pgs_description = pd.read_feather(f\"{dataset_path}/baseline_pgs_description.feather\")"
   ]
  },
  {
   "cell_type": "code",
   "execution_count": 3,
   "metadata": {},
   "outputs": [
    {
     "data": {
      "text/html": [
       "<div>\n",
       "<style scoped>\n",
       "    .dataframe tbody tr th:only-of-type {\n",
       "        vertical-align: middle;\n",
       "    }\n",
       "\n",
       "    .dataframe tbody tr th {\n",
       "        vertical-align: top;\n",
       "    }\n",
       "\n",
       "    .dataframe thead th {\n",
       "        text-align: right;\n",
       "    }\n",
       "</style>\n",
       "<table border=\"1\" class=\"dataframe\">\n",
       "  <thead>\n",
       "    <tr style=\"text-align: right;\">\n",
       "      <th></th>\n",
       "      <th>id</th>\n",
       "      <th>covariate</th>\n",
       "      <th>dtype</th>\n",
       "      <th>isTarget</th>\n",
       "      <th>based_on</th>\n",
       "      <th>aggr_fn</th>\n",
       "    </tr>\n",
       "  </thead>\n",
       "  <tbody>\n",
       "    <tr>\n",
       "      <th>0</th>\n",
       "      <td>1</td>\n",
       "      <td>eid</td>\n",
       "      <td>integer</td>\n",
       "      <td>False</td>\n",
       "      <td>admin</td>\n",
       "      <td>NaN</td>\n",
       "    </tr>\n",
       "    <tr>\n",
       "      <th>1</th>\n",
       "      <td>2</td>\n",
       "      <td>PGS000011</td>\n",
       "      <td>numeric</td>\n",
       "      <td>False</td>\n",
       "      <td>PGS</td>\n",
       "      <td>NaN</td>\n",
       "    </tr>\n",
       "    <tr>\n",
       "      <th>2</th>\n",
       "      <td>3</td>\n",
       "      <td>PGS000013</td>\n",
       "      <td>numeric</td>\n",
       "      <td>False</td>\n",
       "      <td>PGS</td>\n",
       "      <td>NaN</td>\n",
       "    </tr>\n",
       "    <tr>\n",
       "      <th>3</th>\n",
       "      <td>4</td>\n",
       "      <td>PGS000016</td>\n",
       "      <td>numeric</td>\n",
       "      <td>False</td>\n",
       "      <td>PGS</td>\n",
       "      <td>NaN</td>\n",
       "    </tr>\n",
       "    <tr>\n",
       "      <th>4</th>\n",
       "      <td>5</td>\n",
       "      <td>PGS000018</td>\n",
       "      <td>numeric</td>\n",
       "      <td>False</td>\n",
       "      <td>PGS</td>\n",
       "      <td>NaN</td>\n",
       "    </tr>\n",
       "    <tr>\n",
       "      <th>5</th>\n",
       "      <td>6</td>\n",
       "      <td>PGS000039</td>\n",
       "      <td>numeric</td>\n",
       "      <td>False</td>\n",
       "      <td>PGS</td>\n",
       "      <td>NaN</td>\n",
       "    </tr>\n",
       "    <tr>\n",
       "      <th>6</th>\n",
       "      <td>7</td>\n",
       "      <td>PGS000057</td>\n",
       "      <td>numeric</td>\n",
       "      <td>False</td>\n",
       "      <td>PGS</td>\n",
       "      <td>NaN</td>\n",
       "    </tr>\n",
       "    <tr>\n",
       "      <th>7</th>\n",
       "      <td>8</td>\n",
       "      <td>PGS000058</td>\n",
       "      <td>numeric</td>\n",
       "      <td>False</td>\n",
       "      <td>PGS</td>\n",
       "      <td>NaN</td>\n",
       "    </tr>\n",
       "    <tr>\n",
       "      <th>8</th>\n",
       "      <td>9</td>\n",
       "      <td>PGS000059</td>\n",
       "      <td>numeric</td>\n",
       "      <td>False</td>\n",
       "      <td>PGS</td>\n",
       "      <td>NaN</td>\n",
       "    </tr>\n",
       "    <tr>\n",
       "      <th>9</th>\n",
       "      <td>10</td>\n",
       "      <td>PGS000116</td>\n",
       "      <td>numeric</td>\n",
       "      <td>False</td>\n",
       "      <td>PGS</td>\n",
       "      <td>NaN</td>\n",
       "    </tr>\n",
       "    <tr>\n",
       "      <th>10</th>\n",
       "      <td>11</td>\n",
       "      <td>PGS000117</td>\n",
       "      <td>numeric</td>\n",
       "      <td>False</td>\n",
       "      <td>PGS</td>\n",
       "      <td>NaN</td>\n",
       "    </tr>\n",
       "    <tr>\n",
       "      <th>11</th>\n",
       "      <td>12</td>\n",
       "      <td>PGS000192</td>\n",
       "      <td>numeric</td>\n",
       "      <td>False</td>\n",
       "      <td>PGS</td>\n",
       "      <td>NaN</td>\n",
       "    </tr>\n",
       "    <tr>\n",
       "      <th>12</th>\n",
       "      <td>13</td>\n",
       "      <td>PGS000296</td>\n",
       "      <td>numeric</td>\n",
       "      <td>False</td>\n",
       "      <td>PGS</td>\n",
       "      <td>NaN</td>\n",
       "    </tr>\n",
       "  </tbody>\n",
       "</table>\n",
       "</div>"
      ],
      "text/plain": [
       "    id  covariate    dtype  isTarget based_on  aggr_fn\n",
       "0    1        eid  integer     False    admin      NaN\n",
       "1    2  PGS000011  numeric     False      PGS      NaN\n",
       "2    3  PGS000013  numeric     False      PGS      NaN\n",
       "3    4  PGS000016  numeric     False      PGS      NaN\n",
       "4    5  PGS000018  numeric     False      PGS      NaN\n",
       "5    6  PGS000039  numeric     False      PGS      NaN\n",
       "6    7  PGS000057  numeric     False      PGS      NaN\n",
       "7    8  PGS000058  numeric     False      PGS      NaN\n",
       "8    9  PGS000059  numeric     False      PGS      NaN\n",
       "9   10  PGS000116  numeric     False      PGS      NaN\n",
       "10  11  PGS000117  numeric     False      PGS      NaN\n",
       "11  12  PGS000192  numeric     False      PGS      NaN\n",
       "12  13  PGS000296  numeric     False      PGS      NaN"
      ]
     },
     "execution_count": 3,
     "metadata": {},
     "output_type": "execute_result"
    }
   ],
   "source": [
    "data_pgs_description"
   ]
  },
  {
   "cell_type": "markdown",
   "metadata": {},
   "source": [
    "## Read Clinical data"
   ]
  },
  {
   "cell_type": "code",
   "execution_count": 4,
   "metadata": {},
   "outputs": [],
   "source": [
    "data_cv = pd.read_feather(f\"{dataset_path}/baseline_clinical.feather\")\n",
    "data_cv_description = pd.read_feather(f\"{dataset_path}/baseline_clinical_description.feather\")"
   ]
  },
  {
   "cell_type": "markdown",
   "metadata": {},
   "source": [
    "## Merge Genetics + Clinical"
   ]
  },
  {
   "cell_type": "code",
   "execution_count": 5,
   "metadata": {},
   "outputs": [],
   "source": [
    "data = data_pgs.merge(data_cv, on=\"eid\")\n",
    "data_description = pd.concat([data_pgs_description, data_cv_description.tail(-1)]).reset_index()\n",
    "data_description = data_description.drop(\"index\", axis=1)\n",
    "data_description = data_description.drop(\"id\", axis=1)"
   ]
  },
  {
   "cell_type": "code",
   "execution_count": 6,
   "metadata": {},
   "outputs": [
    {
     "data": {
      "text/plain": [
       "covariate     object\n",
       "dtype         object\n",
       "isTarget        bool\n",
       "based_on      object\n",
       "aggr_fn      float64\n",
       "dtype: object"
      ]
     },
     "execution_count": 6,
     "metadata": {},
     "output_type": "execute_result"
    }
   ],
   "source": [
    "data_description.dtypes"
   ]
  },
  {
   "cell_type": "code",
   "execution_count": 1,
   "metadata": {},
   "outputs": [],
   "source": [
    "covariate_paths = {\n",
    "    \"clinical\":(\"baseline_pgs.feather\", \"baseline_pgs_description.feather\"),\n",
    "    \"pgs\":(\"baseline_clinical.feather\", \"baseline_clinical_description.feather\"),\n",
    "}"
   ]
  },
  {
   "cell_type": "code",
   "execution_count": 5,
   "metadata": {},
   "outputs": [
    {
     "name": "stdout",
     "output_type": "stream",
     "text": [
      "baseline_pgs.feather\n",
      "baseline_clinical.feather\n"
     ]
    }
   ],
   "source": [
    "for paths in covariate_paths:\n",
    "    print(covariate_paths[paths][0])"
   ]
  },
  {
   "cell_type": "markdown",
   "metadata": {},
   "source": [
    "## Write to disk"
   ]
  },
  {
   "cell_type": "code",
   "execution_count": 7,
   "metadata": {},
   "outputs": [],
   "source": [
    "data.to_feather(f\"{dataset_path}/baseline.feather\")\n",
    "data_description.to_feather(f\"{dataset_path}/baseline_description.feather\")"
   ]
  },
  {
   "cell_type": "code",
   "execution_count": null,
   "metadata": {},
   "outputs": [],
   "source": []
  }
 ],
 "metadata": {
  "kernelspec": {
   "display_name": "Python [conda env:python]",
   "language": "python",
   "name": "conda-env-python-py"
  },
  "language_info": {
   "codemirror_mode": {
    "name": "ipython",
    "version": 3
   },
   "file_extension": ".py",
   "mimetype": "text/x-python",
   "name": "python",
   "nbconvert_exporter": "python",
   "pygments_lexer": "ipython3",
   "version": "3.7.9"
  }
 },
 "nbformat": 4,
 "nbformat_minor": 4
}
