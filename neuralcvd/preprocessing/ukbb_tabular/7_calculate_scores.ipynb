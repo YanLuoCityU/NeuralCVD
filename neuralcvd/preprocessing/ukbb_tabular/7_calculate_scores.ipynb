{
 "cells": [
  {
   "cell_type": "markdown",
   "metadata": {},
   "source": [
    "# 4. Scores"
   ]
  },
  {
   "cell_type": "code",
   "execution_count": 21,
   "metadata": {
    "ExecuteTime": {
     "end_time": "2020-11-04T09:37:16.635459Z",
     "start_time": "2020-11-04T09:37:08.687Z"
    }
   },
   "outputs": [],
   "source": [
    "try(library(tidyverse), silent=TRUE)\n",
    "library(lubridate)\n",
    "library(data.table)\n",
    "library(glue)\n",
    "library(jsonlite)\n",
    "dataset_name = \"210223_cvd_gp\"\n",
    "path = \"/data/analysis/ag-reils/steinfej/code/umbrella/pre/ukbb\"\n",
    "data_path = \"/data/analysis/ag-reils/ag-reils-shared/cardioRS/data\"\n",
    "dataset_path = glue(\"{data_path}/3_datasets_post/{dataset_name}\")\n",
    "dataset_path_pre = glue(\"{data_path}/2_datasets_pre/{dataset_name}\")"
   ]
  },
  {
   "cell_type": "code",
   "execution_count": 2,
   "metadata": {
    "ExecuteTime": {
     "end_time": "2020-11-04T09:37:19.066784Z",
     "start_time": "2020-11-04T09:37:16.560Z"
    }
   },
   "outputs": [],
   "source": [
    "#data = arrow::read_feather(glue(\"{dataset_path}/data_merged.feather\"))\n",
    "description = arrow::read_feather(glue(\"{dataset_path}/description.feather\"))"
   ]
  },
  {
   "cell_type": "code",
   "execution_count": 3,
   "metadata": {},
   "outputs": [],
   "source": [
    "files = c()\n",
    "for (i in 0:9){\n",
    "    files = c(files, glue(\"{dataset_path}/partition_{i}/test/data_imputed.feather\"))\n",
    "}"
   ]
  },
  {
   "cell_type": "code",
   "execution_count": 4,
   "metadata": {},
   "outputs": [],
   "source": [
    "data = map(files, arrow::read_feather) %>% bind_rows()"
   ]
  },
  {
   "cell_type": "markdown",
   "metadata": {},
   "source": [
    "data = data %>% mutate_at(c(\"sex\", \"overall_health_rating\", \"smoking_status\", \"ethnic_background\"), as.factor)\n",
    "data = data %>% mutate(sex=fct_relevel(sex, c(\"Male\", \"Female\")),\n",
    "                       overall_health_rating=fct_relevel(overall_health_rating, c(\"Excellent\", \"Good\", \"Fair\", \"Poor\")),\n",
    "                       smoking_status=fct_relevel(smoking_status, c(\"Current\", \"Previous\", \"Never\")))\n",
    "\n",
    "covariates = (data_description %>% filter(isTarget==FALSE) %>% filter(!dtype==\"Date\"))$covariate[-1]\n",
    "targets = (data_description %>% filter(isTarget==TRUE))$covariate\n",
    "\n",
    "load(file = glue(\"{path}data/phenotypes.rda\"))\n",
    "load(file = glue(\"{path}data/medications_list.rda\"))\n",
    "load(file = glue(\"{path}data/endpoints.rda\"))\n",
    "load(file = glue(\"{path}data/scores.rda\"))\n",
    "death_endpoints = c(death = c(\"death\"), death_cvd = c(\"death_cvd\"))\n",
    "competing_endpoints = c(CE_QRISK3death=c(\"CE_QRISK3death\"))\n",
    "endpoints = append(endpoints, death_endpoints)\n",
    "endpoints = append(endpoints, scores)"
   ]
  },
  {
   "cell_type": "markdown",
   "metadata": {},
   "source": [
    "## Missing values"
   ]
  },
  {
   "cell_type": "code",
   "execution_count": 5,
   "metadata": {
    "ExecuteTime": {
     "start_time": "2020-11-04T09:36:46.941Z"
    }
   },
   "outputs": [
    {
     "data": {
      "text/html": [
       "<table>\n",
       "<caption>A data.frame: 0 × 1</caption>\n",
       "<thead>\n",
       "\t<tr><th scope=col>sapply.data..function.y..sum.length.which.is.na.y.....</th></tr>\n",
       "\t<tr><th scope=col>&lt;int&gt;</th></tr>\n",
       "</thead>\n",
       "<tbody>\n",
       "</tbody>\n",
       "</table>\n"
      ],
      "text/latex": [
       "A data.frame: 0 × 1\n",
       "\\begin{tabular}{l}\n",
       " sapply.data..function.y..sum.length.which.is.na.y.....\\\\\n",
       " <int>\\\\\n",
       "\\hline\n",
       "\\end{tabular}\n"
      ],
      "text/markdown": [
       "\n",
       "A data.frame: 0 × 1\n",
       "\n",
       "| sapply.data..function.y..sum.length.which.is.na.y..... &lt;int&gt; |\n",
       "|---|\n",
       "\n"
      ],
      "text/plain": [
       "     sapply.data..function.y..sum.length.which.is.na.y....."
      ]
     },
     "metadata": {},
     "output_type": "display_data"
    }
   ],
   "source": [
    "na_count <-data.frame(sapply(data, function(y) sum(length(which(is.na(y))))))\n",
    "na_count %>% filter(sapply(data, function(y) sum(length(which(is.na(y)))))>0)"
   ]
  },
  {
   "cell_type": "code",
   "execution_count": 6,
   "metadata": {},
   "outputs": [],
   "source": [
    "map_smoking = jsonlite::fromJSON(str_replace_all(str_replace_all((description %>% filter(covariate == \"smoking_status\"))$mapping, \"'\", '\"'), \", nan: -2\", \"\"))\n",
    "map_smoking = setNames(names(map_smoking), map_smoking)\n",
    "map_gender = jsonlite::fromJSON(str_replace_all(str_replace_all((description %>% filter(covariate == \"sex\"))$mapping, \"'\", '\"'), \", nan: -2\", \"\"))\n",
    "map_gender = setNames(names(map_gender), map_gender)\n",
    "map_ethnicity = jsonlite::fromJSON(str_replace_all(str_replace_all((description %>% filter(covariate == \"ethnic_background\"))$mapping, \"'\", '\"'), \", nan: -2\", \"\"))\n",
    "map_ethnicity = setNames(names(map_ethnicity), map_ethnicity)"
   ]
  },
  {
   "cell_type": "code",
   "execution_count": 7,
   "metadata": {},
   "outputs": [],
   "source": [
    "data$smoking_status = recode(data$smoking_status, !!!map_smoking)\n",
    "data$sex = recode(data$sex, !!!map_gender)\n",
    "data$ethnic_background = recode(data$ethnic_background, !!!map_ethnicity)"
   ]
  },
  {
   "cell_type": "markdown",
   "metadata": {},
   "source": [
    "# Scores"
   ]
  },
  {
   "cell_type": "markdown",
   "metadata": {},
   "source": [
    "## FRAMINGHAM RISK SCORE (Anderson 1991, Wilson 1998)"
   ]
  },
  {
   "cell_type": "code",
   "execution_count": null,
   "metadata": {},
   "outputs": [],
   "source": [
    "women_bmi <- function(age, bmi, sbp, smoking, diabetes, treated_bp){\n",
    "    b_age=2.72107\n",
    "    b_bmi=0.51125\n",
    "    b_smoking=0.61868\n",
    "    b_diabetes=0.77763\n",
    "    if (treated_bp==FALSE){b_sbp=2.81291}\n",
    "    if (treated_bp==TRUE){b_sbp=2.88267}\n",
    "    E = b_age*age + b_bmi*bmi + b_smoking*smoking + b_diabetes*diabetes + b_sbp*sbp\n",
    "    return (1-0.94833^(E-26.0145))\n",
    "}\n",
    "\n",
    "women_chol <- function(age, chol, hdl_chol, sbp, smoking, diabetes, bp_treated){\n",
    "    b_age=2.32888\n",
    "    b_chol = 1.20904\n",
    "    b_hdl_chol = -0.70833\n",
    "    b_smoking=0.52873\n",
    "    b_diabetes=0.69154\n",
    "    if (bp_treated==FALSE){b_sbp=2.76157}\n",
    "    if (bp_treated==TRUE){b_sbp=2.82263}\n",
    "    E = b_age*age + b_chol*chol + b_hdl_chol*hdl_chol + b_smoking*smoking + b_diabetes*diabetes + b_sbp*sbp\n",
    "    return (1-0.95012^(E-26.1931))\n",
    "}\n",
    "\n",
    "men_bmi <- function(age, bmi, sbp, smoking, diabetes, treated_bp){\n",
    "    b_age=3.11296\n",
    "    b_bmi=0.79277\n",
    "    b_smoking=0.70953\n",
    "    b_diabetes=0.53160\n",
    "    if (treated_bp==FALSE){b_sbp=1.85508}\n",
    "    if (treated_bp==TRUE){b_sbp=1.92672}\n",
    "    E = b_age*age + b_bmi*bmi + b_smoking*smoking + b_diabetes*diabetes + b_sbp*sbp\n",
    "    return (1-0.88431^(E-23.9388))\n",
    "}\n",
    "\n",
    "men_chol <- function(age, chol, hdl_chol, sbp, smoking, diabetes, bp_treated){\n",
    "    b_age=3.06117\n",
    "    b_chol = 1.12370\n",
    "    b_hdl_chol = -0.93263\n",
    "    b_smoking=0.65451\n",
    "    b_diabetes=0.57367\n",
    "    if (bp_treated==FALSE){b_sbp=1.93303}\n",
    "    if (bp_treated==TRUE){b_sbp=1.99881}\n",
    "    E = b_age*age + b_chol*chol + b_hdl_chol*hdl_chol + b_smoking*smoking + b_diabetes*diabetes + b_sbp*sbp\n",
    "    return (1-0.88936^(E-23.9802))\n",
    "}\n",
    "\n",
    "calculateFRS <- function(sex, age, bmi, chol, hdl_chol, sbp, smoking, diabetes, bp_treated){\n",
    "    print(bp_treated)\n",
    "    if (sex==\"M\"){\n",
    "        frs_bmi = men_bmi(age, bmi, sbp, smoking, diabetes, bp_treated)\n",
    "        frs_chol = men_chol(age, chol, hdl_chol, smoking, diabetes, bp_treated)\n",
    "    }\n",
    "    if (sex==\"F\"){\n",
    "        frs_bmi = women_bmi(age, bmi, sbp, smoking, diabetes, bp_treated)\n",
    "        frs_chol = women_chol(age, chol, hdl_chol, smoking, diabetes, bp_treated)\n",
    "    }  \n",
    "    return (list(frs_bmi, frs_chol))\n",
    "}\n"
   ]
  },
  {
   "cell_type": "code",
   "execution_count": 18,
   "metadata": {},
   "outputs": [
    {
     "name": "stdout",
     "output_type": "stream",
     "text": [
      "[1] FALSE\n"
     ]
    },
    {
     "ename": "ERROR",
     "evalue": "Error in men_chol(age, chol, hdl_chol, smoking, diabetes, bp_treated): argument \"bp_treated\" is missing, with no default\n",
     "output_type": "error",
     "traceback": [
      "Error in men_chol(age, chol, hdl_chol, smoking, diabetes, bp_treated): argument \"bp_treated\" is missing, with no default\nTraceback:\n",
      "1. calculateFRS(sex = \"M\", age = 30, bmi = 22.5, chol = 180, hdl_chol = 45, \n .     sbp = 125, smoking = 0, diabetes = 0, bp_treated = FALSE)",
      "2. men_chol(age, chol, hdl_chol, smoking, diabetes, bp_treated)   # at line 51 of file <text>"
     ]
    }
   ],
   "source": [
    "frs = calculateFRS(sex=\"M\", age=30, bmi=22.5, chol=180, hdl_chol=45, sbp=125, smoking=0, diabetes=0, bp_treated=FALSE)"
   ]
  },
  {
   "cell_type": "code",
   "execution_count": 7,
   "metadata": {
    "collapsed": true,
    "jupyter": {
     "outputs_hidden": true
    }
   },
   "outputs": [
    {
     "ename": "ERROR",
     "evalue": "Error in eval(expr, envir, enclos): object 'frs' not found\n",
     "output_type": "error",
     "traceback": [
      "Error in eval(expr, envir, enclos): object 'frs' not found\nTraceback:\n"
     ]
    }
   ],
   "source": [
    "frs"
   ]
  },
  {
   "cell_type": "code",
   "execution_count": 8,
   "metadata": {
    "collapsed": true,
    "jupyter": {
     "outputs_hidden": true
    }
   },
   "outputs": [
    {
     "data": {
      "text/html": [
       "<table>\n",
       "<caption>A tibble: 6 × 330</caption>\n",
       "<thead>\n",
       "\t<tr><th scope=col>eid</th><th scope=col>PGS000011</th><th scope=col>PGS000013</th><th scope=col>PGS000016</th><th scope=col>PGS000018</th><th scope=col>PGS000039</th><th scope=col>PGS000057</th><th scope=col>PGS000058</th><th scope=col>PGS000059</th><th scope=col>PGS000116</th><th scope=col>⋯</th><th scope=col>death_cvd_event</th><th scope=col>death_cvd_event_time</th><th scope=col>SCORE_event</th><th scope=col>SCORE_event_time</th><th scope=col>ASCVD_event</th><th scope=col>ASCVD_event_time</th><th scope=col>QRISK3_event</th><th scope=col>QRISK3_event_time</th><th scope=col>MACE_event</th><th scope=col>MACE_event_time</th></tr>\n",
       "\t<tr><th scope=col>&lt;int&gt;</th><th scope=col>&lt;dbl&gt;</th><th scope=col>&lt;dbl&gt;</th><th scope=col>&lt;dbl&gt;</th><th scope=col>&lt;dbl&gt;</th><th scope=col>&lt;dbl&gt;</th><th scope=col>&lt;dbl&gt;</th><th scope=col>&lt;dbl&gt;</th><th scope=col>&lt;dbl&gt;</th><th scope=col>&lt;dbl&gt;</th><th scope=col>⋯</th><th scope=col>&lt;int&gt;</th><th scope=col>&lt;dbl&gt;</th><th scope=col>&lt;int&gt;</th><th scope=col>&lt;dbl&gt;</th><th scope=col>&lt;int&gt;</th><th scope=col>&lt;dbl&gt;</th><th scope=col>&lt;int&gt;</th><th scope=col>&lt;dbl&gt;</th><th scope=col>&lt;int&gt;</th><th scope=col>&lt;dbl&gt;</th></tr>\n",
       "</thead>\n",
       "<tbody>\n",
       "\t<tr><td>1000018</td><td>3.170770</td><td>14.18216</td><td>25.47860</td><td>-7.910004</td><td>0.1960993</td><td>3.690275</td><td>8.513230</td><td>4.060235</td><td>2.543097</td><td>⋯</td><td>0</td><td>10.62560</td><td>0</td><td>10.62560</td><td>0</td><td>10.335387</td><td>0</td><td>10.335387</td><td>0</td><td>10.335387</td></tr>\n",
       "\t<tr><td>1000020</td><td>3.935565</td><td>14.20361</td><td>25.50886</td><td>-7.338207</td><td>0.3820538</td><td>4.170000</td><td>8.665529</td><td>3.640000</td><td>2.575014</td><td>⋯</td><td>0</td><td>12.35592</td><td>0</td><td>12.35592</td><td>0</td><td>12.065708</td><td>0</td><td>12.065708</td><td>0</td><td>12.065708</td></tr>\n",
       "\t<tr><td>1000037</td><td>4.223654</td><td>14.24818</td><td>25.54972</td><td>-7.533061</td><td>0.1899884</td><td>4.288627</td><td>8.540908</td><td>5.541451</td><td>2.441255</td><td>⋯</td><td>0</td><td>11.62765</td><td>0</td><td>11.62765</td><td>1</td><td> 7.969884</td><td>1</td><td> 7.969884</td><td>0</td><td>11.337440</td></tr>\n",
       "\t<tr><td>1000043</td><td>3.529575</td><td>14.17650</td><td>25.39414</td><td>-7.768648</td><td>0.2893883</td><td>4.130000</td><td>8.515447</td><td>4.261098</td><td>2.740589</td><td>⋯</td><td>0</td><td>11.06913</td><td>0</td><td>11.06913</td><td>1</td><td> 5.122519</td><td>1</td><td> 5.122519</td><td>1</td><td> 5.122519</td></tr>\n",
       "\t<tr><td>1000051</td><td>3.618199</td><td>14.21691</td><td>25.39648</td><td>-7.486226</td><td>0.1776932</td><td>3.870000</td><td>8.043932</td><td>4.207255</td><td>2.460508</td><td>⋯</td><td>0</td><td>14.05065</td><td>0</td><td>14.05065</td><td>0</td><td>13.760438</td><td>0</td><td>13.760438</td><td>0</td><td>13.760438</td></tr>\n",
       "\t<tr><td>1000066</td><td>3.555040</td><td>14.19133</td><td>25.47087</td><td>-7.501505</td><td>0.4534260</td><td>4.100000</td><td>8.345422</td><td>3.521569</td><td>2.746012</td><td>⋯</td><td>0</td><td>10.53525</td><td>0</td><td>10.53525</td><td>0</td><td>10.245038</td><td>0</td><td>10.245038</td><td>0</td><td>10.245038</td></tr>\n",
       "</tbody>\n",
       "</table>\n"
      ],
      "text/latex": [
       "A tibble: 6 × 330\n",
       "\\begin{tabular}{lllllllllllllllllllll}\n",
       " eid & PGS000011 & PGS000013 & PGS000016 & PGS000018 & PGS000039 & PGS000057 & PGS000058 & PGS000059 & PGS000116 & ⋯ & death\\_cvd\\_event & death\\_cvd\\_event\\_time & SCORE\\_event & SCORE\\_event\\_time & ASCVD\\_event & ASCVD\\_event\\_time & QRISK3\\_event & QRISK3\\_event\\_time & MACE\\_event & MACE\\_event\\_time\\\\\n",
       " <int> & <dbl> & <dbl> & <dbl> & <dbl> & <dbl> & <dbl> & <dbl> & <dbl> & <dbl> & ⋯ & <int> & <dbl> & <int> & <dbl> & <int> & <dbl> & <int> & <dbl> & <int> & <dbl>\\\\\n",
       "\\hline\n",
       "\t 1000018 & 3.170770 & 14.18216 & 25.47860 & -7.910004 & 0.1960993 & 3.690275 & 8.513230 & 4.060235 & 2.543097 & ⋯ & 0 & 10.62560 & 0 & 10.62560 & 0 & 10.335387 & 0 & 10.335387 & 0 & 10.335387\\\\\n",
       "\t 1000020 & 3.935565 & 14.20361 & 25.50886 & -7.338207 & 0.3820538 & 4.170000 & 8.665529 & 3.640000 & 2.575014 & ⋯ & 0 & 12.35592 & 0 & 12.35592 & 0 & 12.065708 & 0 & 12.065708 & 0 & 12.065708\\\\\n",
       "\t 1000037 & 4.223654 & 14.24818 & 25.54972 & -7.533061 & 0.1899884 & 4.288627 & 8.540908 & 5.541451 & 2.441255 & ⋯ & 0 & 11.62765 & 0 & 11.62765 & 1 &  7.969884 & 1 &  7.969884 & 0 & 11.337440\\\\\n",
       "\t 1000043 & 3.529575 & 14.17650 & 25.39414 & -7.768648 & 0.2893883 & 4.130000 & 8.515447 & 4.261098 & 2.740589 & ⋯ & 0 & 11.06913 & 0 & 11.06913 & 1 &  5.122519 & 1 &  5.122519 & 1 &  5.122519\\\\\n",
       "\t 1000051 & 3.618199 & 14.21691 & 25.39648 & -7.486226 & 0.1776932 & 3.870000 & 8.043932 & 4.207255 & 2.460508 & ⋯ & 0 & 14.05065 & 0 & 14.05065 & 0 & 13.760438 & 0 & 13.760438 & 0 & 13.760438\\\\\n",
       "\t 1000066 & 3.555040 & 14.19133 & 25.47087 & -7.501505 & 0.4534260 & 4.100000 & 8.345422 & 3.521569 & 2.746012 & ⋯ & 0 & 10.53525 & 0 & 10.53525 & 0 & 10.245038 & 0 & 10.245038 & 0 & 10.245038\\\\\n",
       "\\end{tabular}\n"
      ],
      "text/markdown": [
       "\n",
       "A tibble: 6 × 330\n",
       "\n",
       "| eid &lt;int&gt; | PGS000011 &lt;dbl&gt; | PGS000013 &lt;dbl&gt; | PGS000016 &lt;dbl&gt; | PGS000018 &lt;dbl&gt; | PGS000039 &lt;dbl&gt; | PGS000057 &lt;dbl&gt; | PGS000058 &lt;dbl&gt; | PGS000059 &lt;dbl&gt; | PGS000116 &lt;dbl&gt; | ⋯ ⋯ | death_cvd_event &lt;int&gt; | death_cvd_event_time &lt;dbl&gt; | SCORE_event &lt;int&gt; | SCORE_event_time &lt;dbl&gt; | ASCVD_event &lt;int&gt; | ASCVD_event_time &lt;dbl&gt; | QRISK3_event &lt;int&gt; | QRISK3_event_time &lt;dbl&gt; | MACE_event &lt;int&gt; | MACE_event_time &lt;dbl&gt; |\n",
       "|---|---|---|---|---|---|---|---|---|---|---|---|---|---|---|---|---|---|---|---|---|\n",
       "| 1000018 | 3.170770 | 14.18216 | 25.47860 | -7.910004 | 0.1960993 | 3.690275 | 8.513230 | 4.060235 | 2.543097 | ⋯ | 0 | 10.62560 | 0 | 10.62560 | 0 | 10.335387 | 0 | 10.335387 | 0 | 10.335387 |\n",
       "| 1000020 | 3.935565 | 14.20361 | 25.50886 | -7.338207 | 0.3820538 | 4.170000 | 8.665529 | 3.640000 | 2.575014 | ⋯ | 0 | 12.35592 | 0 | 12.35592 | 0 | 12.065708 | 0 | 12.065708 | 0 | 12.065708 |\n",
       "| 1000037 | 4.223654 | 14.24818 | 25.54972 | -7.533061 | 0.1899884 | 4.288627 | 8.540908 | 5.541451 | 2.441255 | ⋯ | 0 | 11.62765 | 0 | 11.62765 | 1 |  7.969884 | 1 |  7.969884 | 0 | 11.337440 |\n",
       "| 1000043 | 3.529575 | 14.17650 | 25.39414 | -7.768648 | 0.2893883 | 4.130000 | 8.515447 | 4.261098 | 2.740589 | ⋯ | 0 | 11.06913 | 0 | 11.06913 | 1 |  5.122519 | 1 |  5.122519 | 1 |  5.122519 |\n",
       "| 1000051 | 3.618199 | 14.21691 | 25.39648 | -7.486226 | 0.1776932 | 3.870000 | 8.043932 | 4.207255 | 2.460508 | ⋯ | 0 | 14.05065 | 0 | 14.05065 | 0 | 13.760438 | 0 | 13.760438 | 0 | 13.760438 |\n",
       "| 1000066 | 3.555040 | 14.19133 | 25.47087 | -7.501505 | 0.4534260 | 4.100000 | 8.345422 | 3.521569 | 2.746012 | ⋯ | 0 | 10.53525 | 0 | 10.53525 | 0 | 10.245038 | 0 | 10.245038 | 0 | 10.245038 |\n",
       "\n"
      ],
      "text/plain": [
       "  eid     PGS000011 PGS000013 PGS000016 PGS000018 PGS000039 PGS000057 PGS000058\n",
       "1 1000018 3.170770  14.18216  25.47860  -7.910004 0.1960993 3.690275  8.513230 \n",
       "2 1000020 3.935565  14.20361  25.50886  -7.338207 0.3820538 4.170000  8.665529 \n",
       "3 1000037 4.223654  14.24818  25.54972  -7.533061 0.1899884 4.288627  8.540908 \n",
       "4 1000043 3.529575  14.17650  25.39414  -7.768648 0.2893883 4.130000  8.515447 \n",
       "5 1000051 3.618199  14.21691  25.39648  -7.486226 0.1776932 3.870000  8.043932 \n",
       "6 1000066 3.555040  14.19133  25.47087  -7.501505 0.4534260 4.100000  8.345422 \n",
       "  PGS000059 PGS000116 <U+22EF>   death_cvd_event death_cvd_event_time SCORE_event\n",
       "1 4.060235  2.543097  <U+22EF> 0               10.62560             0          \n",
       "2 3.640000  2.575014  <U+22EF> 0               12.35592             0          \n",
       "3 5.541451  2.441255  <U+22EF> 0               11.62765             0          \n",
       "4 4.261098  2.740589  <U+22EF> 0               11.06913             0          \n",
       "5 4.207255  2.460508  <U+22EF> 0               14.05065             0          \n",
       "6 3.521569  2.746012  <U+22EF> 0               10.53525             0          \n",
       "  SCORE_event_time ASCVD_event ASCVD_event_time QRISK3_event QRISK3_event_time\n",
       "1 10.62560         0           10.335387        0            10.335387        \n",
       "2 12.35592         0           12.065708        0            12.065708        \n",
       "3 11.62765         1            7.969884        1             7.969884        \n",
       "4 11.06913         1            5.122519        1             5.122519        \n",
       "5 14.05065         0           13.760438        0            13.760438        \n",
       "6 10.53525         0           10.245038        0            10.245038        \n",
       "  MACE_event MACE_event_time\n",
       "1 0          10.335387      \n",
       "2 0          12.065708      \n",
       "3 0          11.337440      \n",
       "4 1           5.122519      \n",
       "5 0          13.760438      \n",
       "6 0          10.245038      "
      ]
     },
     "metadata": {},
     "output_type": "display_data"
    }
   ],
   "source": [
    "head(data)"
   ]
  },
  {
   "cell_type": "markdown",
   "metadata": {},
   "source": [
    "## ESC SCORE (Conroy 2003)"
   ]
  },
  {
   "cell_type": "markdown",
   "metadata": {},
   "source": [
    "[Conroy 2003](http://eurheartj.oxfordjournals.org/content/24/11/987.full.pdf)"
   ]
  },
  {
   "cell_type": "raw",
   "metadata": {},
   "source": [
    "Endpoints: Composite for fatal cardiovascular disease\n",
    "defined in ICD9: 401 - 414 + 426 - 443 + 798.1 + 798.2, except: 426.7, 429.0, 430.0, 432.1, 437.3, 437.4, 437.5 + death\n",
    "ICD10 (Keil, 2005): I10-15, I20-25, I44-51, I61-69, I70-73 + death"
   ]
  },
  {
   "cell_type": "code",
   "execution_count": 8,
   "metadata": {
    "ExecuteTime": {
     "end_time": "2020-11-04T09:37:25.761469Z",
     "start_time": "2020-11-04T09:37:25.008Z"
    }
   },
   "outputs": [],
   "source": [
    "calculateRisk <- function(age, cholesterol, SBP, currentSmoker, betaSmoker, betaSBP, betaChol, coefs) {\n",
    "  # step 1 risks\n",
    "  Sage0 = exp(-exp(coefs[\"alpha\"])*(age - 20)^coefs[\"p\"])\n",
    "  Sage10 = exp(-exp(coefs[\"alpha\"])*(age - 10)^coefs[\"p\"])\n",
    "  # step 2 weights\n",
    "  w = betaChol*(cholesterol - 6) + betaSBP*(SBP - 120) + betaSmoker*currentSmoker\n",
    "  # step 3 weighted risks\n",
    "  Sage   = (Sage0)^exp(w) \n",
    "  Sage1 = (Sage10)^exp(w) \n",
    "  # step 4 - 10 years survival\n",
    "  S10 = Sage1/Sage\n",
    "  # step 5 - endpoint\n",
    "  Risk10 = 1 - S10\n",
    "  Risk10\n",
    "}\n",
    "\n",
    "calculateScoreEur <- function(age, cholesterol, SBP, currentSmoker, gender = \"Men\", risk = \"Low risk\") {\n",
    "  betaSmoker = c(0.71, 0.63)\n",
    "  betaSBP    = c(0.018, 0.022)\n",
    "  betaChol   = c(0.24, 0.02)\n",
    "  \n",
    "  coeffs <- array(c(-22.1, 4.71, -26.7, 5.64, -29.8, 6.36, -31.0, 6.62, -21.0, 4.62, -25.7, 5.47, -28.7, 6.23, -30.0, 6.42), \n",
    "                  c(2,2,2,2),\n",
    "                  dimnames = list(c(\"alpha\", \"p\"), c(\"CHD\", \"non CHD\"), c(\"Male\", \"Female\"), c(\"Low risk\", \"High risk\")))\n",
    "  \n",
    "  # step 6 - score\n",
    "  CVDrisk = calculateRisk(age, cholesterol, SBP, currentSmoker,\n",
    "                          betaSmoker[1], betaSBP[1], betaChol[1], coeffs[,\"CHD\",gender,risk])\n",
    "  NonCVDrisk = calculateRisk(age, cholesterol, SBP, currentSmoker,\n",
    "                          betaSmoker[2], betaSBP[2], betaChol[2], coeffs[,\"non CHD\",gender,risk])\n",
    " \n",
    "  CVDrisk + NonCVDrisk\n",
    "}"
   ]
  },
  {
   "cell_type": "code",
   "execution_count": 9,
   "metadata": {
    "ExecuteTime": {
     "end_time": "2020-11-04T09:37:27.777535Z",
     "start_time": "2020-11-04T09:37:27.089Z"
    }
   },
   "outputs": [],
   "source": [
    "sex=\"Male\"\n",
    "age_at_recruitment = 64\n",
    "cholesterol = 6.8\n",
    "systolic_blood_pressure = 140\n",
    "current_smoker = 0"
   ]
  },
  {
   "cell_type": "code",
   "execution_count": 10,
   "metadata": {
    "ExecuteTime": {
     "end_time": "2020-11-04T09:37:35.468832Z",
     "start_time": "2020-11-04T09:37:34.753Z"
    }
   },
   "outputs": [
    {
     "data": {
      "text/html": [
       "<strong>alpha:</strong> 0.0544567488850661"
      ],
      "text/latex": [
       "\\textbf{alpha:} 0.0544567488850661"
      ],
      "text/markdown": [
       "**alpha:** 0.0544567488850661"
      ],
      "text/plain": [
       "     alpha \n",
       "0.05445675 "
      ]
     },
     "metadata": {},
     "output_type": "display_data"
    }
   ],
   "source": [
    "calculateScoreEur(age_at_recruitment, cholesterol, systolic_blood_pressure, current_smoker, sex,risk=\"Low risk\")"
   ]
  },
  {
   "cell_type": "code",
   "execution_count": 11,
   "metadata": {
    "ExecuteTime": {
     "end_time": "2020-11-04T09:37:47.821364Z",
     "start_time": "2020-11-04T09:37:35.426Z"
    }
   },
   "outputs": [
    {
     "data": {
      "text/html": [
       "<table>\n",
       "<caption>A data.table: 395738 × 2</caption>\n",
       "<thead>\n",
       "\t<tr><th scope=col>eid</th><th scope=col>score_SCORE</th></tr>\n",
       "\t<tr><th scope=col>&lt;int&gt;</th><th scope=col>&lt;dbl&gt;</th></tr>\n",
       "</thead>\n",
       "<tbody>\n",
       "\t<tr><td>1000285</td><td>0.0343943723</td></tr>\n",
       "\t<tr><td>1000686</td><td>0.0401695746</td></tr>\n",
       "\t<tr><td>1000974</td><td>0.0709517856</td></tr>\n",
       "\t<tr><td>1001073</td><td>0.0319272214</td></tr>\n",
       "\t<tr><td>1001098</td><td>0.0022416772</td></tr>\n",
       "\t<tr><td>1001119</td><td>0.0157146322</td></tr>\n",
       "\t<tr><td>1001458</td><td>0.0653505615</td></tr>\n",
       "\t<tr><td>1001517</td><td>0.0630663630</td></tr>\n",
       "\t<tr><td>1001591</td><td>0.0071638047</td></tr>\n",
       "\t<tr><td>1001741</td><td>0.0025406444</td></tr>\n",
       "\t<tr><td>1001759</td><td>0.0008309934</td></tr>\n",
       "\t<tr><td>1002001</td><td>0.0205967683</td></tr>\n",
       "\t<tr><td>1002182</td><td>0.0030319019</td></tr>\n",
       "\t<tr><td>1002213</td><td>0.0206450410</td></tr>\n",
       "\t<tr><td>1002710</td><td>0.0003370405</td></tr>\n",
       "\t<tr><td>1002811</td><td>0.0158786970</td></tr>\n",
       "\t<tr><td>1002977</td><td>0.0104503691</td></tr>\n",
       "\t<tr><td>1003288</td><td>0.0773918236</td></tr>\n",
       "\t<tr><td>1003535</td><td>0.0179705427</td></tr>\n",
       "\t<tr><td>1003631</td><td>0.0179181051</td></tr>\n",
       "\t<tr><td>1003650</td><td>0.0559637654</td></tr>\n",
       "\t<tr><td>1003884</td><td>0.0031048374</td></tr>\n",
       "\t<tr><td>1004007</td><td>0.0175649353</td></tr>\n",
       "\t<tr><td>1004083</td><td>0.0314311047</td></tr>\n",
       "\t<tr><td>1004105</td><td>0.0124366189</td></tr>\n",
       "\t<tr><td>1004333</td><td>0.0041574702</td></tr>\n",
       "\t<tr><td>1004767</td><td>0.0115299993</td></tr>\n",
       "\t<tr><td>1004846</td><td>0.0129171473</td></tr>\n",
       "\t<tr><td>1005011</td><td>0.0495698810</td></tr>\n",
       "\t<tr><td>1005089</td><td>0.0179615686</td></tr>\n",
       "\t<tr><td>⋮</td><td>⋮</td></tr>\n",
       "\t<tr><td>6022598</td><td>0.045923338</td></tr>\n",
       "\t<tr><td>6022635</td><td>0.031011270</td></tr>\n",
       "\t<tr><td>6022700</td><td>0.105076824</td></tr>\n",
       "\t<tr><td>6022819</td><td>0.026161350</td></tr>\n",
       "\t<tr><td>6022826</td><td>0.012035669</td></tr>\n",
       "\t<tr><td>6022906</td><td>0.015613808</td></tr>\n",
       "\t<tr><td>6022985</td><td>0.021142888</td></tr>\n",
       "\t<tr><td>6023018</td><td>0.055558255</td></tr>\n",
       "\t<tr><td>6023051</td><td>0.001246383</td></tr>\n",
       "\t<tr><td>6023092</td><td>0.016823842</td></tr>\n",
       "\t<tr><td>6023206</td><td>0.026466977</td></tr>\n",
       "\t<tr><td>6023285</td><td>0.035044543</td></tr>\n",
       "\t<tr><td>6023334</td><td>0.031188639</td></tr>\n",
       "\t<tr><td>6023815</td><td>0.040879787</td></tr>\n",
       "\t<tr><td>6023859</td><td>0.006178257</td></tr>\n",
       "\t<tr><td>6023888</td><td>0.025984983</td></tr>\n",
       "\t<tr><td>6023974</td><td>0.042899815</td></tr>\n",
       "\t<tr><td>6024246</td><td>0.022738162</td></tr>\n",
       "\t<tr><td>6024470</td><td>0.008010350</td></tr>\n",
       "\t<tr><td>6024505</td><td>0.032987159</td></tr>\n",
       "\t<tr><td>6024518</td><td>0.016344226</td></tr>\n",
       "\t<tr><td>6024543</td><td>0.031282738</td></tr>\n",
       "\t<tr><td>6024584</td><td>0.004796794</td></tr>\n",
       "\t<tr><td>6024810</td><td>0.047738609</td></tr>\n",
       "\t<tr><td>6024835</td><td>0.001795017</td></tr>\n",
       "\t<tr><td>6024861</td><td>0.001027473</td></tr>\n",
       "\t<tr><td>6024883</td><td>0.009021477</td></tr>\n",
       "\t<tr><td>6025060</td><td>0.005033320</td></tr>\n",
       "\t<tr><td>6025116</td><td>0.011599217</td></tr>\n",
       "\t<tr><td>6025147</td><td>0.002766033</td></tr>\n",
       "</tbody>\n",
       "</table>\n"
      ],
      "text/latex": [
       "A data.table: 395738 × 2\n",
       "\\begin{tabular}{ll}\n",
       " eid & score\\_SCORE\\\\\n",
       " <int> & <dbl>\\\\\n",
       "\\hline\n",
       "\t 1000285 & 0.0343943723\\\\\n",
       "\t 1000686 & 0.0401695746\\\\\n",
       "\t 1000974 & 0.0709517856\\\\\n",
       "\t 1001073 & 0.0319272214\\\\\n",
       "\t 1001098 & 0.0022416772\\\\\n",
       "\t 1001119 & 0.0157146322\\\\\n",
       "\t 1001458 & 0.0653505615\\\\\n",
       "\t 1001517 & 0.0630663630\\\\\n",
       "\t 1001591 & 0.0071638047\\\\\n",
       "\t 1001741 & 0.0025406444\\\\\n",
       "\t 1001759 & 0.0008309934\\\\\n",
       "\t 1002001 & 0.0205967683\\\\\n",
       "\t 1002182 & 0.0030319019\\\\\n",
       "\t 1002213 & 0.0206450410\\\\\n",
       "\t 1002710 & 0.0003370405\\\\\n",
       "\t 1002811 & 0.0158786970\\\\\n",
       "\t 1002977 & 0.0104503691\\\\\n",
       "\t 1003288 & 0.0773918236\\\\\n",
       "\t 1003535 & 0.0179705427\\\\\n",
       "\t 1003631 & 0.0179181051\\\\\n",
       "\t 1003650 & 0.0559637654\\\\\n",
       "\t 1003884 & 0.0031048374\\\\\n",
       "\t 1004007 & 0.0175649353\\\\\n",
       "\t 1004083 & 0.0314311047\\\\\n",
       "\t 1004105 & 0.0124366189\\\\\n",
       "\t 1004333 & 0.0041574702\\\\\n",
       "\t 1004767 & 0.0115299993\\\\\n",
       "\t 1004846 & 0.0129171473\\\\\n",
       "\t 1005011 & 0.0495698810\\\\\n",
       "\t 1005089 & 0.0179615686\\\\\n",
       "\t ⋮ & ⋮\\\\\n",
       "\t 6022598 & 0.045923338\\\\\n",
       "\t 6022635 & 0.031011270\\\\\n",
       "\t 6022700 & 0.105076824\\\\\n",
       "\t 6022819 & 0.026161350\\\\\n",
       "\t 6022826 & 0.012035669\\\\\n",
       "\t 6022906 & 0.015613808\\\\\n",
       "\t 6022985 & 0.021142888\\\\\n",
       "\t 6023018 & 0.055558255\\\\\n",
       "\t 6023051 & 0.001246383\\\\\n",
       "\t 6023092 & 0.016823842\\\\\n",
       "\t 6023206 & 0.026466977\\\\\n",
       "\t 6023285 & 0.035044543\\\\\n",
       "\t 6023334 & 0.031188639\\\\\n",
       "\t 6023815 & 0.040879787\\\\\n",
       "\t 6023859 & 0.006178257\\\\\n",
       "\t 6023888 & 0.025984983\\\\\n",
       "\t 6023974 & 0.042899815\\\\\n",
       "\t 6024246 & 0.022738162\\\\\n",
       "\t 6024470 & 0.008010350\\\\\n",
       "\t 6024505 & 0.032987159\\\\\n",
       "\t 6024518 & 0.016344226\\\\\n",
       "\t 6024543 & 0.031282738\\\\\n",
       "\t 6024584 & 0.004796794\\\\\n",
       "\t 6024810 & 0.047738609\\\\\n",
       "\t 6024835 & 0.001795017\\\\\n",
       "\t 6024861 & 0.001027473\\\\\n",
       "\t 6024883 & 0.009021477\\\\\n",
       "\t 6025060 & 0.005033320\\\\\n",
       "\t 6025116 & 0.011599217\\\\\n",
       "\t 6025147 & 0.002766033\\\\\n",
       "\\end{tabular}\n"
      ],
      "text/markdown": [
       "\n",
       "A data.table: 395738 × 2\n",
       "\n",
       "| eid &lt;int&gt; | score_SCORE &lt;dbl&gt; |\n",
       "|---|---|\n",
       "| 1000285 | 0.0343943723 |\n",
       "| 1000686 | 0.0401695746 |\n",
       "| 1000974 | 0.0709517856 |\n",
       "| 1001073 | 0.0319272214 |\n",
       "| 1001098 | 0.0022416772 |\n",
       "| 1001119 | 0.0157146322 |\n",
       "| 1001458 | 0.0653505615 |\n",
       "| 1001517 | 0.0630663630 |\n",
       "| 1001591 | 0.0071638047 |\n",
       "| 1001741 | 0.0025406444 |\n",
       "| 1001759 | 0.0008309934 |\n",
       "| 1002001 | 0.0205967683 |\n",
       "| 1002182 | 0.0030319019 |\n",
       "| 1002213 | 0.0206450410 |\n",
       "| 1002710 | 0.0003370405 |\n",
       "| 1002811 | 0.0158786970 |\n",
       "| 1002977 | 0.0104503691 |\n",
       "| 1003288 | 0.0773918236 |\n",
       "| 1003535 | 0.0179705427 |\n",
       "| 1003631 | 0.0179181051 |\n",
       "| 1003650 | 0.0559637654 |\n",
       "| 1003884 | 0.0031048374 |\n",
       "| 1004007 | 0.0175649353 |\n",
       "| 1004083 | 0.0314311047 |\n",
       "| 1004105 | 0.0124366189 |\n",
       "| 1004333 | 0.0041574702 |\n",
       "| 1004767 | 0.0115299993 |\n",
       "| 1004846 | 0.0129171473 |\n",
       "| 1005011 | 0.0495698810 |\n",
       "| 1005089 | 0.0179615686 |\n",
       "| ⋮ | ⋮ |\n",
       "| 6022598 | 0.045923338 |\n",
       "| 6022635 | 0.031011270 |\n",
       "| 6022700 | 0.105076824 |\n",
       "| 6022819 | 0.026161350 |\n",
       "| 6022826 | 0.012035669 |\n",
       "| 6022906 | 0.015613808 |\n",
       "| 6022985 | 0.021142888 |\n",
       "| 6023018 | 0.055558255 |\n",
       "| 6023051 | 0.001246383 |\n",
       "| 6023092 | 0.016823842 |\n",
       "| 6023206 | 0.026466977 |\n",
       "| 6023285 | 0.035044543 |\n",
       "| 6023334 | 0.031188639 |\n",
       "| 6023815 | 0.040879787 |\n",
       "| 6023859 | 0.006178257 |\n",
       "| 6023888 | 0.025984983 |\n",
       "| 6023974 | 0.042899815 |\n",
       "| 6024246 | 0.022738162 |\n",
       "| 6024470 | 0.008010350 |\n",
       "| 6024505 | 0.032987159 |\n",
       "| 6024518 | 0.016344226 |\n",
       "| 6024543 | 0.031282738 |\n",
       "| 6024584 | 0.004796794 |\n",
       "| 6024810 | 0.047738609 |\n",
       "| 6024835 | 0.001795017 |\n",
       "| 6024861 | 0.001027473 |\n",
       "| 6024883 | 0.009021477 |\n",
       "| 6025060 | 0.005033320 |\n",
       "| 6025116 | 0.011599217 |\n",
       "| 6025147 | 0.002766033 |\n",
       "\n"
      ],
      "text/plain": [
       "       eid     score_SCORE \n",
       "1      1000285 0.0343943723\n",
       "2      1000686 0.0401695746\n",
       "3      1000974 0.0709517856\n",
       "4      1001073 0.0319272214\n",
       "5      1001098 0.0022416772\n",
       "6      1001119 0.0157146322\n",
       "7      1001458 0.0653505615\n",
       "8      1001517 0.0630663630\n",
       "9      1001591 0.0071638047\n",
       "10     1001741 0.0025406444\n",
       "11     1001759 0.0008309934\n",
       "12     1002001 0.0205967683\n",
       "13     1002182 0.0030319019\n",
       "14     1002213 0.0206450410\n",
       "15     1002710 0.0003370405\n",
       "16     1002811 0.0158786970\n",
       "17     1002977 0.0104503691\n",
       "18     1003288 0.0773918236\n",
       "19     1003535 0.0179705427\n",
       "20     1003631 0.0179181051\n",
       "21     1003650 0.0559637654\n",
       "22     1003884 0.0031048374\n",
       "23     1004007 0.0175649353\n",
       "24     1004083 0.0314311047\n",
       "25     1004105 0.0124366189\n",
       "26     1004333 0.0041574702\n",
       "27     1004767 0.0115299993\n",
       "28     1004846 0.0129171473\n",
       "29     1005011 0.0495698810\n",
       "30     1005089 0.0179615686\n",
       "<U+22EE> <U+22EE> <U+22EE>    \n",
       "395709 6022598 0.045923338 \n",
       "395710 6022635 0.031011270 \n",
       "395711 6022700 0.105076824 \n",
       "395712 6022819 0.026161350 \n",
       "395713 6022826 0.012035669 \n",
       "395714 6022906 0.015613808 \n",
       "395715 6022985 0.021142888 \n",
       "395716 6023018 0.055558255 \n",
       "395717 6023051 0.001246383 \n",
       "395718 6023092 0.016823842 \n",
       "395719 6023206 0.026466977 \n",
       "395720 6023285 0.035044543 \n",
       "395721 6023334 0.031188639 \n",
       "395722 6023815 0.040879787 \n",
       "395723 6023859 0.006178257 \n",
       "395724 6023888 0.025984983 \n",
       "395725 6023974 0.042899815 \n",
       "395726 6024246 0.022738162 \n",
       "395727 6024470 0.008010350 \n",
       "395728 6024505 0.032987159 \n",
       "395729 6024518 0.016344226 \n",
       "395730 6024543 0.031282738 \n",
       "395731 6024584 0.004796794 \n",
       "395732 6024810 0.047738609 \n",
       "395733 6024835 0.001795017 \n",
       "395734 6024861 0.001027473 \n",
       "395735 6024883 0.009021477 \n",
       "395736 6025060 0.005033320 \n",
       "395737 6025116 0.011599217 \n",
       "395738 6025147 0.002766033 "
      ]
     },
     "metadata": {},
     "output_type": "display_data"
    }
   ],
   "source": [
    "temp = data.table(data %>% select(eid, age_at_recruitment, cholesterol, systolic_blood_pressure, smoking_status, sex) %>% mutate(current_smoker = case_when(smoking_status==\"Current\" ~ 1, TRUE ~ 0)))\n",
    "SCORE_df = temp[, score_SCORE:=calculateScoreEur(age_at_recruitment, cholesterol, systolic_blood_pressure, current_smoker, sex,risk=\"Low risk\"), by=\"eid\"] %>% select(c(eid, score_SCORE))\n",
    "SCORE_df"
   ]
  },
  {
   "cell_type": "markdown",
   "metadata": {},
   "source": [
    "## ACC/AHA ASCVD (Goff 2014)"
   ]
  },
  {
   "cell_type": "markdown",
   "metadata": {},
   "source": [
    "[Goof 2014](https://www.ahajournals.org/doi/pdf/10.1161/01.cir.0000437741.48606.98)"
   ]
  },
  {
   "cell_type": "raw",
   "metadata": {},
   "source": [
    "endpoints: composite of first occurrence of\n",
    "- nonfatal myocardial infarction I20-25 - hospital admission record\n",
    "- coronary heart disease death I20-I25 - mortality record\n",
    "- nonfatal or fatal stroke I63 hospital admission + mortality record\n",
    "exclusion: free from ASCVD event"
   ]
  },
  {
   "cell_type": "code",
   "execution_count": 12,
   "metadata": {
    "ExecuteTime": {
     "end_time": "2020-11-04T09:38:02.240851Z",
     "start_time": "2020-11-04T09:38:01.564Z"
    }
   },
   "outputs": [],
   "source": [
    "coefs_string = '\"ln_age\" \"ln_age_squared\" \"ln_total_cholest\" \"ln_age_totcholest\" \"ln_hdlC\" \"ln_age_hdlC\" \"ln_treated_BP\" \"ln_age_BP\" \"ln_untreated_BP\" \"ln_age_ln_untreated_BP\" \"smoker\" \"nonsmoker\" \"ln_age_smoker\" \"diabetes\" \"nondiabetes\" \"meancoef\" \"baseline\"\n",
    "                \"white_female\" -29.799 4.884 13.54 -3.114 -13.578 3.149 2.019 0 1.957 0 7.574 0 -1.665 0.661 0 -29.18 0.9665\n",
    "                \"afroamer_female\" 17.114 0 0.94 0 -18.92 4.475 29.291 -6.432 27.82 -6.087 0.691 0 0 0.874 0 86.61 0.9533\n",
    "                \"white_male\" 12.344 0 11.853 -2.664 -7.99 1.769 1.797 0 1.764 0 7.837 0 -1.795 0.658 0 61.18 0.9144\n",
    "                \"afroamer_male\" 2.469 0 0.302 0 -0.307 0 1.916 0 1.809 0 0.549 0 0 0.645 0 19.54 0.8954'"
   ]
  },
  {
   "cell_type": "code",
   "execution_count": 13,
   "metadata": {
    "ExecuteTime": {
     "end_time": "2020-11-04T09:38:03.013264Z",
     "start_time": "2020-11-04T09:38:02.333Z"
    }
   },
   "outputs": [],
   "source": [
    "# from Appendix 7\n",
    "coefs <- read.table(text=coefs_string, row.names=1)\n",
    "#coefs\n",
    "\n",
    "calculateASCVD <- function(coefs=coefs, sex=\"Male\", ethnicity=\"White\", age=53, cholesterol=2, hdl_cholesterol=1.1, systolic_blood_pressure=120, antihypertensives=1, diabetes=0, smoking=1) {\n",
    "    \n",
    "    if (!is.na(ethnicity)) {\n",
    "            \n",
    "        if ((sex==\"Female\")&(ethnicity != \"Black\")){const=coefs[1,]} \n",
    "        if ((sex==\"Female\")&(ethnicity==\"Black\")){const=coefs[2,]} \n",
    "        if ((sex==\"Male\")&(ethnicity != \"Black\")){const=coefs[3,]} \n",
    "        if ((sex==\"Male\")&(ethnicity==\"Black\")){const=coefs[4,]} \n",
    "\n",
    "        if (smoking==TRUE){smokc=const$smoker} else {smokc=const$nonsmoker}\n",
    "        if (smoking==TRUE){smokcov=1} else {smokcov=0}\n",
    "\n",
    "        if (antihypertensives==TRUE){BPc=const$ln_treated_BP} else {BPc=const$ln_untreated_BP}\n",
    "        if (antihypertensives==TRUE){BPcov=const$ln_age_BP} else {BPcov=const$ln_age_ln_untreated_BP}\n",
    "\n",
    "        if (diabetes==TRUE){diab=const$diabetes} else {diab=const$nondiabetes}\n",
    "\n",
    "       # meancoef = const$meancoef\n",
    "\n",
    "        calc = log(age)*const$ln_age+log(age)*log(age)*const$ln_age_squared+\n",
    "            log(cholesterol*38.67)*const$ln_total_cholest+\n",
    "            log(age)*log(cholesterol*38.67)*const$ln_age_totcholest+\n",
    "            log(hdl_cholesterol*38.67)*const$ln_hdlC+\n",
    "            log(age)*log(hdl_cholesterol*38.67)*const$ln_age_hdlC+\n",
    "            smokc+smokcov*log(age)*const$ln_age_smoker+\n",
    "            log(systolic_blood_pressure)*BPc+\n",
    "            log(age)*log(systolic_blood_pressure)*BPcov+diab\n",
    "        \n",
    "        ASCVD<-(1-(const$baseline^exp(calc-const$meancoef)))\n",
    "    } else {ASCVD=NA}\n",
    "    return (ASCVD)\n",
    "}"
   ]
  },
  {
   "cell_type": "code",
   "execution_count": 14,
   "metadata": {
    "ExecuteTime": {
     "end_time": "2020-11-04T09:39:29.590535Z",
     "start_time": "2020-11-04T09:38:03.549Z"
    }
   },
   "outputs": [
    {
     "data": {
      "text/html": [
       "<table>\n",
       "<caption>A data.table: 6 × 2</caption>\n",
       "<thead>\n",
       "\t<tr><th scope=col>eid</th><th scope=col>score_ASCVD</th></tr>\n",
       "\t<tr><th scope=col>&lt;int&gt;</th><th scope=col>&lt;dbl&gt;</th></tr>\n",
       "</thead>\n",
       "<tbody>\n",
       "\t<tr><td>1000285</td><td>0.14320501</td></tr>\n",
       "\t<tr><td>1000686</td><td>0.13781988</td></tr>\n",
       "\t<tr><td>1000974</td><td>0.38666508</td></tr>\n",
       "\t<tr><td>1001073</td><td>0.07376216</td></tr>\n",
       "\t<tr><td>1001098</td><td>0.01139464</td></tr>\n",
       "\t<tr><td>1001119</td><td>0.04382689</td></tr>\n",
       "</tbody>\n",
       "</table>\n"
      ],
      "text/latex": [
       "A data.table: 6 × 2\n",
       "\\begin{tabular}{ll}\n",
       " eid & score\\_ASCVD\\\\\n",
       " <int> & <dbl>\\\\\n",
       "\\hline\n",
       "\t 1000285 & 0.14320501\\\\\n",
       "\t 1000686 & 0.13781988\\\\\n",
       "\t 1000974 & 0.38666508\\\\\n",
       "\t 1001073 & 0.07376216\\\\\n",
       "\t 1001098 & 0.01139464\\\\\n",
       "\t 1001119 & 0.04382689\\\\\n",
       "\\end{tabular}\n"
      ],
      "text/markdown": [
       "\n",
       "A data.table: 6 × 2\n",
       "\n",
       "| eid &lt;int&gt; | score_ASCVD &lt;dbl&gt; |\n",
       "|---|---|\n",
       "| 1000285 | 0.14320501 |\n",
       "| 1000686 | 0.13781988 |\n",
       "| 1000974 | 0.38666508 |\n",
       "| 1001073 | 0.07376216 |\n",
       "| 1001098 | 0.01139464 |\n",
       "| 1001119 | 0.04382689 |\n",
       "\n"
      ],
      "text/plain": [
       "  eid     score_ASCVD\n",
       "1 1000285 0.14320501 \n",
       "2 1000686 0.13781988 \n",
       "3 1000974 0.38666508 \n",
       "4 1001073 0.07376216 \n",
       "5 1001098 0.01139464 \n",
       "6 1001119 0.04382689 "
      ]
     },
     "metadata": {},
     "output_type": "display_data"
    }
   ],
   "source": [
    "temp = data.table(data %>% select(eid, age_at_recruitment, ethnic_background, sex, cholesterol, hdl_cholesterol, systolic_blood_pressure, antihypertensives, diabetes2, smoking_status) %>%\n",
    "                  mutate(current_smoker = case_when(smoking_status==\"Current\" ~ TRUE, TRUE ~ FALSE)))\n",
    "ASCVD_df = temp[, score_ASCVD:=calculateASCVD(coefs, sex, ethnic_background, age_at_recruitment, cholesterol, hdl_cholesterol, systolic_blood_pressure, antihypertensives, diabetes2, current_smoker), by=eid] %>% select(c(eid, score_ASCVD))\n",
    "head(ASCVD_df)"
   ]
  },
  {
   "cell_type": "code",
   "execution_count": 15,
   "metadata": {},
   "outputs": [
    {
     "data": {
      "text/html": [
       "<table>\n",
       "<caption>A data.table: 395738 × 12</caption>\n",
       "<thead>\n",
       "\t<tr><th scope=col>eid</th><th scope=col>age_at_recruitment</th><th scope=col>ethnic_background</th><th scope=col>sex</th><th scope=col>cholesterol</th><th scope=col>hdl_cholesterol</th><th scope=col>systolic_blood_pressure</th><th scope=col>antihypertensives</th><th scope=col>diabetes2</th><th scope=col>smoking_status</th><th scope=col>current_smoker</th><th scope=col>score_ASCVD</th></tr>\n",
       "\t<tr><th scope=col>&lt;int&gt;</th><th scope=col>&lt;dbl&gt;</th><th scope=col>&lt;chr&gt;</th><th scope=col>&lt;chr&gt;</th><th scope=col>&lt;dbl&gt;</th><th scope=col>&lt;dbl&gt;</th><th scope=col>&lt;dbl&gt;</th><th scope=col>&lt;lgl&gt;</th><th scope=col>&lt;lgl&gt;</th><th scope=col>&lt;chr&gt;</th><th scope=col>&lt;lgl&gt;</th><th scope=col>&lt;dbl&gt;</th></tr>\n",
       "</thead>\n",
       "<tbody>\n",
       "\t<tr><td>1000285</td><td>64</td><td>White</td><td>Male  </td><td>4.484</td><td>0.918</td><td>135.5</td><td>FALSE</td><td>FALSE</td><td>Never   </td><td>FALSE</td><td>0.143205008</td></tr>\n",
       "\t<tr><td>1000686</td><td>58</td><td>White</td><td>Male  </td><td>7.139</td><td>1.159</td><td>147.5</td><td>FALSE</td><td>FALSE</td><td>Never   </td><td>FALSE</td><td>0.137819883</td></tr>\n",
       "\t<tr><td>1000974</td><td>69</td><td>White</td><td>Male  </td><td>4.302</td><td>1.075</td><td>154.0</td><td>FALSE</td><td> TRUE</td><td>Previous</td><td>FALSE</td><td>0.386665084</td></tr>\n",
       "\t<tr><td>1001073</td><td>64</td><td>White</td><td>Female</td><td>6.944</td><td>1.608</td><td>148.0</td><td>FALSE</td><td>FALSE</td><td>Never   </td><td>FALSE</td><td>0.073762156</td></tr>\n",
       "\t<tr><td>1001098</td><td>47</td><td>White</td><td>Female</td><td>5.389</td><td>1.477</td><td>139.5</td><td>FALSE</td><td>FALSE</td><td>Never   </td><td>FALSE</td><td>0.011394640</td></tr>\n",
       "\t<tr><td>1001119</td><td>62</td><td>White</td><td>Female</td><td>4.833</td><td>1.461</td><td>137.5</td><td>FALSE</td><td>FALSE</td><td>Previous</td><td>FALSE</td><td>0.043826887</td></tr>\n",
       "\t<tr><td>1001458</td><td>59</td><td>White</td><td>Male  </td><td>4.879</td><td>1.097</td><td>153.0</td><td>FALSE</td><td>FALSE</td><td>Current </td><td> TRUE</td><td>0.184407293</td></tr>\n",
       "\t<tr><td>1001517</td><td>66</td><td>White</td><td>Male  </td><td>6.353</td><td>1.879</td><td>143.5</td><td>FALSE</td><td>FALSE</td><td>Previous</td><td>FALSE</td><td>0.154071008</td></tr>\n",
       "\t<tr><td>1001591</td><td>50</td><td>White</td><td>Male  </td><td>5.675</td><td>1.418</td><td>112.5</td><td>FALSE</td><td>FALSE</td><td>Never   </td><td>FALSE</td><td>0.028630793</td></tr>\n",
       "\t<tr><td>1001741</td><td>47</td><td>White</td><td>Female</td><td>4.880</td><td>1.157</td><td>149.0</td><td>FALSE</td><td>FALSE</td><td>Previous</td><td>FALSE</td><td>0.015815727</td></tr>\n",
       "\t<tr><td>1001759</td><td>44</td><td>White</td><td>Female</td><td>6.177</td><td>1.560</td><td>110.0</td><td>FALSE</td><td>FALSE</td><td>Never   </td><td>FALSE</td><td>0.006567331</td></tr>\n",
       "\t<tr><td>1002001</td><td>59</td><td>White</td><td>Male  </td><td>6.449</td><td>1.884</td><td>114.0</td><td>FALSE</td><td>FALSE</td><td>Previous</td><td>FALSE</td><td>0.060675171</td></tr>\n",
       "\t<tr><td>1002182</td><td>48</td><td>White</td><td>Female</td><td>5.381</td><td>1.642</td><td>146.5</td><td>FALSE</td><td>FALSE</td><td>Never   </td><td>FALSE</td><td>0.011755503</td></tr>\n",
       "\t<tr><td>1002213</td><td>59</td><td>White</td><td>Female</td><td>7.881</td><td>1.497</td><td>148.0</td><td>FALSE</td><td>FALSE</td><td>Previous</td><td>FALSE</td><td>0.053596257</td></tr>\n",
       "\t<tr><td>1002710</td><td>40</td><td>White</td><td>Female</td><td>4.482</td><td>1.512</td><td>115.5</td><td>FALSE</td><td>FALSE</td><td>Never   </td><td>FALSE</td><td>0.003121729</td></tr>\n",
       "\t<tr><td>1002811</td><td>59</td><td>White</td><td>Female</td><td>6.842</td><td>2.215</td><td>142.5</td><td>FALSE</td><td>FALSE</td><td>Never   </td><td>FALSE</td><td>0.033436135</td></tr>\n",
       "\t<tr><td>1002977</td><td>57</td><td>White</td><td>Female</td><td>7.024</td><td>2.850</td><td>132.5</td><td>FALSE</td><td>FALSE</td><td>Previous</td><td>FALSE</td><td>0.019330514</td></tr>\n",
       "\t<tr><td>1003288</td><td>70</td><td>White</td><td>Female</td><td>7.540</td><td>1.470</td><td>157.5</td><td>FALSE</td><td>FALSE</td><td>Never   </td><td>FALSE</td><td>0.153816413</td></tr>\n",
       "\t<tr><td>1003535</td><td>51</td><td>White</td><td>Male  </td><td>6.688</td><td>0.876</td><td>145.5</td><td>FALSE</td><td>FALSE</td><td>Never   </td><td>FALSE</td><td>0.099090730</td></tr>\n",
       "\t<tr><td>1003631</td><td>66</td><td>White</td><td>Female</td><td>6.136</td><td>1.159</td><td>113.5</td><td>FALSE</td><td>FALSE</td><td>Previous</td><td>FALSE</td><td>0.057791311</td></tr>\n",
       "\t<tr><td>1003650</td><td>65</td><td>White</td><td>Male  </td><td>5.621</td><td>1.536</td><td>147.5</td><td>FALSE</td><td>FALSE</td><td>Never   </td><td>FALSE</td><td>0.154145834</td></tr>\n",
       "\t<tr><td>1003884</td><td>40</td><td>White</td><td>Male  </td><td>6.472</td><td>1.076</td><td>128.0</td><td>FALSE</td><td>FALSE</td><td>Previous</td><td>FALSE</td><td>0.022764260</td></tr>\n",
       "\t<tr><td>1004007</td><td>64</td><td>White</td><td>Female</td><td>4.113</td><td>0.705</td><td>136.0</td><td>FALSE</td><td>FALSE</td><td>Previous</td><td>FALSE</td><td>0.068493283</td></tr>\n",
       "\t<tr><td>1004083</td><td>60</td><td>White</td><td>Female</td><td>8.257</td><td>1.266</td><td>160.5</td><td>FALSE</td><td>FALSE</td><td>Never   </td><td>FALSE</td><td>0.078568847</td></tr>\n",
       "\t<tr><td>1004105</td><td>45</td><td>Black</td><td>Male  </td><td>4.359</td><td>1.375</td><td>149.0</td><td>FALSE</td><td>FALSE</td><td>Current </td><td> TRUE</td><td>0.085530257</td></tr>\n",
       "\t<tr><td>1004333</td><td>50</td><td>White</td><td>Female</td><td>5.167</td><td>1.327</td><td>148.0</td><td>FALSE</td><td>FALSE</td><td>Previous</td><td>FALSE</td><td>0.017895970</td></tr>\n",
       "\t<tr><td>1004767</td><td>47</td><td>White</td><td>Male  </td><td>6.171</td><td>1.050</td><td>151.0</td><td>FALSE</td><td>FALSE</td><td>Never   </td><td>FALSE</td><td>0.056475791</td></tr>\n",
       "\t<tr><td>1004846</td><td>47</td><td>White</td><td>Male  </td><td>6.321</td><td>1.487</td><td>119.0</td><td>FALSE</td><td>FALSE</td><td>Current </td><td> TRUE</td><td>0.064303517</td></tr>\n",
       "\t<tr><td>1005011</td><td>56</td><td>White</td><td>Male  </td><td>6.424</td><td>1.648</td><td>175.0</td><td>FALSE</td><td>FALSE</td><td>Never   </td><td>FALSE</td><td>0.107297652</td></tr>\n",
       "\t<tr><td>1005089</td><td>66</td><td>White</td><td>Female</td><td>5.108</td><td>1.447</td><td>120.5</td><td>FALSE</td><td>FALSE</td><td>Never   </td><td>FALSE</td><td>0.054585602</td></tr>\n",
       "\t<tr><td>⋮</td><td>⋮</td><td>⋮</td><td>⋮</td><td>⋮</td><td>⋮</td><td>⋮</td><td>⋮</td><td>⋮</td><td>⋮</td><td>⋮</td><td>⋮</td></tr>\n",
       "\t<tr><td>6022598</td><td>66</td><td>White</td><td>Female</td><td>6.309</td><td>1.759</td><td>160.0</td><td>FALSE</td><td>FALSE</td><td>Previous</td><td>FALSE</td><td>0.09574848</td></tr>\n",
       "\t<tr><td>6022635</td><td>63</td><td>White</td><td>Female</td><td>5.859</td><td>1.699</td><td>159.5</td><td>FALSE</td><td>FALSE</td><td>Previous</td><td>FALSE</td><td>0.06756539</td></tr>\n",
       "\t<tr><td>6022700</td><td>70</td><td>White</td><td>Male  </td><td>5.335</td><td>1.198</td><td>163.0</td><td>FALSE</td><td>FALSE</td><td>Never   </td><td>FALSE</td><td>0.27527480</td></tr>\n",
       "\t<tr><td>6022819</td><td>62</td><td>White</td><td>Female</td><td>6.593</td><td>1.560</td><td>117.5</td><td>FALSE</td><td>FALSE</td><td>Current </td><td> TRUE</td><td>0.07620732</td></tr>\n",
       "\t<tr><td>6022826</td><td>60</td><td>White</td><td>Female</td><td>5.140</td><td>1.425</td><td>134.0</td><td>FALSE</td><td>FALSE</td><td>Never   </td><td>FALSE</td><td>0.03579095</td></tr>\n",
       "\t<tr><td>6022906</td><td>60</td><td>White</td><td>Female</td><td>7.436</td><td>1.952</td><td>131.0</td><td>FALSE</td><td>FALSE</td><td>Never   </td><td>FALSE</td><td>0.03693190</td></tr>\n",
       "\t<tr><td>6022985</td><td>62</td><td>White</td><td>Female</td><td>7.059</td><td>2.340</td><td>137.5</td><td>FALSE</td><td>FALSE</td><td>Previous</td><td>FALSE</td><td>0.04326065</td></tr>\n",
       "\t<tr><td>6023018</td><td>64</td><td>White</td><td>Male  </td><td>6.302</td><td>0.916</td><td>145.5</td><td>FALSE</td><td>FALSE</td><td>Previous</td><td>FALSE</td><td>0.20415579</td></tr>\n",
       "\t<tr><td>6023051</td><td>45</td><td>White</td><td>Female</td><td>6.580</td><td>1.404</td><td>118.5</td><td>FALSE</td><td>FALSE</td><td>Never   </td><td>FALSE</td><td>0.01070025</td></tr>\n",
       "\t<tr><td>6023092</td><td>61</td><td>White</td><td>Female</td><td>6.474</td><td>1.504</td><td>136.0</td><td>FALSE</td><td>FALSE</td><td>Never   </td><td>FALSE</td><td>0.04668794</td></tr>\n",
       "\t<tr><td>6023206</td><td>61</td><td>White</td><td>Female</td><td>7.172</td><td>2.400</td><td>154.0</td><td>FALSE</td><td>FALSE</td><td>Previous</td><td>FALSE</td><td>0.04775392</td></tr>\n",
       "\t<tr><td>6023285</td><td>63</td><td>White</td><td>Male  </td><td>4.315</td><td>0.588</td><td>142.0</td><td>FALSE</td><td>FALSE</td><td>Previous</td><td>FALSE</td><td>0.18297574</td></tr>\n",
       "\t<tr><td>6023334</td><td>60</td><td>White</td><td>Male  </td><td>6.038</td><td>1.060</td><td>135.0</td><td>FALSE</td><td>FALSE</td><td>Never   </td><td>FALSE</td><td>0.12451617</td></tr>\n",
       "\t<tr><td>6023815</td><td>64</td><td>White</td><td>Male  </td><td>6.563</td><td>1.398</td><td>127.0</td><td>FALSE</td><td>FALSE</td><td>Never   </td><td>FALSE</td><td>0.13225327</td></tr>\n",
       "\t<tr><td>6023859</td><td>46</td><td>Black</td><td>Male  </td><td>4.360</td><td>1.082</td><td>141.5</td><td>FALSE</td><td>FALSE</td><td>Never   </td><td>FALSE</td><td>0.05204528</td></tr>\n",
       "\t<tr><td>6023888</td><td>61</td><td>White</td><td>Female</td><td>5.472</td><td>2.153</td><td>164.5</td><td>FALSE</td><td>FALSE</td><td>Previous</td><td>FALSE</td><td>0.04765866</td></tr>\n",
       "\t<tr><td>6023974</td><td>62</td><td>White</td><td>Male  </td><td>6.520</td><td>0.942</td><td>138.5</td><td>FALSE</td><td>FALSE</td><td>Previous</td><td>FALSE</td><td>0.16982618</td></tr>\n",
       "\t<tr><td>6024246</td><td>64</td><td>White</td><td>Female</td><td>6.833</td><td>1.472</td><td>131.5</td><td>FALSE</td><td>FALSE</td><td>Previous</td><td>FALSE</td><td>0.06091005</td></tr>\n",
       "\t<tr><td>6024470</td><td>49</td><td>White</td><td>Female</td><td>6.200</td><td>2.116</td><td>148.0</td><td>FALSE</td><td>FALSE</td><td>Current </td><td> TRUE</td><td>0.03402195</td></tr>\n",
       "\t<tr><td>6024505</td><td>58</td><td>White</td><td>Male  </td><td>6.068</td><td>1.048</td><td>147.0</td><td>FALSE</td><td>FALSE</td><td>Never   </td><td>FALSE</td><td>0.12637519</td></tr>\n",
       "\t<tr><td>6024518</td><td>49</td><td>White</td><td>Male  </td><td>6.338</td><td>1.301</td><td>155.5</td><td>FALSE</td><td>FALSE</td><td>Never   </td><td>FALSE</td><td>0.05838098</td></tr>\n",
       "\t<tr><td>6024543</td><td>64</td><td>White</td><td>Female</td><td>7.986</td><td>1.502</td><td>139.0</td><td>FALSE</td><td>FALSE</td><td>Never   </td><td>FALSE</td><td>0.07322825</td></tr>\n",
       "\t<tr><td>6024584</td><td>47</td><td>White</td><td>Female</td><td>7.493</td><td>1.945</td><td>128.0</td><td>FALSE</td><td>FALSE</td><td>Current </td><td> TRUE</td><td>0.03404419</td></tr>\n",
       "\t<tr><td>6024810</td><td>61</td><td>White</td><td>Female</td><td>7.792</td><td>1.694</td><td>145.0</td><td>FALSE</td><td>FALSE</td><td>Current </td><td> TRUE</td><td>0.11267643</td></tr>\n",
       "\t<tr><td>6024835</td><td>45</td><td>White</td><td>Female</td><td>6.853</td><td>1.539</td><td>135.0</td><td>FALSE</td><td>FALSE</td><td>Never   </td><td>FALSE</td><td>0.01276662</td></tr>\n",
       "\t<tr><td>6024861</td><td>44</td><td>White</td><td>Female</td><td>5.156</td><td>0.977</td><td>128.0</td><td>FALSE</td><td>FALSE</td><td>Never   </td><td>FALSE</td><td>0.01394681</td></tr>\n",
       "\t<tr><td>6024883</td><td>49</td><td>White</td><td>Male  </td><td>6.042</td><td>1.241</td><td>127.0</td><td>FALSE</td><td>FALSE</td><td>Never   </td><td>FALSE</td><td>0.04046171</td></tr>\n",
       "\t<tr><td>6025060</td><td>45</td><td>White</td><td>Male  </td><td>4.907</td><td>1.137</td><td>132.5</td><td>FALSE</td><td>FALSE</td><td>Never   </td><td>FALSE</td><td>0.02311942</td></tr>\n",
       "\t<tr><td>6025116</td><td>52</td><td>White</td><td>Female</td><td>7.653</td><td>1.604</td><td>167.5</td><td>FALSE</td><td>FALSE</td><td>Never   </td><td>FALSE</td><td>0.03533682</td></tr>\n",
       "\t<tr><td>6025147</td><td>43</td><td>Asian</td><td>Male  </td><td>4.907</td><td>1.411</td><td>115.0</td><td>FALSE</td><td>FALSE</td><td>Never   </td><td>FALSE</td><td>0.01078727</td></tr>\n",
       "</tbody>\n",
       "</table>\n"
      ],
      "text/latex": [
       "A data.table: 395738 × 12\n",
       "\\begin{tabular}{llllllllllll}\n",
       " eid & age\\_at\\_recruitment & ethnic\\_background & sex & cholesterol & hdl\\_cholesterol & systolic\\_blood\\_pressure & antihypertensives & diabetes2 & smoking\\_status & current\\_smoker & score\\_ASCVD\\\\\n",
       " <int> & <dbl> & <chr> & <chr> & <dbl> & <dbl> & <dbl> & <lgl> & <lgl> & <chr> & <lgl> & <dbl>\\\\\n",
       "\\hline\n",
       "\t 1000285 & 64 & White & Male   & 4.484 & 0.918 & 135.5 & FALSE & FALSE & Never    & FALSE & 0.143205008\\\\\n",
       "\t 1000686 & 58 & White & Male   & 7.139 & 1.159 & 147.5 & FALSE & FALSE & Never    & FALSE & 0.137819883\\\\\n",
       "\t 1000974 & 69 & White & Male   & 4.302 & 1.075 & 154.0 & FALSE &  TRUE & Previous & FALSE & 0.386665084\\\\\n",
       "\t 1001073 & 64 & White & Female & 6.944 & 1.608 & 148.0 & FALSE & FALSE & Never    & FALSE & 0.073762156\\\\\n",
       "\t 1001098 & 47 & White & Female & 5.389 & 1.477 & 139.5 & FALSE & FALSE & Never    & FALSE & 0.011394640\\\\\n",
       "\t 1001119 & 62 & White & Female & 4.833 & 1.461 & 137.5 & FALSE & FALSE & Previous & FALSE & 0.043826887\\\\\n",
       "\t 1001458 & 59 & White & Male   & 4.879 & 1.097 & 153.0 & FALSE & FALSE & Current  &  TRUE & 0.184407293\\\\\n",
       "\t 1001517 & 66 & White & Male   & 6.353 & 1.879 & 143.5 & FALSE & FALSE & Previous & FALSE & 0.154071008\\\\\n",
       "\t 1001591 & 50 & White & Male   & 5.675 & 1.418 & 112.5 & FALSE & FALSE & Never    & FALSE & 0.028630793\\\\\n",
       "\t 1001741 & 47 & White & Female & 4.880 & 1.157 & 149.0 & FALSE & FALSE & Previous & FALSE & 0.015815727\\\\\n",
       "\t 1001759 & 44 & White & Female & 6.177 & 1.560 & 110.0 & FALSE & FALSE & Never    & FALSE & 0.006567331\\\\\n",
       "\t 1002001 & 59 & White & Male   & 6.449 & 1.884 & 114.0 & FALSE & FALSE & Previous & FALSE & 0.060675171\\\\\n",
       "\t 1002182 & 48 & White & Female & 5.381 & 1.642 & 146.5 & FALSE & FALSE & Never    & FALSE & 0.011755503\\\\\n",
       "\t 1002213 & 59 & White & Female & 7.881 & 1.497 & 148.0 & FALSE & FALSE & Previous & FALSE & 0.053596257\\\\\n",
       "\t 1002710 & 40 & White & Female & 4.482 & 1.512 & 115.5 & FALSE & FALSE & Never    & FALSE & 0.003121729\\\\\n",
       "\t 1002811 & 59 & White & Female & 6.842 & 2.215 & 142.5 & FALSE & FALSE & Never    & FALSE & 0.033436135\\\\\n",
       "\t 1002977 & 57 & White & Female & 7.024 & 2.850 & 132.5 & FALSE & FALSE & Previous & FALSE & 0.019330514\\\\\n",
       "\t 1003288 & 70 & White & Female & 7.540 & 1.470 & 157.5 & FALSE & FALSE & Never    & FALSE & 0.153816413\\\\\n",
       "\t 1003535 & 51 & White & Male   & 6.688 & 0.876 & 145.5 & FALSE & FALSE & Never    & FALSE & 0.099090730\\\\\n",
       "\t 1003631 & 66 & White & Female & 6.136 & 1.159 & 113.5 & FALSE & FALSE & Previous & FALSE & 0.057791311\\\\\n",
       "\t 1003650 & 65 & White & Male   & 5.621 & 1.536 & 147.5 & FALSE & FALSE & Never    & FALSE & 0.154145834\\\\\n",
       "\t 1003884 & 40 & White & Male   & 6.472 & 1.076 & 128.0 & FALSE & FALSE & Previous & FALSE & 0.022764260\\\\\n",
       "\t 1004007 & 64 & White & Female & 4.113 & 0.705 & 136.0 & FALSE & FALSE & Previous & FALSE & 0.068493283\\\\\n",
       "\t 1004083 & 60 & White & Female & 8.257 & 1.266 & 160.5 & FALSE & FALSE & Never    & FALSE & 0.078568847\\\\\n",
       "\t 1004105 & 45 & Black & Male   & 4.359 & 1.375 & 149.0 & FALSE & FALSE & Current  &  TRUE & 0.085530257\\\\\n",
       "\t 1004333 & 50 & White & Female & 5.167 & 1.327 & 148.0 & FALSE & FALSE & Previous & FALSE & 0.017895970\\\\\n",
       "\t 1004767 & 47 & White & Male   & 6.171 & 1.050 & 151.0 & FALSE & FALSE & Never    & FALSE & 0.056475791\\\\\n",
       "\t 1004846 & 47 & White & Male   & 6.321 & 1.487 & 119.0 & FALSE & FALSE & Current  &  TRUE & 0.064303517\\\\\n",
       "\t 1005011 & 56 & White & Male   & 6.424 & 1.648 & 175.0 & FALSE & FALSE & Never    & FALSE & 0.107297652\\\\\n",
       "\t 1005089 & 66 & White & Female & 5.108 & 1.447 & 120.5 & FALSE & FALSE & Never    & FALSE & 0.054585602\\\\\n",
       "\t ⋮ & ⋮ & ⋮ & ⋮ & ⋮ & ⋮ & ⋮ & ⋮ & ⋮ & ⋮ & ⋮ & ⋮\\\\\n",
       "\t 6022598 & 66 & White & Female & 6.309 & 1.759 & 160.0 & FALSE & FALSE & Previous & FALSE & 0.09574848\\\\\n",
       "\t 6022635 & 63 & White & Female & 5.859 & 1.699 & 159.5 & FALSE & FALSE & Previous & FALSE & 0.06756539\\\\\n",
       "\t 6022700 & 70 & White & Male   & 5.335 & 1.198 & 163.0 & FALSE & FALSE & Never    & FALSE & 0.27527480\\\\\n",
       "\t 6022819 & 62 & White & Female & 6.593 & 1.560 & 117.5 & FALSE & FALSE & Current  &  TRUE & 0.07620732\\\\\n",
       "\t 6022826 & 60 & White & Female & 5.140 & 1.425 & 134.0 & FALSE & FALSE & Never    & FALSE & 0.03579095\\\\\n",
       "\t 6022906 & 60 & White & Female & 7.436 & 1.952 & 131.0 & FALSE & FALSE & Never    & FALSE & 0.03693190\\\\\n",
       "\t 6022985 & 62 & White & Female & 7.059 & 2.340 & 137.5 & FALSE & FALSE & Previous & FALSE & 0.04326065\\\\\n",
       "\t 6023018 & 64 & White & Male   & 6.302 & 0.916 & 145.5 & FALSE & FALSE & Previous & FALSE & 0.20415579\\\\\n",
       "\t 6023051 & 45 & White & Female & 6.580 & 1.404 & 118.5 & FALSE & FALSE & Never    & FALSE & 0.01070025\\\\\n",
       "\t 6023092 & 61 & White & Female & 6.474 & 1.504 & 136.0 & FALSE & FALSE & Never    & FALSE & 0.04668794\\\\\n",
       "\t 6023206 & 61 & White & Female & 7.172 & 2.400 & 154.0 & FALSE & FALSE & Previous & FALSE & 0.04775392\\\\\n",
       "\t 6023285 & 63 & White & Male   & 4.315 & 0.588 & 142.0 & FALSE & FALSE & Previous & FALSE & 0.18297574\\\\\n",
       "\t 6023334 & 60 & White & Male   & 6.038 & 1.060 & 135.0 & FALSE & FALSE & Never    & FALSE & 0.12451617\\\\\n",
       "\t 6023815 & 64 & White & Male   & 6.563 & 1.398 & 127.0 & FALSE & FALSE & Never    & FALSE & 0.13225327\\\\\n",
       "\t 6023859 & 46 & Black & Male   & 4.360 & 1.082 & 141.5 & FALSE & FALSE & Never    & FALSE & 0.05204528\\\\\n",
       "\t 6023888 & 61 & White & Female & 5.472 & 2.153 & 164.5 & FALSE & FALSE & Previous & FALSE & 0.04765866\\\\\n",
       "\t 6023974 & 62 & White & Male   & 6.520 & 0.942 & 138.5 & FALSE & FALSE & Previous & FALSE & 0.16982618\\\\\n",
       "\t 6024246 & 64 & White & Female & 6.833 & 1.472 & 131.5 & FALSE & FALSE & Previous & FALSE & 0.06091005\\\\\n",
       "\t 6024470 & 49 & White & Female & 6.200 & 2.116 & 148.0 & FALSE & FALSE & Current  &  TRUE & 0.03402195\\\\\n",
       "\t 6024505 & 58 & White & Male   & 6.068 & 1.048 & 147.0 & FALSE & FALSE & Never    & FALSE & 0.12637519\\\\\n",
       "\t 6024518 & 49 & White & Male   & 6.338 & 1.301 & 155.5 & FALSE & FALSE & Never    & FALSE & 0.05838098\\\\\n",
       "\t 6024543 & 64 & White & Female & 7.986 & 1.502 & 139.0 & FALSE & FALSE & Never    & FALSE & 0.07322825\\\\\n",
       "\t 6024584 & 47 & White & Female & 7.493 & 1.945 & 128.0 & FALSE & FALSE & Current  &  TRUE & 0.03404419\\\\\n",
       "\t 6024810 & 61 & White & Female & 7.792 & 1.694 & 145.0 & FALSE & FALSE & Current  &  TRUE & 0.11267643\\\\\n",
       "\t 6024835 & 45 & White & Female & 6.853 & 1.539 & 135.0 & FALSE & FALSE & Never    & FALSE & 0.01276662\\\\\n",
       "\t 6024861 & 44 & White & Female & 5.156 & 0.977 & 128.0 & FALSE & FALSE & Never    & FALSE & 0.01394681\\\\\n",
       "\t 6024883 & 49 & White & Male   & 6.042 & 1.241 & 127.0 & FALSE & FALSE & Never    & FALSE & 0.04046171\\\\\n",
       "\t 6025060 & 45 & White & Male   & 4.907 & 1.137 & 132.5 & FALSE & FALSE & Never    & FALSE & 0.02311942\\\\\n",
       "\t 6025116 & 52 & White & Female & 7.653 & 1.604 & 167.5 & FALSE & FALSE & Never    & FALSE & 0.03533682\\\\\n",
       "\t 6025147 & 43 & Asian & Male   & 4.907 & 1.411 & 115.0 & FALSE & FALSE & Never    & FALSE & 0.01078727\\\\\n",
       "\\end{tabular}\n"
      ],
      "text/markdown": [
       "\n",
       "A data.table: 395738 × 12\n",
       "\n",
       "| eid &lt;int&gt; | age_at_recruitment &lt;dbl&gt; | ethnic_background &lt;chr&gt; | sex &lt;chr&gt; | cholesterol &lt;dbl&gt; | hdl_cholesterol &lt;dbl&gt; | systolic_blood_pressure &lt;dbl&gt; | antihypertensives &lt;lgl&gt; | diabetes2 &lt;lgl&gt; | smoking_status &lt;chr&gt; | current_smoker &lt;lgl&gt; | score_ASCVD &lt;dbl&gt; |\n",
       "|---|---|---|---|---|---|---|---|---|---|---|---|\n",
       "| 1000285 | 64 | White | Male   | 4.484 | 0.918 | 135.5 | FALSE | FALSE | Never    | FALSE | 0.143205008 |\n",
       "| 1000686 | 58 | White | Male   | 7.139 | 1.159 | 147.5 | FALSE | FALSE | Never    | FALSE | 0.137819883 |\n",
       "| 1000974 | 69 | White | Male   | 4.302 | 1.075 | 154.0 | FALSE |  TRUE | Previous | FALSE | 0.386665084 |\n",
       "| 1001073 | 64 | White | Female | 6.944 | 1.608 | 148.0 | FALSE | FALSE | Never    | FALSE | 0.073762156 |\n",
       "| 1001098 | 47 | White | Female | 5.389 | 1.477 | 139.5 | FALSE | FALSE | Never    | FALSE | 0.011394640 |\n",
       "| 1001119 | 62 | White | Female | 4.833 | 1.461 | 137.5 | FALSE | FALSE | Previous | FALSE | 0.043826887 |\n",
       "| 1001458 | 59 | White | Male   | 4.879 | 1.097 | 153.0 | FALSE | FALSE | Current  |  TRUE | 0.184407293 |\n",
       "| 1001517 | 66 | White | Male   | 6.353 | 1.879 | 143.5 | FALSE | FALSE | Previous | FALSE | 0.154071008 |\n",
       "| 1001591 | 50 | White | Male   | 5.675 | 1.418 | 112.5 | FALSE | FALSE | Never    | FALSE | 0.028630793 |\n",
       "| 1001741 | 47 | White | Female | 4.880 | 1.157 | 149.0 | FALSE | FALSE | Previous | FALSE | 0.015815727 |\n",
       "| 1001759 | 44 | White | Female | 6.177 | 1.560 | 110.0 | FALSE | FALSE | Never    | FALSE | 0.006567331 |\n",
       "| 1002001 | 59 | White | Male   | 6.449 | 1.884 | 114.0 | FALSE | FALSE | Previous | FALSE | 0.060675171 |\n",
       "| 1002182 | 48 | White | Female | 5.381 | 1.642 | 146.5 | FALSE | FALSE | Never    | FALSE | 0.011755503 |\n",
       "| 1002213 | 59 | White | Female | 7.881 | 1.497 | 148.0 | FALSE | FALSE | Previous | FALSE | 0.053596257 |\n",
       "| 1002710 | 40 | White | Female | 4.482 | 1.512 | 115.5 | FALSE | FALSE | Never    | FALSE | 0.003121729 |\n",
       "| 1002811 | 59 | White | Female | 6.842 | 2.215 | 142.5 | FALSE | FALSE | Never    | FALSE | 0.033436135 |\n",
       "| 1002977 | 57 | White | Female | 7.024 | 2.850 | 132.5 | FALSE | FALSE | Previous | FALSE | 0.019330514 |\n",
       "| 1003288 | 70 | White | Female | 7.540 | 1.470 | 157.5 | FALSE | FALSE | Never    | FALSE | 0.153816413 |\n",
       "| 1003535 | 51 | White | Male   | 6.688 | 0.876 | 145.5 | FALSE | FALSE | Never    | FALSE | 0.099090730 |\n",
       "| 1003631 | 66 | White | Female | 6.136 | 1.159 | 113.5 | FALSE | FALSE | Previous | FALSE | 0.057791311 |\n",
       "| 1003650 | 65 | White | Male   | 5.621 | 1.536 | 147.5 | FALSE | FALSE | Never    | FALSE | 0.154145834 |\n",
       "| 1003884 | 40 | White | Male   | 6.472 | 1.076 | 128.0 | FALSE | FALSE | Previous | FALSE | 0.022764260 |\n",
       "| 1004007 | 64 | White | Female | 4.113 | 0.705 | 136.0 | FALSE | FALSE | Previous | FALSE | 0.068493283 |\n",
       "| 1004083 | 60 | White | Female | 8.257 | 1.266 | 160.5 | FALSE | FALSE | Never    | FALSE | 0.078568847 |\n",
       "| 1004105 | 45 | Black | Male   | 4.359 | 1.375 | 149.0 | FALSE | FALSE | Current  |  TRUE | 0.085530257 |\n",
       "| 1004333 | 50 | White | Female | 5.167 | 1.327 | 148.0 | FALSE | FALSE | Previous | FALSE | 0.017895970 |\n",
       "| 1004767 | 47 | White | Male   | 6.171 | 1.050 | 151.0 | FALSE | FALSE | Never    | FALSE | 0.056475791 |\n",
       "| 1004846 | 47 | White | Male   | 6.321 | 1.487 | 119.0 | FALSE | FALSE | Current  |  TRUE | 0.064303517 |\n",
       "| 1005011 | 56 | White | Male   | 6.424 | 1.648 | 175.0 | FALSE | FALSE | Never    | FALSE | 0.107297652 |\n",
       "| 1005089 | 66 | White | Female | 5.108 | 1.447 | 120.5 | FALSE | FALSE | Never    | FALSE | 0.054585602 |\n",
       "| ⋮ | ⋮ | ⋮ | ⋮ | ⋮ | ⋮ | ⋮ | ⋮ | ⋮ | ⋮ | ⋮ | ⋮ |\n",
       "| 6022598 | 66 | White | Female | 6.309 | 1.759 | 160.0 | FALSE | FALSE | Previous | FALSE | 0.09574848 |\n",
       "| 6022635 | 63 | White | Female | 5.859 | 1.699 | 159.5 | FALSE | FALSE | Previous | FALSE | 0.06756539 |\n",
       "| 6022700 | 70 | White | Male   | 5.335 | 1.198 | 163.0 | FALSE | FALSE | Never    | FALSE | 0.27527480 |\n",
       "| 6022819 | 62 | White | Female | 6.593 | 1.560 | 117.5 | FALSE | FALSE | Current  |  TRUE | 0.07620732 |\n",
       "| 6022826 | 60 | White | Female | 5.140 | 1.425 | 134.0 | FALSE | FALSE | Never    | FALSE | 0.03579095 |\n",
       "| 6022906 | 60 | White | Female | 7.436 | 1.952 | 131.0 | FALSE | FALSE | Never    | FALSE | 0.03693190 |\n",
       "| 6022985 | 62 | White | Female | 7.059 | 2.340 | 137.5 | FALSE | FALSE | Previous | FALSE | 0.04326065 |\n",
       "| 6023018 | 64 | White | Male   | 6.302 | 0.916 | 145.5 | FALSE | FALSE | Previous | FALSE | 0.20415579 |\n",
       "| 6023051 | 45 | White | Female | 6.580 | 1.404 | 118.5 | FALSE | FALSE | Never    | FALSE | 0.01070025 |\n",
       "| 6023092 | 61 | White | Female | 6.474 | 1.504 | 136.0 | FALSE | FALSE | Never    | FALSE | 0.04668794 |\n",
       "| 6023206 | 61 | White | Female | 7.172 | 2.400 | 154.0 | FALSE | FALSE | Previous | FALSE | 0.04775392 |\n",
       "| 6023285 | 63 | White | Male   | 4.315 | 0.588 | 142.0 | FALSE | FALSE | Previous | FALSE | 0.18297574 |\n",
       "| 6023334 | 60 | White | Male   | 6.038 | 1.060 | 135.0 | FALSE | FALSE | Never    | FALSE | 0.12451617 |\n",
       "| 6023815 | 64 | White | Male   | 6.563 | 1.398 | 127.0 | FALSE | FALSE | Never    | FALSE | 0.13225327 |\n",
       "| 6023859 | 46 | Black | Male   | 4.360 | 1.082 | 141.5 | FALSE | FALSE | Never    | FALSE | 0.05204528 |\n",
       "| 6023888 | 61 | White | Female | 5.472 | 2.153 | 164.5 | FALSE | FALSE | Previous | FALSE | 0.04765866 |\n",
       "| 6023974 | 62 | White | Male   | 6.520 | 0.942 | 138.5 | FALSE | FALSE | Previous | FALSE | 0.16982618 |\n",
       "| 6024246 | 64 | White | Female | 6.833 | 1.472 | 131.5 | FALSE | FALSE | Previous | FALSE | 0.06091005 |\n",
       "| 6024470 | 49 | White | Female | 6.200 | 2.116 | 148.0 | FALSE | FALSE | Current  |  TRUE | 0.03402195 |\n",
       "| 6024505 | 58 | White | Male   | 6.068 | 1.048 | 147.0 | FALSE | FALSE | Never    | FALSE | 0.12637519 |\n",
       "| 6024518 | 49 | White | Male   | 6.338 | 1.301 | 155.5 | FALSE | FALSE | Never    | FALSE | 0.05838098 |\n",
       "| 6024543 | 64 | White | Female | 7.986 | 1.502 | 139.0 | FALSE | FALSE | Never    | FALSE | 0.07322825 |\n",
       "| 6024584 | 47 | White | Female | 7.493 | 1.945 | 128.0 | FALSE | FALSE | Current  |  TRUE | 0.03404419 |\n",
       "| 6024810 | 61 | White | Female | 7.792 | 1.694 | 145.0 | FALSE | FALSE | Current  |  TRUE | 0.11267643 |\n",
       "| 6024835 | 45 | White | Female | 6.853 | 1.539 | 135.0 | FALSE | FALSE | Never    | FALSE | 0.01276662 |\n",
       "| 6024861 | 44 | White | Female | 5.156 | 0.977 | 128.0 | FALSE | FALSE | Never    | FALSE | 0.01394681 |\n",
       "| 6024883 | 49 | White | Male   | 6.042 | 1.241 | 127.0 | FALSE | FALSE | Never    | FALSE | 0.04046171 |\n",
       "| 6025060 | 45 | White | Male   | 4.907 | 1.137 | 132.5 | FALSE | FALSE | Never    | FALSE | 0.02311942 |\n",
       "| 6025116 | 52 | White | Female | 7.653 | 1.604 | 167.5 | FALSE | FALSE | Never    | FALSE | 0.03533682 |\n",
       "| 6025147 | 43 | Asian | Male   | 4.907 | 1.411 | 115.0 | FALSE | FALSE | Never    | FALSE | 0.01078727 |\n",
       "\n"
      ],
      "text/plain": [
       "       eid     age_at_recruitment ethnic_background sex    cholesterol\n",
       "1      1000285 64                 White             Male   4.484      \n",
       "2      1000686 58                 White             Male   7.139      \n",
       "3      1000974 69                 White             Male   4.302      \n",
       "4      1001073 64                 White             Female 6.944      \n",
       "5      1001098 47                 White             Female 5.389      \n",
       "6      1001119 62                 White             Female 4.833      \n",
       "7      1001458 59                 White             Male   4.879      \n",
       "8      1001517 66                 White             Male   6.353      \n",
       "9      1001591 50                 White             Male   5.675      \n",
       "10     1001741 47                 White             Female 4.880      \n",
       "11     1001759 44                 White             Female 6.177      \n",
       "12     1002001 59                 White             Male   6.449      \n",
       "13     1002182 48                 White             Female 5.381      \n",
       "14     1002213 59                 White             Female 7.881      \n",
       "15     1002710 40                 White             Female 4.482      \n",
       "16     1002811 59                 White             Female 6.842      \n",
       "17     1002977 57                 White             Female 7.024      \n",
       "18     1003288 70                 White             Female 7.540      \n",
       "19     1003535 51                 White             Male   6.688      \n",
       "20     1003631 66                 White             Female 6.136      \n",
       "21     1003650 65                 White             Male   5.621      \n",
       "22     1003884 40                 White             Male   6.472      \n",
       "23     1004007 64                 White             Female 4.113      \n",
       "24     1004083 60                 White             Female 8.257      \n",
       "25     1004105 45                 Black             Male   4.359      \n",
       "26     1004333 50                 White             Female 5.167      \n",
       "27     1004767 47                 White             Male   6.171      \n",
       "28     1004846 47                 White             Male   6.321      \n",
       "29     1005011 56                 White             Male   6.424      \n",
       "30     1005089 66                 White             Female 5.108      \n",
       "<U+22EE> <U+22EE> <U+22EE>           <U+22EE>          <U+22EE> <U+22EE>   \n",
       "395709 6022598 66                 White             Female 6.309      \n",
       "395710 6022635 63                 White             Female 5.859      \n",
       "395711 6022700 70                 White             Male   5.335      \n",
       "395712 6022819 62                 White             Female 6.593      \n",
       "395713 6022826 60                 White             Female 5.140      \n",
       "395714 6022906 60                 White             Female 7.436      \n",
       "395715 6022985 62                 White             Female 7.059      \n",
       "395716 6023018 64                 White             Male   6.302      \n",
       "395717 6023051 45                 White             Female 6.580      \n",
       "395718 6023092 61                 White             Female 6.474      \n",
       "395719 6023206 61                 White             Female 7.172      \n",
       "395720 6023285 63                 White             Male   4.315      \n",
       "395721 6023334 60                 White             Male   6.038      \n",
       "395722 6023815 64                 White             Male   6.563      \n",
       "395723 6023859 46                 Black             Male   4.360      \n",
       "395724 6023888 61                 White             Female 5.472      \n",
       "395725 6023974 62                 White             Male   6.520      \n",
       "395726 6024246 64                 White             Female 6.833      \n",
       "395727 6024470 49                 White             Female 6.200      \n",
       "395728 6024505 58                 White             Male   6.068      \n",
       "395729 6024518 49                 White             Male   6.338      \n",
       "395730 6024543 64                 White             Female 7.986      \n",
       "395731 6024584 47                 White             Female 7.493      \n",
       "395732 6024810 61                 White             Female 7.792      \n",
       "395733 6024835 45                 White             Female 6.853      \n",
       "395734 6024861 44                 White             Female 5.156      \n",
       "395735 6024883 49                 White             Male   6.042      \n",
       "395736 6025060 45                 White             Male   4.907      \n",
       "395737 6025116 52                 White             Female 7.653      \n",
       "395738 6025147 43                 Asian             Male   4.907      \n",
       "       hdl_cholesterol systolic_blood_pressure antihypertensives diabetes2\n",
       "1      0.918           135.5                   FALSE             FALSE    \n",
       "2      1.159           147.5                   FALSE             FALSE    \n",
       "3      1.075           154.0                   FALSE              TRUE    \n",
       "4      1.608           148.0                   FALSE             FALSE    \n",
       "5      1.477           139.5                   FALSE             FALSE    \n",
       "6      1.461           137.5                   FALSE             FALSE    \n",
       "7      1.097           153.0                   FALSE             FALSE    \n",
       "8      1.879           143.5                   FALSE             FALSE    \n",
       "9      1.418           112.5                   FALSE             FALSE    \n",
       "10     1.157           149.0                   FALSE             FALSE    \n",
       "11     1.560           110.0                   FALSE             FALSE    \n",
       "12     1.884           114.0                   FALSE             FALSE    \n",
       "13     1.642           146.5                   FALSE             FALSE    \n",
       "14     1.497           148.0                   FALSE             FALSE    \n",
       "15     1.512           115.5                   FALSE             FALSE    \n",
       "16     2.215           142.5                   FALSE             FALSE    \n",
       "17     2.850           132.5                   FALSE             FALSE    \n",
       "18     1.470           157.5                   FALSE             FALSE    \n",
       "19     0.876           145.5                   FALSE             FALSE    \n",
       "20     1.159           113.5                   FALSE             FALSE    \n",
       "21     1.536           147.5                   FALSE             FALSE    \n",
       "22     1.076           128.0                   FALSE             FALSE    \n",
       "23     0.705           136.0                   FALSE             FALSE    \n",
       "24     1.266           160.5                   FALSE             FALSE    \n",
       "25     1.375           149.0                   FALSE             FALSE    \n",
       "26     1.327           148.0                   FALSE             FALSE    \n",
       "27     1.050           151.0                   FALSE             FALSE    \n",
       "28     1.487           119.0                   FALSE             FALSE    \n",
       "29     1.648           175.0                   FALSE             FALSE    \n",
       "30     1.447           120.5                   FALSE             FALSE    \n",
       "<U+22EE> <U+22EE>        <U+22EE>                <U+22EE>          <U+22EE> \n",
       "395709 1.759           160.0                   FALSE             FALSE    \n",
       "395710 1.699           159.5                   FALSE             FALSE    \n",
       "395711 1.198           163.0                   FALSE             FALSE    \n",
       "395712 1.560           117.5                   FALSE             FALSE    \n",
       "395713 1.425           134.0                   FALSE             FALSE    \n",
       "395714 1.952           131.0                   FALSE             FALSE    \n",
       "395715 2.340           137.5                   FALSE             FALSE    \n",
       "395716 0.916           145.5                   FALSE             FALSE    \n",
       "395717 1.404           118.5                   FALSE             FALSE    \n",
       "395718 1.504           136.0                   FALSE             FALSE    \n",
       "395719 2.400           154.0                   FALSE             FALSE    \n",
       "395720 0.588           142.0                   FALSE             FALSE    \n",
       "395721 1.060           135.0                   FALSE             FALSE    \n",
       "395722 1.398           127.0                   FALSE             FALSE    \n",
       "395723 1.082           141.5                   FALSE             FALSE    \n",
       "395724 2.153           164.5                   FALSE             FALSE    \n",
       "395725 0.942           138.5                   FALSE             FALSE    \n",
       "395726 1.472           131.5                   FALSE             FALSE    \n",
       "395727 2.116           148.0                   FALSE             FALSE    \n",
       "395728 1.048           147.0                   FALSE             FALSE    \n",
       "395729 1.301           155.5                   FALSE             FALSE    \n",
       "395730 1.502           139.0                   FALSE             FALSE    \n",
       "395731 1.945           128.0                   FALSE             FALSE    \n",
       "395732 1.694           145.0                   FALSE             FALSE    \n",
       "395733 1.539           135.0                   FALSE             FALSE    \n",
       "395734 0.977           128.0                   FALSE             FALSE    \n",
       "395735 1.241           127.0                   FALSE             FALSE    \n",
       "395736 1.137           132.5                   FALSE             FALSE    \n",
       "395737 1.604           167.5                   FALSE             FALSE    \n",
       "395738 1.411           115.0                   FALSE             FALSE    \n",
       "       smoking_status current_smoker score_ASCVD\n",
       "1      Never          FALSE          0.143205008\n",
       "2      Never          FALSE          0.137819883\n",
       "3      Previous       FALSE          0.386665084\n",
       "4      Never          FALSE          0.073762156\n",
       "5      Never          FALSE          0.011394640\n",
       "6      Previous       FALSE          0.043826887\n",
       "7      Current         TRUE          0.184407293\n",
       "8      Previous       FALSE          0.154071008\n",
       "9      Never          FALSE          0.028630793\n",
       "10     Previous       FALSE          0.015815727\n",
       "11     Never          FALSE          0.006567331\n",
       "12     Previous       FALSE          0.060675171\n",
       "13     Never          FALSE          0.011755503\n",
       "14     Previous       FALSE          0.053596257\n",
       "15     Never          FALSE          0.003121729\n",
       "16     Never          FALSE          0.033436135\n",
       "17     Previous       FALSE          0.019330514\n",
       "18     Never          FALSE          0.153816413\n",
       "19     Never          FALSE          0.099090730\n",
       "20     Previous       FALSE          0.057791311\n",
       "21     Never          FALSE          0.154145834\n",
       "22     Previous       FALSE          0.022764260\n",
       "23     Previous       FALSE          0.068493283\n",
       "24     Never          FALSE          0.078568847\n",
       "25     Current         TRUE          0.085530257\n",
       "26     Previous       FALSE          0.017895970\n",
       "27     Never          FALSE          0.056475791\n",
       "28     Current         TRUE          0.064303517\n",
       "29     Never          FALSE          0.107297652\n",
       "30     Never          FALSE          0.054585602\n",
       "<U+22EE> <U+22EE>       <U+22EE>       <U+22EE>   \n",
       "395709 Previous       FALSE          0.09574848 \n",
       "395710 Previous       FALSE          0.06756539 \n",
       "395711 Never          FALSE          0.27527480 \n",
       "395712 Current         TRUE          0.07620732 \n",
       "395713 Never          FALSE          0.03579095 \n",
       "395714 Never          FALSE          0.03693190 \n",
       "395715 Previous       FALSE          0.04326065 \n",
       "395716 Previous       FALSE          0.20415579 \n",
       "395717 Never          FALSE          0.01070025 \n",
       "395718 Never          FALSE          0.04668794 \n",
       "395719 Previous       FALSE          0.04775392 \n",
       "395720 Previous       FALSE          0.18297574 \n",
       "395721 Never          FALSE          0.12451617 \n",
       "395722 Never          FALSE          0.13225327 \n",
       "395723 Never          FALSE          0.05204528 \n",
       "395724 Previous       FALSE          0.04765866 \n",
       "395725 Previous       FALSE          0.16982618 \n",
       "395726 Previous       FALSE          0.06091005 \n",
       "395727 Current         TRUE          0.03402195 \n",
       "395728 Never          FALSE          0.12637519 \n",
       "395729 Never          FALSE          0.05838098 \n",
       "395730 Never          FALSE          0.07322825 \n",
       "395731 Current         TRUE          0.03404419 \n",
       "395732 Current         TRUE          0.11267643 \n",
       "395733 Never          FALSE          0.01276662 \n",
       "395734 Never          FALSE          0.01394681 \n",
       "395735 Never          FALSE          0.04046171 \n",
       "395736 Never          FALSE          0.02311942 \n",
       "395737 Never          FALSE          0.03533682 \n",
       "395738 Never          FALSE          0.01078727 "
      ]
     },
     "metadata": {},
     "output_type": "display_data"
    }
   ],
   "source": [
    "temp"
   ]
  },
  {
   "cell_type": "markdown",
   "metadata": {},
   "source": [
    "## UK QRISK3 (Hippisley-Cox 2017)"
   ]
  },
  {
   "cell_type": "markdown",
   "metadata": {},
   "source": [
    "[Hippisley-Cox 2017](https://www.bmj.com/content/357/bmj.j2099)"
   ]
  },
  {
   "cell_type": "raw",
   "metadata": {},
   "source": [
    "Population: 25-84J\n",
    "Exclusion: Diagnosis of coronary heart disease (Angina/Heart attack) or Stroke/TIA\n",
    "Endpoints: Composite outcome of CHD, ischemic Stroke or TIA record in GP, Hospital or Mortality records\n",
    "ICD10: G45, I20, I21, I22, I23, I24, I25, I63, I64"
   ]
  },
  {
   "cell_type": "code",
   "execution_count": 16,
   "metadata": {
    "ExecuteTime": {
     "end_time": "2020-11-04T09:40:22.037710Z",
     "start_time": "2020-11-04T09:40:15.383Z"
    }
   },
   "outputs": [],
   "source": [
    "options(warn=-1)\n",
    "library(QRISK3)\n",
    "temp = head(data)\n",
    "temp = as.data.frame(data %>% \n",
    "                     mutate_if(is.logical, as.integer) %>%\n",
    "                     mutate(cholesterol_HDL_ratio=cholesterol/hdl_cholesterol, \n",
    "                            gender=case_when(sex==\"Female\"~1, sex==\"Male\"~0),\n",
    "                            ethnicity=case_when(ethnic_background == \"White\" ~ 1,\n",
    "                                                ethnic_background == \"Asian\" ~ 5,\n",
    "                                                ethnic_background == \"Black\" ~ 1,\n",
    "                                                ethnic_background == \"Chinese\" ~ 5,\n",
    "                                                ethnic_background == \"Mixed\" ~ 1,\n",
    "                                                TRUE ~ 1\n",
    "                                               ),\n",
    "                            smoke=case_when(smoking_status == \"Never\" ~ 1,\n",
    "                                            smoking_status == \"Previous\" ~ 2,\n",
    "                                            smoking_status == \"Current\" ~ 4,\n",
    "                                            ),\n",
    "                            age = as.numeric(age_at_recruitment),\n",
    "                            std_systolic_blood_pressure = 9.002537727355957,\n",
    "                           ) #%>% drop_na()\n",
    "                    )"
   ]
  },
  {
   "cell_type": "code",
   "execution_count": 17,
   "metadata": {
    "ExecuteTime": {
     "end_time": "2020-11-04T09:40:42.773146Z",
     "start_time": "2020-11-04T09:40:41.164Z"
    }
   },
   "outputs": [
    {
     "name": "stderr",
     "output_type": "stream",
     "text": [
      "\n",
      "This R package was based on open-sourced original QRISK3-2017 algorithm.\n",
      "\n",
      "<https://qrisk.org/three/src.php> Copyright 2017 ClinRisk Ltd.\n",
      "\n",
      "\n",
      "The risk score calculated from this R package can only be used for research purpose.\n",
      "\n",
      "\n",
      "Please refer to QRISK3 website for more information\n",
      "\n",
      "<https://qrisk.org/three/index.php>\n",
      "\n",
      "\n",
      "Important: Please double check whether your variables are coded the same as the QRISK3 calculator\n",
      "\n",
      "\n",
      "Height should have unit as (cm)\n",
      "\n",
      "Weight should have unit as (kg)\n",
      "\n",
      "\n",
      "Ethiniciy should be coded as: \n",
      "\n",
      "   Ethiniciy_category Ethinicity\n",
      "1 White or not stated          1\n",
      "2              Indian          2\n",
      "3           Pakistani          3\n",
      "4         Bangladeshi          4\n",
      "5         Other Asian          5\n",
      "6     Black Caribbean          6\n",
      "\n",
      "\n",
      "Smoke should be coded as: \n",
      "\n",
      "               Smoke_category Smoke\n",
      "1                  non-smoker     1\n",
      "2                   ex-smoker     2\n",
      "3 light smoker (less than 10)     3\n",
      "4  moderate smoker (10 to 19)     4\n",
      "5   heavy smoker (20 or over)     5\n",
      "\n",
      "\n",
      "The head of result in all patients is:\n",
      "\n",
      "\n",
      "      eid QRISK3_2017 QRISK3_2017_1digit\n",
      "1 1000285   20.871601               20.9\n",
      "2 1000686   19.559240               19.6\n",
      "3 1000974   32.595680               32.6\n",
      "4 1001073    8.159153                8.2\n",
      "5 1001098    2.239020                2.2\n",
      "6 1001119    8.931211                8.9\n",
      "\n"
     ]
    }
   ],
   "source": [
    "options(warn=0)\n",
    "QRISK3_df = QRISK3_2017(data = temp, \n",
    "            patid=\"eid\", \n",
    "            gender=\"gender\", \n",
    "            age=\"age\", \n",
    "            atrial_fibrillation=\"atrial_fibrillation\", \n",
    "            atypical_antipsy=\"atypical_antipsychotics\", \n",
    "            regular_steroid_tablets=\"glucocorticoids\",\n",
    "            erectile_disfunction=\"erectile_dysfunction\",\n",
    "            migraine=\"migraine\",\n",
    "            rheumatoid_arthritis=\"rheumatoid_arthritis\",\n",
    "            chronic_kidney_disease=\"chronic_kidney_disease\",\n",
    "            severe_mental_illness=\"severe_mental_illness\",\n",
    "            systemic_lupus_erythematosis=\"systemic_lupus_erythematosus\",\n",
    "            blood_pressure_treatment=\"antihypertensives\",\n",
    "            diabetes1=\"diabetes1\",\n",
    "            diabetes2=\"diabetes2\",\n",
    "            weight=\"weight\",\n",
    "            height=\"standing_height\",\n",
    "            ethiniciy=\"ethnicity\",\n",
    "            heart_attack_relative=\"fh_heart_disease\",\n",
    "            cholesterol_HDL_ratio = \"cholesterol_HDL_ratio\",\n",
    "            systolic_blood_pressure = \"systolic_blood_pressure\",\n",
    "            std_systolic_blood_pressure = \"std_systolic_blood_pressure\", ### MISSING!\n",
    "            smoke = \"smoke\",\n",
    "            townsend = \"townsend_deprivation_index_at_recruitment\")\n",
    "QRISK3_df = QRISK3_df %>% mutate(score_QRISK3=QRISK3_2017/100) %>% select(c(eid, score_QRISK3)) "
   ]
  },
  {
   "cell_type": "code",
   "execution_count": 18,
   "metadata": {
    "ExecuteTime": {
     "end_time": "2020-11-04T09:40:44.271222Z",
     "start_time": "2020-11-04T09:40:43.588Z"
    }
   },
   "outputs": [
    {
     "data": {
      "text/html": [
       "395738"
      ],
      "text/latex": [
       "395738"
      ],
      "text/markdown": [
       "395738"
      ],
      "text/plain": [
       "[1] 395738"
      ]
     },
     "metadata": {},
     "output_type": "display_data"
    }
   ],
   "source": [
    "nrow(QRISK3_df)"
   ]
  },
  {
   "cell_type": "markdown",
   "metadata": {},
   "source": [
    "# JOIN SCORE OUTPUTS"
   ]
  },
  {
   "cell_type": "code",
   "execution_count": 23,
   "metadata": {
    "ExecuteTime": {
     "end_time": "2020-11-04T09:41:08.487583Z",
     "start_time": "2020-11-04T09:41:07.046Z"
    }
   },
   "outputs": [],
   "source": [
    "score_df = SCORE_df %>% left_join(ASCVD_df, by=\"eid\") %>% left_join(QRISK3_df, by=\"eid\") %>% arrange(eid)\n",
    "score_df %>% write_csv(glue(\"{dataset_path}/predictions_scores.csv\"))"
   ]
  },
  {
   "cell_type": "code",
   "execution_count": 25,
   "metadata": {},
   "outputs": [
    {
     "data": {
      "text/html": [
       "'/data/analysis/ag-reils/ag-reils-shared/cardioRS/data/3_datasets_post/210223_cvd_gp/predictions_scores.csv'"
      ],
      "text/latex": [
       "'/data/analysis/ag-reils/ag-reils-shared/cardioRS/data/3\\_datasets\\_post/210223\\_cvd\\_gp/predictions\\_scores.csv'"
      ],
      "text/markdown": [
       "'/data/analysis/ag-reils/ag-reils-shared/cardioRS/data/3_datasets_post/210223_cvd_gp/predictions_scores.csv'"
      ],
      "text/plain": [
       "/data/analysis/ag-reils/ag-reils-shared/cardioRS/data/3_datasets_post/210223_cvd_gp/predictions_scores.csv"
      ]
     },
     "metadata": {},
     "output_type": "display_data"
    }
   ],
   "source": [
    "glue(\"{dataset_path}/predictions_scores.csv\")"
   ]
  },
  {
   "cell_type": "code",
   "execution_count": 24,
   "metadata": {},
   "outputs": [
    {
     "data": {
      "text/html": [
       "'/data/analysis/ag-reils/steinfej/data/2_datasets_pre/210223_cvd_gp/predictions_coxph.csv'"
      ],
      "text/latex": [
       "'/data/analysis/ag-reils/steinfej/data/2\\_datasets\\_pre/210223\\_cvd\\_gp/predictions\\_coxph.csv'"
      ],
      "text/markdown": [
       "'/data/analysis/ag-reils/steinfej/data/2_datasets_pre/210223_cvd_gp/predictions_coxph.csv'"
      ],
      "text/plain": [
       "[1] \"/data/analysis/ag-reils/steinfej/data/2_datasets_pre/210223_cvd_gp/predictions_coxph.csv\""
      ]
     },
     "metadata": {},
     "output_type": "display_data"
    }
   ],
   "source": [
    "\"/data/analysis/ag-reils/steinfej/data/2_datasets_pre/210223_cvd_gp/predictions_coxph.csv\""
   ]
  },
  {
   "cell_type": "code",
   "execution_count": 26,
   "metadata": {},
   "outputs": [
    {
     "data": {
      "text/html": [
       "'/data/analysis/ag-reils/steinfej/data/3_datasets_post/210223_cvd_gp/predictions_scores.csv'"
      ],
      "text/latex": [
       "'/data/analysis/ag-reils/steinfej/data/3\\_datasets\\_post/210223\\_cvd\\_gp/predictions\\_scores.csv'"
      ],
      "text/markdown": [
       "'/data/analysis/ag-reils/steinfej/data/3_datasets_post/210223_cvd_gp/predictions_scores.csv'"
      ],
      "text/plain": [
       "[1] \"/data/analysis/ag-reils/steinfej/data/3_datasets_post/210223_cvd_gp/predictions_scores.csv\""
      ]
     },
     "metadata": {},
     "output_type": "display_data"
    }
   ],
   "source": [
    "'/data/analysis/ag-reils/steinfej/data/3_datasets_post/210223_cvd_gp/predictions_scores.csv'"
   ]
  }
 ],
 "metadata": {
  "kernelspec": {
   "display_name": "R [conda env:python]",
   "language": "R",
   "name": "conda-env-python-r"
  },
  "language_info": {
   "codemirror_mode": "r",
   "file_extension": ".r",
   "mimetype": "text/x-r-source",
   "name": "R",
   "pygments_lexer": "r",
   "version": "4.0.3"
  }
 },
 "nbformat": 4,
 "nbformat_minor": 4
}
